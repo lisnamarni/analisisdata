{
 "cells": [
  {
   "cell_type": "code",
   "execution_count": 16,
   "id": "165fcd6a",
   "metadata": {},
   "outputs": [],
   "source": [
    "#Import library yang dibutuhkan untuk proses pre-processing\n",
    "import pandas as pd\n",
    "import numpy as np\n",
    "import string #library untuk bekerja dengan text\n",
    "import re #import modul regular expression # regex untuk membersihkan kata kata tweet"
   ]
  },
  {
   "cell_type": "code",
   "execution_count": 17,
   "id": "efba0a80",
   "metadata": {},
   "outputs": [
    {
     "data": {
      "text/html": [
       "<div>\n",
       "<style scoped>\n",
       "    .dataframe tbody tr th:only-of-type {\n",
       "        vertical-align: middle;\n",
       "    }\n",
       "\n",
       "    .dataframe tbody tr th {\n",
       "        vertical-align: top;\n",
       "    }\n",
       "\n",
       "    .dataframe thead th {\n",
       "        text-align: right;\n",
       "    }\n",
       "</style>\n",
       "<table border=\"1\" class=\"dataframe\">\n",
       "  <thead>\n",
       "    <tr style=\"text-align: right;\">\n",
       "      <th></th>\n",
       "      <th>text</th>\n",
       "      <th>label</th>\n",
       "    </tr>\n",
       "  </thead>\n",
       "  <tbody>\n",
       "    <tr>\n",
       "      <th>0</th>\n",
       "      <td>demi proses pendidikan yg ideal sya mendukung ...</td>\n",
       "      <td>Positif</td>\n",
       "    </tr>\n",
       "    <tr>\n",
       "      <th>1</th>\n",
       "      <td>sambut sekolah tatap muka sekolah di semarang ...</td>\n",
       "      <td>Positif</td>\n",
       "    </tr>\n",
       "    <tr>\n",
       "      <th>2</th>\n",
       "      <td>lihat hari ini puluhan sekolah di pemalang mul...</td>\n",
       "      <td>Positif</td>\n",
       "    </tr>\n",
       "    <tr>\n",
       "      <th>3</th>\n",
       "      <td>menko pmk muhadjir effendy meminta sekolah yan...</td>\n",
       "      <td>Positif</td>\n",
       "    </tr>\n",
       "    <tr>\n",
       "      <th>4</th>\n",
       "      <td>duh di petarukan pemalang sekolah tatap muka d...</td>\n",
       "      <td>Negatif</td>\n",
       "    </tr>\n",
       "    <tr>\n",
       "      <th>...</th>\n",
       "      <td>...</td>\n",
       "      <td>...</td>\n",
       "    </tr>\n",
       "    <tr>\n",
       "      <th>5193</th>\n",
       "      <td>siswa sd sampe gunungkidul sekolah tatap muka</td>\n",
       "      <td>Positif</td>\n",
       "    </tr>\n",
       "    <tr>\n",
       "      <th>5194</th>\n",
       "      <td>perintah kota tangerang selatan izin siswa gia...</td>\n",
       "      <td>Negatif</td>\n",
       "    </tr>\n",
       "    <tr>\n",
       "      <th>5195</th>\n",
       "      <td>timbang sekolah tatap muka hak asasi orang tua...</td>\n",
       "      <td>Negatif</td>\n",
       "    </tr>\n",
       "    <tr>\n",
       "      <th>5196</th>\n",
       "      <td>ombudsman jakarta raya pemprov dki jawa barat ...</td>\n",
       "      <td>Positif</td>\n",
       "    </tr>\n",
       "    <tr>\n",
       "      <th>5197</th>\n",
       "      <td>uji coba sekolah tatap muka laku efektif lifes...</td>\n",
       "      <td>Negatif</td>\n",
       "    </tr>\n",
       "  </tbody>\n",
       "</table>\n",
       "<p>5198 rows × 2 columns</p>\n",
       "</div>"
      ],
      "text/plain": [
       "                                                   text    label\n",
       "0     demi proses pendidikan yg ideal sya mendukung ...  Positif\n",
       "1     sambut sekolah tatap muka sekolah di semarang ...  Positif\n",
       "2     lihat hari ini puluhan sekolah di pemalang mul...  Positif\n",
       "3     menko pmk muhadjir effendy meminta sekolah yan...  Positif\n",
       "4     duh di petarukan pemalang sekolah tatap muka d...  Negatif\n",
       "...                                                 ...      ...\n",
       "5193      siswa sd sampe gunungkidul sekolah tatap muka  Positif\n",
       "5194  perintah kota tangerang selatan izin siswa gia...  Negatif\n",
       "5195  timbang sekolah tatap muka hak asasi orang tua...  Negatif\n",
       "5196  ombudsman jakarta raya pemprov dki jawa barat ...  Positif\n",
       "5197  uji coba sekolah tatap muka laku efektif lifes...  Negatif\n",
       "\n",
       "[5198 rows x 2 columns]"
      ]
     },
     "execution_count": 17,
     "metadata": {},
     "output_type": "execute_result"
    }
   ],
   "source": [
    "#Import data CSV yang ingin diproses dalam tahapan pre-processing\n",
    "header_list = [\"text\",\"label\"]\n",
    "data_label = pd.read_csv('D:/crawling/prosesing ta1.csv', names=header_list)\n",
    "data_label"
   ]
  },
  {
   "cell_type": "code",
   "execution_count": 18,
   "id": "3796e1bb",
   "metadata": {},
   "outputs": [
    {
     "data": {
      "text/plain": [
       "<AxesSubplot:>"
      ]
     },
     "execution_count": 18,
     "metadata": {},
     "output_type": "execute_result"
    },
    {
     "data": {
      "image/png": "[encoded data removed]",
      "text/plain": [
       "<Figure size 432x288 with 1 Axes>"
      ]
     },
     "metadata": {
      "needs_background": "light"
     },
     "output_type": "display_data"
    }
   ],
   "source": [
    "# Import Matplotlib Dan Seaborn\n",
    "import matplotlib.pyplot as plt\n",
    "import seaborn as sns\n",
    "%matplotlib inline\n",
    "\n",
    "data_label.label.value_counts().plot(kind='bar')\n"
   ]
  },
  {
   "cell_type": "code",
   "execution_count": 19,
   "id": "7a44c023",
   "metadata": {},
   "outputs": [
    {
     "data": {
      "image/png": "[encoded data removed]",
      "text/plain": [
       "<Figure size 432x288 with 1 Axes>"
      ]
     },
     "metadata": {},
     "output_type": "display_data"
    }
   ],
   "source": [
    "#Data to plot\n",
    "# labels = ['negative','positive']\n",
    "# colors = (\"#FF968A\",\"#6EB5FF\")\n",
    "\n",
    "labels = ['negative','positive']\n",
    "colors = (\"#FF5F6D\",\"#6EB5FF\")\n",
    "\n",
    "explode = (0.01,0.1) #explode 1st slice\n",
    "\n",
    "#plot\n",
    "fig,ax = plt.subplots()\n",
    "ax.pie(data_label.label.value_counts(), labels=labels, autopct='%.1f%%', explode=explode, shadow=True, colors=colors)\n",
    "ax.legend(labels,loc='best')\n",
    "ax.set_aspect('equal')\n",
    "plt.tight_layout\n",
    "plt.show()"
   ]
  },
  {
   "cell_type": "code",
   "execution_count": 20,
   "id": "8776b0b1",
   "metadata": {},
   "outputs": [],
   "source": [
    "#Import library untuk melakukan proses klasifikasi, validasi maupun evaluasi\n",
    "from time import time #untuk proses perhitungan waktu komputasi\n",
    "from sklearn.model_selection import GridSearchCV #untuk proses penyetelan parameter\n",
    "from sklearn.pipeline import Pipeline #untuk menampung beberapa tahapan untuk proses klasifikasi yang dimana pembelajaran \n",
    "#mesin dapat berjalan otomatis secara bersama berurutan bergantian tetapi dalam tahap berbeda.\n",
    "from sklearn.feature_extraction.text import TfidfVectorizer #untuk proses pembobotan kata dengan pemberian bobot nilai kepada \n",
    "#sebuah kata dengan melihat frekuensi relatif kemunculan kata dalam dokumen teks\n",
    "from sklearn.naive_bayes import MultinomialNB\n",
    "from sklearn.svm import SVC #untuk proses klasifikasi dalam algoritma SVM\n",
    "from sklearn.neighbors import KNeighborsClassifier #untuk proses klasifikasi dalam algoritma K-NN\n",
    "from sklearn.model_selection import train_test_split #untuk proses pembagian data training maupun testing\n",
    "from sklearn.model_selection import KFold #Untuk proses KFoldValidation\n",
    "from sklearn.model_selection import cross_val_score #untuk proses validasi dengan nilai perulangan sesuai nilai K\n",
    "from sklearn import metrics \n",
    "from sklearn.metrics import classification_report #untuk proses menampilkan evaluasi\n",
    "from sklearn.metrics import accuracy_score #untuk proses menampilkan hasil akurasi dari proses model klasifikasi\n",
    "from sklearn.metrics import precision_recall_curve #untuk proses menampilkan hasil presisi dan recall dari proses model klasifikasi\n",
    "from sklearn.metrics import f1_score #untuk proses menampilkan hasil f1-score dari proses model klasifikasi\n"
   ]
  },
  {
   "cell_type": "code",
   "execution_count": 21,
   "id": "fc7f1d54",
   "metadata": {},
   "outputs": [
    {
     "name": "stdout",
     "output_type": "stream",
     "text": [
      "0    2973\n",
      "1    2225\n",
      "Name: label, dtype: int64\n"
     ]
    },
    {
     "data": {
      "text/html": [
       "<div>\n",
       "<style scoped>\n",
       "    .dataframe tbody tr th:only-of-type {\n",
       "        vertical-align: middle;\n",
       "    }\n",
       "\n",
       "    .dataframe tbody tr th {\n",
       "        vertical-align: top;\n",
       "    }\n",
       "\n",
       "    .dataframe thead th {\n",
       "        text-align: right;\n",
       "    }\n",
       "</style>\n",
       "<table border=\"1\" class=\"dataframe\">\n",
       "  <thead>\n",
       "    <tr style=\"text-align: right;\">\n",
       "      <th></th>\n",
       "      <th>text</th>\n",
       "      <th>label</th>\n",
       "    </tr>\n",
       "  </thead>\n",
       "  <tbody>\n",
       "    <tr>\n",
       "      <th>0</th>\n",
       "      <td>demi proses pendidikan yg ideal sya mendukung ...</td>\n",
       "      <td>1</td>\n",
       "    </tr>\n",
       "    <tr>\n",
       "      <th>1</th>\n",
       "      <td>sambut sekolah tatap muka sekolah di semarang ...</td>\n",
       "      <td>1</td>\n",
       "    </tr>\n",
       "    <tr>\n",
       "      <th>2</th>\n",
       "      <td>lihat hari ini puluhan sekolah di pemalang mul...</td>\n",
       "      <td>1</td>\n",
       "    </tr>\n",
       "    <tr>\n",
       "      <th>3</th>\n",
       "      <td>menko pmk muhadjir effendy meminta sekolah yan...</td>\n",
       "      <td>1</td>\n",
       "    </tr>\n",
       "    <tr>\n",
       "      <th>4</th>\n",
       "      <td>duh di petarukan pemalang sekolah tatap muka d...</td>\n",
       "      <td>0</td>\n",
       "    </tr>\n",
       "    <tr>\n",
       "      <th>...</th>\n",
       "      <td>...</td>\n",
       "      <td>...</td>\n",
       "    </tr>\n",
       "    <tr>\n",
       "      <th>5193</th>\n",
       "      <td>siswa sd sampe gunungkidul sekolah tatap muka</td>\n",
       "      <td>1</td>\n",
       "    </tr>\n",
       "    <tr>\n",
       "      <th>5194</th>\n",
       "      <td>perintah kota tangerang selatan izin siswa gia...</td>\n",
       "      <td>0</td>\n",
       "    </tr>\n",
       "    <tr>\n",
       "      <th>5195</th>\n",
       "      <td>timbang sekolah tatap muka hak asasi orang tua...</td>\n",
       "      <td>0</td>\n",
       "    </tr>\n",
       "    <tr>\n",
       "      <th>5196</th>\n",
       "      <td>ombudsman jakarta raya pemprov dki jawa barat ...</td>\n",
       "      <td>1</td>\n",
       "    </tr>\n",
       "    <tr>\n",
       "      <th>5197</th>\n",
       "      <td>uji coba sekolah tatap muka laku efektif lifes...</td>\n",
       "      <td>0</td>\n",
       "    </tr>\n",
       "  </tbody>\n",
       "</table>\n",
       "<p>5198 rows × 2 columns</p>\n",
       "</div>"
      ],
      "text/plain": [
       "                                                   text  label\n",
       "0     demi proses pendidikan yg ideal sya mendukung ...      1\n",
       "1     sambut sekolah tatap muka sekolah di semarang ...      1\n",
       "2     lihat hari ini puluhan sekolah di pemalang mul...      1\n",
       "3     menko pmk muhadjir effendy meminta sekolah yan...      1\n",
       "4     duh di petarukan pemalang sekolah tatap muka d...      0\n",
       "...                                                 ...    ...\n",
       "5193      siswa sd sampe gunungkidul sekolah tatap muka      1\n",
       "5194  perintah kota tangerang selatan izin siswa gia...      0\n",
       "5195  timbang sekolah tatap muka hak asasi orang tua...      0\n",
       "5196  ombudsman jakarta raya pemprov dki jawa barat ...      1\n",
       "5197  uji coba sekolah tatap muka laku efektif lifes...      0\n",
       "\n",
       "[5198 rows x 2 columns]"
      ]
     },
     "execution_count": 21,
     "metadata": {},
     "output_type": "execute_result"
    }
   ],
   "source": [
    "#mengubah  Sentimen Kedalam Bentuk Angka\n",
    "# konversi sentimen yang berupa kata menjadi sebuah angka\n",
    "#positif 1\n",
    "#negatif 0\n",
    "data_label['label'] = data_label.label.map(lambda x: int(1) if x =='Positif' else int(0) if x =='Negatif' else np.nan)\n",
    "print(data_label['label'].value_counts())\n",
    "data_label\n",
    "\n"
   ]
  },
  {
   "cell_type": "code",
   "execution_count": 22,
   "id": "ecff1a65",
   "metadata": {},
   "outputs": [
    {
     "data": {
      "text/plain": [
       "<AxesSubplot:>"
      ]
     },
     "execution_count": 22,
     "metadata": {},
     "output_type": "execute_result"
    },
    {
     "data": {
      "image/png": "[encoded data removed]",
      "text/plain": [
       "<Figure size 432x288 with 1 Axes>"
      ]
     },
     "metadata": {
      "needs_background": "light"
     },
     "output_type": "display_data"
    }
   ],
   "source": [
    "# Import Matplotlib Dan Seaborn\n",
    "import matplotlib.pyplot as plt\n",
    "import seaborn as sns\n",
    "%matplotlib inline\n",
    "\n",
    "data_label.label.value_counts().plot(kind='bar')\n"
   ]
  },
  {
   "cell_type": "code",
   "execution_count": 23,
   "id": "f1660b78",
   "metadata": {},
   "outputs": [
    {
     "data": {
      "text/html": [
       "<div>\n",
       "<style scoped>\n",
       "    .dataframe tbody tr th:only-of-type {\n",
       "        vertical-align: middle;\n",
       "    }\n",
       "\n",
       "    .dataframe tbody tr th {\n",
       "        vertical-align: top;\n",
       "    }\n",
       "\n",
       "    .dataframe thead th {\n",
       "        text-align: right;\n",
       "    }\n",
       "</style>\n",
       "<table border=\"1\" class=\"dataframe\">\n",
       "  <thead>\n",
       "    <tr style=\"text-align: right;\">\n",
       "      <th></th>\n",
       "      <th>text</th>\n",
       "      <th>label</th>\n",
       "    </tr>\n",
       "  </thead>\n",
       "  <tbody>\n",
       "    <tr>\n",
       "      <th>4</th>\n",
       "      <td>duh di petarukan pemalang sekolah tatap muka d...</td>\n",
       "      <td>0</td>\n",
       "    </tr>\n",
       "    <tr>\n",
       "      <th>6</th>\n",
       "      <td>pemerintah kabupaten pemkab klaten saat ini be...</td>\n",
       "      <td>0</td>\n",
       "    </tr>\n",
       "    <tr>\n",
       "      <th>9</th>\n",
       "      <td>pts luring covid sebenarnya saya bertanyatanya...</td>\n",
       "      <td>0</td>\n",
       "    </tr>\n",
       "    <tr>\n",
       "      <th>17</th>\n",
       "      <td>keren tu tetiba sekolah gua drop masuk tatap m...</td>\n",
       "      <td>0</td>\n",
       "    </tr>\n",
       "    <tr>\n",
       "      <th>26</th>\n",
       "      <td>bokep viral lagi guys setelah parakan muncul l...</td>\n",
       "      <td>0</td>\n",
       "    </tr>\n",
       "  </tbody>\n",
       "</table>\n",
       "</div>"
      ],
      "text/plain": [
       "                                                 text  label\n",
       "4   duh di petarukan pemalang sekolah tatap muka d...      0\n",
       "6   pemerintah kabupaten pemkab klaten saat ini be...      0\n",
       "9   pts luring covid sebenarnya saya bertanyatanya...      0\n",
       "17  keren tu tetiba sekolah gua drop masuk tatap m...      0\n",
       "26  bokep viral lagi guys setelah parakan muncul l...      0"
      ]
     },
     "execution_count": 23,
     "metadata": {},
     "output_type": "execute_result"
    }
   ],
   "source": [
    "df = data_label[data_label['label']== 0]\n",
    "df.head()"
   ]
  },
  {
   "cell_type": "code",
   "execution_count": 27,
   "id": "528ad4ab",
   "metadata": {},
   "outputs": [],
   "source": [
    "#Proses untuk pembagian dataset training dan testing\n",
    "\n",
    "#Membangun One-dimensional array dan N-dimensional array dengan nilai random. \n",
    "#Gunakan fungsi np.random.randint(batas atas, size=dimensi array)\n",
    "\n",
    "#np.random.randint(low, high=None, size=None, dtype=int)\n",
    "#Fungsi untuk melakukan pengambilan sampel secara acak di numpy\n",
    "#Membuat variabel index yang berguna untuk menghilangkan index pada data\n",
    "idx = np.random.randint(0,2000,2000)\n",
    "\n",
    "#.loc = membaca baris berdasarkan index\n",
    "reduce_data = data_label.loc[idx] \n",
    "\"\"\"\n",
    "Membaca setiap baris data yang ada di dataframe data label berdasarkan hasil pengacakan pada variabel idx yang sudah melakukan \n",
    "pengambilan sampel secara acak, kemudian dari proses tersebut disimpan lagi di dalam dataframe reduce_data\n",
    "\"\"\"\n",
    "data_train,data_test=train_test_split(reduce_data,test_size = 0.1) \n",
    "\"\"\"\n",
    "Membagi data dengan menggunakan fungsi train_test_split yang dimana parameter masukan berisi dataframe\n",
    "reduce_data=data yang sudah dibaca perbarisnya, serta ukuran pembagian datanya, disini 0.2 artinya \n",
    "pembagian data menghasilkan data testing sebanyak 20% dan sisanya data training. Data tersebut akan \n",
    "disimpan ke dalam variabel data_train dan data_test yang dimana \n",
    "\"\"\"\n",
    "#Menetapkan isi dari variabel train dan test yang termasuk isi dari data training dan testing dalam bentuk list\n",
    "train = data_train[['text','label']].reset_index().drop('index',axis=1)\n",
    "test = data_test[['text','label']].reset_index().drop('index',axis=1)\n",
    "#Menggunakan fungsi drop () untuk mengambil semua data lainnya di index. Kemudian, dibagi datanya."
   ]
  },
  {
   "cell_type": "code",
   "execution_count": 28,
   "id": "1ced125d",
   "metadata": {},
   "outputs": [],
   "source": [
    "train.to_csv('D:/crawling/traincoba1.csv', header=None, index=False)\n",
    "test.to_csv('D:/crawling/testcoba1.csv', header=None, index=False)\n"
   ]
  },
  {
   "cell_type": "code",
   "execution_count": 29,
   "id": "1f8baa50",
   "metadata": {},
   "outputs": [],
   "source": [
    "header_list = [\"text\",\"label\"]\n",
    "train = pd.read_csv('D:/crawling/traincoba1.csv',names=header_list)\n",
    "test = pd.read_csv('D:/crawling/testcoba1.csv', names=header_list)"
   ]
  },
  {
   "cell_type": "code",
   "execution_count": 30,
   "id": "b5fc539d",
   "metadata": {},
   "outputs": [],
   "source": [
    "\"\"\"\n",
    "Proses mendefinisikan atau seleksi kolom yang menjadi prediktor maupun output ke dalam variabel X dan y dalam set pelatihan\n",
    "maupun pengujian yang dimana dari kedua variabel tersebut memiliki peran sebagai variabel independen dan dependen untuk proses\n",
    "klasifikasi\n",
    "\n",
    "Set pelatihan adalah bagian dari kumpulan data yang digunakan untuk melatih model. \n",
    "=>X_train adalah kumpulan data pelatihan. Variabel ini termasuk kedalam variabel independen.\n",
    "=>y_train adalah kumpulan label untuk semua data di X_train. Termasuk variabel dependen yang perlu diprediksi oleh model, \n",
    "seperti termasuk label kategori terhadap variabel independen yang ada, oleh karna itu perlu menentukan variabel dependen \n",
    "saat melatih / menyesuaikan model.\n",
    "\n",
    "Set pengujian adalah subset dari kumpulan data yang Anda gunakan untuk menguji model Anda setelah model melalui pemeriksaan\n",
    "awal oleh set validasi.\n",
    "=>X_test adalah kumpulan data pengujian. Variabel ini termasuk kedalam variabel independen. \n",
    "Variabel independen dari data yang tidak akan digunakan dalam tahap pelatihan dan akan digunakan untuk membuat prediksi \n",
    "guna menguji keakuratan model\n",
    "=>y_test adalah kumpulan label untuk semua data di X_test. Label ini akan digunakan untuk menguji akurasi antara kategori \n",
    "aktual dan prediksi\n",
    "\n",
    "\"\"\"\n",
    "X_train = train.text #data file train dengan kolom text\n",
    "y_train = train.label #data file train dengan kolom label\n",
    "X_test = test.text #data file test dengan kolom text\n",
    "y_test = test.label #data file text dengan kolom label"
   ]
  },
  {
   "cell_type": "code",
   "execution_count": 31,
   "id": "c511b5a6",
   "metadata": {},
   "outputs": [],
   "source": [
    "\"\"\"\n",
    "Tentukan pipeline yang berisi metode mana yang digunakan yang nantinya akan diproses untuk menjadi model terbaik dengan\n",
    "menggabungkan ekstraktor fitur teks dengan pengklasifikasi sederhana.\n",
    "\n",
    "Disini pipeline berisi estimator dari beberapa metode algoritma yang digunakan untuk menampung semua fitur ekstraksi maupun \n",
    "fitur dari metode algoritma yang akan di ujikan satu sama lain pada proses penyetelan dengan pendekatan GridSearchCV.\n",
    "\"\"\"\n",
    "text_clf_mnb = Pipeline([('tfidf', TfidfVectorizer()),\n",
    "                     ('clf', MultinomialNB())])\n",
    "\n",
    "\"\"\"\n",
    "Proses penyetelan menggunakan hyperparameter utama pada setiap metode algoritma. Banyak parameter yang dicoba akan memberikan\n",
    "daya penjelajahan yang lebih baik tetapi akan meningkatkan waktu pemrosesan dengan cara kombinatorial.\n",
    "\n",
    "Pada metode algoritma Naive Bayes varian BernoulliNB ini menggunakan pencarian nilai terbaik dari hyperparameter binarize\n",
    "dan alpha, kemudian untuk ekstraksi fitur kata menggunakan dari TFIDFVectorizer dengan pemilihan nilai hyperparameter\n",
    "ngram_range\n",
    "\"\"\"\n",
    "\n",
    "\"\"\"\n",
    "Pipeline ini dilakukan dengan cara memungkinkan pengaturan parameter dari berbagai langkah menggunakan nama mereka dan nama \n",
    "parameter yang dipisahkan dengan penulisan __ seperti pada contoh di bawah ini. Estimator langkah dapat diganti seluruhnya \n",
    "dengan mengatur parameter dengan namanya ke estimator lain.\n",
    "\"\"\"\n",
    "\n",
    "tuned_parameters_mnb = {\n",
    "    'tfidf__ngram_range': [(1, 1), (1, 2), (1, 3)],\n",
    "#    'clf__binarize' : [0.0,0,5,0.6,1.0,1.5],\n",
    "    'clf__alpha': [1, 1e-1, 1e-2, 1e-3, 1e-4]\n",
    "}"
   ]
  },
  {
   "cell_type": "code",
   "execution_count": 32,
   "id": "2a8ea563",
   "metadata": {
    "scrolled": false
   },
   "outputs": [
    {
     "name": "stdout",
     "output_type": "stream",
     "text": [
      "Hasil Score data test :  0.9944444444444445\n",
      "Hasil Score data test :  0.865\n",
      "Waktu Komputasi dari proses hyperparameter tuning di dalam Grid: 4.407s\n"
     ]
    }
   ],
   "source": [
    "t = time()\n",
    "\n",
    "\"\"\"\n",
    "Tahapan proses mencari nilai dari hyperparameter setiap algoritma menggunakan GridSearchCV untuk mendapatkan kombinasi parameter\n",
    "terbaik dengan gabungan fitur lainnya selain pengklasifikasian\n",
    "\"\"\"\n",
    "\n",
    "#Melakukan validasi sebanyak 10 kali untuk masing-masing nilai pada parameter alpha\n",
    "cv = KFold(n_splits=10, shuffle=True, random_state=1)\n",
    "\n",
    "#Membuat objek clf_mnb sebagai fungsi dari proses GridsearchCV\n",
    "clf_mnb = GridSearchCV(text_clf_mnb, tuned_parameters_mnb, scoring = 'accuracy', cv=cv, n_jobs = -1,return_train_score=True)\n",
    "\n",
    "#Sesuaikan dengan model/Masukkan ke model/Fit the model\n",
    "#Fitting model dimana model belajar untuk mencari hubungan antara X_train dan y_train \n",
    "clf_mnb.fit(X_train,y_train)\n",
    "\n",
    "print(\"Hasil Score data test : \", clf_mnb.score(X_train,y_train))\n",
    "print(\"Hasil Score data test : \", clf_mnb.score(X_test,y_test))\n",
    "\n",
    "training_time = time() - t\n",
    "print(\"Waktu Komputasi dari proses hyperparameter tuning di dalam Grid: %0.3fs\" % training_time)"
   ]
  },
  {
   "cell_type": "code",
   "execution_count": 33,
   "id": "8db5bf97",
   "metadata": {},
   "outputs": [
    {
     "name": "stdout",
     "output_type": "stream",
     "text": [
      "Best parameters set found on development set:\n",
      "{'clf__alpha': 0.01, 'tfidf__ngram_range': (1, 3)}\n",
      "Best Score: 0.865\n",
      "\n",
      "\n",
      "Mean: 0.787778 Stdev:(0.040506) with: {'clf__alpha': 1, 'tfidf__ngram_range': (1, 1)}\n",
      "Mean: 0.832222 Stdev:(0.031012) with: {'clf__alpha': 1, 'tfidf__ngram_range': (1, 2)}\n",
      "Mean: 0.831667 Stdev:(0.034431) with: {'clf__alpha': 1, 'tfidf__ngram_range': (1, 3)}\n",
      "Mean: 0.816667 Stdev:(0.042164) with: {'clf__alpha': 0.1, 'tfidf__ngram_range': (1, 1)}\n",
      "Mean: 0.860000 Stdev:(0.030912) with: {'clf__alpha': 0.1, 'tfidf__ngram_range': (1, 2)}\n",
      "Mean: 0.860556 Stdev:(0.020854) with: {'clf__alpha': 0.1, 'tfidf__ngram_range': (1, 3)}\n",
      "Mean: 0.827778 Stdev:(0.040976) with: {'clf__alpha': 0.01, 'tfidf__ngram_range': (1, 1)}\n",
      "Mean: 0.860556 Stdev:(0.030777) with: {'clf__alpha': 0.01, 'tfidf__ngram_range': (1, 2)}\n",
      "Mean: 0.865000 Stdev:(0.020942) with: {'clf__alpha': 0.01, 'tfidf__ngram_range': (1, 3)}\n",
      "Mean: 0.829444 Stdev:(0.042604) with: {'clf__alpha': 0.001, 'tfidf__ngram_range': (1, 1)}\n",
      "Mean: 0.858333 Stdev:(0.028137) with: {'clf__alpha': 0.001, 'tfidf__ngram_range': (1, 2)}\n",
      "Mean: 0.859444 Stdev:(0.023047) with: {'clf__alpha': 0.001, 'tfidf__ngram_range': (1, 3)}\n",
      "Mean: 0.828889 Stdev:(0.042295) with: {'clf__alpha': 0.0001, 'tfidf__ngram_range': (1, 1)}\n",
      "Mean: 0.861111 Stdev:(0.029814) with: {'clf__alpha': 0.0001, 'tfidf__ngram_range': (1, 2)}\n",
      "Mean: 0.861111 Stdev:(0.024470) with: {'clf__alpha': 0.0001, 'tfidf__ngram_range': (1, 3)}\n"
     ]
    }
   ],
   "source": [
    "\"\"\"\n",
    "Proses menampilkan setiap kombinasi nilai hyperparameter dari proses pengujian sebelumnya, hal ini memudahkan untuk melihat \n",
    "setiap alur dari pencocokan berlangsung yang dimana hasil akhir berupa nilai terbaik dari kombinasi antar beberapa estimator\n",
    "(seperti pemilihan fitur) yang diujikan pada 1 set penyetelan dalam sistem pipeline.\n",
    "\"\"\"\n",
    "\n",
    "print(\"Best parameters set found on development set:\")\n",
    "print(clf_mnb.best_params_)\n",
    "print(\"Best Score:\", clf_mnb.best_score_)\n",
    "print('\\n')\n",
    "\n",
    "means = clf_mnb.cv_results_['mean_test_score'] #nilai rata rata akurasi\n",
    "stds = clf_mnb.cv_results_['std_test_score'] #nilai standar deviasi\n",
    "params = clf_mnb.cv_results_['params'] #nilai-nilai param yang sudah didefinisikan ke opsi pengujian sebelumnya (text_clf_bnb,\n",
    "#tuned_parameters_bnb yang dimana ditampilkan dalam bentuk berupa pencocokan secara satu-persatu\n",
    "\n",
    "#Proses perulangan untuk menampilkan nilai-nilai tersebut\n",
    "for mean, stdev, param in zip(means,stds,params):\n",
    "    print(\"Mean: %f Stdev:(%f) with: %r\" % (mean,stdev,param))"
   ]
  },
  {
   "cell_type": "code",
   "execution_count": 34,
   "id": "1b3a8082",
   "metadata": {},
   "outputs": [
    {
     "data": {
      "text/html": [
       "<div>\n",
       "<style scoped>\n",
       "    .dataframe tbody tr th:only-of-type {\n",
       "        vertical-align: middle;\n",
       "    }\n",
       "\n",
       "    .dataframe tbody tr th {\n",
       "        vertical-align: top;\n",
       "    }\n",
       "\n",
       "    .dataframe thead th {\n",
       "        text-align: right;\n",
       "    }\n",
       "</style>\n",
       "<table border=\"1\" class=\"dataframe\">\n",
       "  <thead>\n",
       "    <tr style=\"text-align: right;\">\n",
       "      <th></th>\n",
       "      <th>clf__alpha</th>\n",
       "      <th>tfidf__ngram_range</th>\n",
       "      <th>test_score</th>\n",
       "      <th>train_score</th>\n",
       "    </tr>\n",
       "  </thead>\n",
       "  <tbody>\n",
       "    <tr>\n",
       "      <th>0</th>\n",
       "      <td>1.0000</td>\n",
       "      <td>(1, 1)</td>\n",
       "      <td>0.787778</td>\n",
       "      <td>0.897963</td>\n",
       "    </tr>\n",
       "    <tr>\n",
       "      <th>1</th>\n",
       "      <td>1.0000</td>\n",
       "      <td>(1, 2)</td>\n",
       "      <td>0.832222</td>\n",
       "      <td>0.961852</td>\n",
       "    </tr>\n",
       "    <tr>\n",
       "      <th>2</th>\n",
       "      <td>1.0000</td>\n",
       "      <td>(1, 3)</td>\n",
       "      <td>0.831667</td>\n",
       "      <td>0.975062</td>\n",
       "    </tr>\n",
       "    <tr>\n",
       "      <th>3</th>\n",
       "      <td>0.1000</td>\n",
       "      <td>(1, 1)</td>\n",
       "      <td>0.816667</td>\n",
       "      <td>0.936605</td>\n",
       "    </tr>\n",
       "    <tr>\n",
       "      <th>4</th>\n",
       "      <td>0.1000</td>\n",
       "      <td>(1, 2)</td>\n",
       "      <td>0.860000</td>\n",
       "      <td>0.988704</td>\n",
       "    </tr>\n",
       "    <tr>\n",
       "      <th>5</th>\n",
       "      <td>0.1000</td>\n",
       "      <td>(1, 3)</td>\n",
       "      <td>0.860556</td>\n",
       "      <td>0.993025</td>\n",
       "    </tr>\n",
       "    <tr>\n",
       "      <th>6</th>\n",
       "      <td>0.0100</td>\n",
       "      <td>(1, 1)</td>\n",
       "      <td>0.827778</td>\n",
       "      <td>0.952037</td>\n",
       "    </tr>\n",
       "    <tr>\n",
       "      <th>7</th>\n",
       "      <td>0.0100</td>\n",
       "      <td>(1, 2)</td>\n",
       "      <td>0.860556</td>\n",
       "      <td>0.993148</td>\n",
       "    </tr>\n",
       "    <tr>\n",
       "      <th>8</th>\n",
       "      <td>0.0100</td>\n",
       "      <td>(1, 3)</td>\n",
       "      <td>0.865000</td>\n",
       "      <td>0.994877</td>\n",
       "    </tr>\n",
       "    <tr>\n",
       "      <th>9</th>\n",
       "      <td>0.0010</td>\n",
       "      <td>(1, 1)</td>\n",
       "      <td>0.829444</td>\n",
       "      <td>0.955062</td>\n",
       "    </tr>\n",
       "    <tr>\n",
       "      <th>10</th>\n",
       "      <td>0.0010</td>\n",
       "      <td>(1, 2)</td>\n",
       "      <td>0.858333</td>\n",
       "      <td>0.994198</td>\n",
       "    </tr>\n",
       "    <tr>\n",
       "      <th>11</th>\n",
       "      <td>0.0010</td>\n",
       "      <td>(1, 3)</td>\n",
       "      <td>0.859444</td>\n",
       "      <td>0.995062</td>\n",
       "    </tr>\n",
       "    <tr>\n",
       "      <th>12</th>\n",
       "      <td>0.0001</td>\n",
       "      <td>(1, 1)</td>\n",
       "      <td>0.828889</td>\n",
       "      <td>0.955185</td>\n",
       "    </tr>\n",
       "    <tr>\n",
       "      <th>13</th>\n",
       "      <td>0.0001</td>\n",
       "      <td>(1, 2)</td>\n",
       "      <td>0.861111</td>\n",
       "      <td>0.994198</td>\n",
       "    </tr>\n",
       "    <tr>\n",
       "      <th>14</th>\n",
       "      <td>0.0001</td>\n",
       "      <td>(1, 3)</td>\n",
       "      <td>0.861111</td>\n",
       "      <td>0.995123</td>\n",
       "    </tr>\n",
       "  </tbody>\n",
       "</table>\n",
       "</div>"
      ],
      "text/plain": [
       "    clf__alpha tfidf__ngram_range  test_score  train_score\n",
       "0       1.0000             (1, 1)    0.787778     0.897963\n",
       "1       1.0000             (1, 2)    0.832222     0.961852\n",
       "2       1.0000             (1, 3)    0.831667     0.975062\n",
       "3       0.1000             (1, 1)    0.816667     0.936605\n",
       "4       0.1000             (1, 2)    0.860000     0.988704\n",
       "5       0.1000             (1, 3)    0.860556     0.993025\n",
       "6       0.0100             (1, 1)    0.827778     0.952037\n",
       "7       0.0100             (1, 2)    0.860556     0.993148\n",
       "8       0.0100             (1, 3)    0.865000     0.994877\n",
       "9       0.0010             (1, 1)    0.829444     0.955062\n",
       "10      0.0010             (1, 2)    0.858333     0.994198\n",
       "11      0.0010             (1, 3)    0.859444     0.995062\n",
       "12      0.0001             (1, 1)    0.828889     0.955185\n",
       "13      0.0001             (1, 2)    0.861111     0.994198\n",
       "14      0.0001             (1, 3)    0.861111     0.995123"
      ]
     },
     "execution_count": 34,
     "metadata": {},
     "output_type": "execute_result"
    }
   ],
   "source": [
    "\"\"\"\n",
    "Meringkas hasil dari GrisSearchCV\n",
    "Menampilkan hasil setiap pencocokan parameter dari proses GridSearchCV beserta nilai pelatihan dan pengujian dari setiap \n",
    "kombinasi dalam bentuk DataFrame yang isinya berupa pasangan kombinasi tiap hyperparameter yang diujikan.\n",
    "\"\"\"\n",
    "result_mnb = pd.DataFrame(clf_mnb.cv_results_['params'])\n",
    "result_mnb['test_score'] = clf_mnb.cv_results_['mean_test_score']\n",
    "result_mnb['train_score'] = clf_mnb.cv_results_['mean_train_score']\n",
    "result_mnb"
   ]
  },
  {
   "cell_type": "code",
   "execution_count": 35,
   "id": "7de16d23",
   "metadata": {},
   "outputs": [
    {
     "data": {
      "text/plain": [
       "['clf_mnb.pkl']"
      ]
     },
     "execution_count": 35,
     "metadata": {},
     "output_type": "execute_result"
    }
   ],
   "source": [
    "\n",
    "import joblib\n",
    "final_model = clf_mnb.best_estimator_\n",
    "joblib.dump(final_model, \"clf_mnb.pkl\")"
   ]
  },
  {
   "cell_type": "code",
   "execution_count": 36,
   "id": "d76e9cfa",
   "metadata": {},
   "outputs": [
    {
     "name": "stdout",
     "output_type": "stream",
     "text": [
      "train time: 0.060s\n",
      "================================\n",
      "Hasil Score data train :  0.9883333333333333\n",
      "Hasil Score data test :  0.845\n"
     ]
    }
   ],
   "source": [
    "t = time()\n",
    "\n",
    "#Proses melatih model\n",
    "#Mengaktifkan/memanggil/membuat fungsi klasifikasi Bernoulli Naive Bayes dengan pemilihan fitur yang akan digunakan\n",
    "#Dalam proses ini hasil nilai setiap parameter didapat dari proses sebelumnya setelah melakukan proses pencocokan atau\n",
    "#kombinasi, yaitu proses hyperparameter tuning. \n",
    "mnb = Pipeline([('tfidf', TfidfVectorizer(ngram_range=(1,2))),\n",
    "                ('clf', MultinomialNB(alpha=0.1))])\n",
    "\n",
    "\"\"\"\n",
    "Sesuaikan dengan model/Masukkan ke model/Fit the model. Memasukkan data training pada fungsi klasifikasi NB.\n",
    "Masukan dalam bentuk parameter yang berisi X_train (kumpulan data pelatihan yang bersifat independen), y_train (kumpulan label \n",
    "untuk semua data di X_train yang bersifat dependen yang perlu diprediksi oleh model)\n",
    "\n",
    "Cocokkan semua transformasi satu demi satu dan transformasikan data, kemudian set data yang ditransformasi menggunakan \n",
    "estimator akhir.\n",
    "\"\"\"\n",
    "# Fitting model dimana model belajar untuk mencari hubungan antara X_train dan y_train \n",
    "mnb.fit(X_train,y_train)\n",
    "\n",
    "#Untuk set waktu selama proses training sedang berjalan\n",
    "training_time = time() - t\n",
    "print(\"train time: %0.3fs\" % training_time)\n",
    "\n",
    "print(\"================================\")\n",
    "print(\"Hasil Score data train : \", mnb.score(X_train,y_train))\n",
    "print(\"Hasil Score data test : \", mnb.score(X_test,y_test))"
   ]
  },
  {
   "cell_type": "code",
   "execution_count": 37,
   "id": "965bf09b",
   "metadata": {},
   "outputs": [
    {
     "name": "stdout",
     "output_type": "stream",
     "text": [
      "cross validation score [0.85       0.81111111 0.86666667 0.84444444 0.87222222 0.84444444\n",
      " 0.90555556 0.81666667 0.88888889 0.9       ]\n",
      "Average cross-validation Mean Score : 0.8600\n",
      "Average cross-validation Std Score : 0.0309\n"
     ]
    }
   ],
   "source": [
    "\"\"\"\n",
    "Set validasi adalah subset dari kumpulan data (terpisah dari set pelatihan) yang Anda gunakan untuk menyesuaikan \n",
    "hyperparameter.\n",
    "\n",
    "Proses pelatihan model/Training the model dengan menggunakan nilai validasi sebanyak 10 pembagian data yang bekerja secara acak\n",
    "dengan membagi 10 bagian secara rata dengan jumlah data yang sama. Selanjutnya dilakukan proses silang, dimana data training \n",
    "dijadikan data testing dan sebaliknya, proses ini diulang sebanyak 10 kali pada training set yang berbeda. \n",
    "\n",
    "Rata-rata perkiraan nilai dari 10-fold cross validation digunakan untuk menghasilkan perkiraan keseluruhan. \n",
    "\n",
    "\"\"\"\n",
    "\n",
    "\"\"\"\n",
    "Setelah tahapan melatih model, langkah selanjutnya adalah hasil pelatihan model tersebut di evaluasi untuk melihat seberapa \n",
    "bagus kinerja dari model tersebut dengan memvalidasi terlebih dahulu kemudian dilakukan proses testing menggunakan data testing \n",
    "yang sudah disediakan sebelumnya.\n",
    "\"\"\"\n",
    "#Melakukan validasi sebanyak 10 kali\n",
    "cv = KFold(n_splits=10, shuffle=True, random_state=1)\n",
    "accuracy = cross_val_score(mnb, X_train, y_train, scoring = 'accuracy', cv=cv)\n",
    "print('cross validation score', accuracy)\n",
    "\n",
    "#Menghitung rata-rata nilai validasi silang\n",
    "print('Average cross-validation Mean Score : {:.4f}'.format(accuracy.mean()))\n",
    "\n",
    "#Menghitung rata-rata standar deviasi nilai validasi silang\n",
    "print('Average cross-validation Std Score : {:.4f}'.format(accuracy.std()))"
   ]
  },
  {
   "cell_type": "code",
   "execution_count": 38,
   "id": "bf8263fc",
   "metadata": {},
   "outputs": [
    {
     "data": {
      "image/png": "[encoded data removed]",
      "text/plain": [
       "<Figure size 576x396 with 1 Axes>"
      ]
     },
     "metadata": {},
     "output_type": "display_data"
    },
    {
     "data": {
      "text/plain": [
       "<AxesSubplot:title={'center':'Learning Curve for MultinomialNB'}, xlabel='Training Instances', ylabel='Score'>"
      ]
     },
     "execution_count": 38,
     "metadata": {},
     "output_type": "execute_result"
    }
   ],
   "source": [
    "from yellowbrick.model_selection import LearningCurve\n",
    "\n",
    "#Buat contoh model pengelompokan dan visualizer\n",
    "visualizer = LearningCurve(mnb, scoring=\"accuracy\")\n",
    "\n",
    "visualizer.fit(X_train, y_train) #Masukkan data ke visualisator\n",
    "visualizer.show() #Tampilkan gambar"
   ]
  },
  {
   "cell_type": "code",
   "execution_count": 39,
   "id": "0c801982",
   "metadata": {},
   "outputs": [
    {
     "data": {
      "image/png": "[encoded data removed]",
      "text/plain": [
       "<Figure size 576x396 with 1 Axes>"
      ]
     },
     "metadata": {},
     "output_type": "display_data"
    },
    {
     "data": {
      "text/plain": [
       "<AxesSubplot:title={'center':'Cross Validation Scores for MultinomialNB'}, xlabel='Training Instances', ylabel='Score'>"
      ]
     },
     "execution_count": 39,
     "metadata": {},
     "output_type": "execute_result"
    }
   ],
   "source": [
    "#Visualisasi untuk nilai setiap literasi dalam proses Validasi Silang di algoritma BNB\n",
    "#!pip install yellowbrick\n",
    "from yellowbrick.model_selection import CVScores\n",
    "import warnings\n",
    "\n",
    "warnings.filterwarnings('ignore')\n",
    "\n",
    "cv = KFold(n_splits=10, shuffle=True, random_state=1)\n",
    "visualizer = CVScores(mnb, cv=cv, scoring='accuracy',color=\"#ad5389\")\n",
    "\n",
    "visualizer.fit(X_train,y_train)\n",
    "visualizer.show()"
   ]
  },
  {
   "cell_type": "code",
   "execution_count": 40,
   "id": "0b81cf52",
   "metadata": {},
   "outputs": [
    {
     "name": "stdout",
     "output_type": "stream",
     "text": [
      "test time:  0.000s\n",
      "========================\n",
      "              precision    recall  f1-score   support\n",
      "\n",
      "           0       0.84      0.77      0.81        84\n",
      "           1       0.85      0.90      0.87       116\n",
      "\n",
      "    accuracy                           0.84       200\n",
      "   macro avg       0.84      0.84      0.84       200\n",
      "weighted avg       0.84      0.84      0.84       200\n",
      "\n",
      "Accuracy Score - MultinomialNB: 0.845\n"
     ]
    }
   ],
   "source": [
    "\n",
    "\"\"\"\n",
    "Perhitungan nilai evaluasi dihasilkan setelah proses validasi, yang dimana dari proses pelatihan, divalidasi dengan data \n",
    "testing yang sudah disiapkan kemudian menghasilkan nilai evaluasi seperti classification report atau metrik performa akurasi, \n",
    "presisi, recall, f1-score\n",
    "\"\"\"\n",
    "\n",
    "#Waktu komputasi untuk testing data\n",
    "t = time()\n",
    "test_time = time() - t\n",
    "\n",
    "print(\"test time:  %0.3fs\" % test_time)\n",
    "print(\"========================\")\n",
    "\n",
    "#Menentukan hasil prediksi dari X_test\n",
    "#get predictions from model\n",
    "y_pred_mnb = mnb.predict(X_test)\n",
    "\n",
    "\"\"\"\n",
    "Setelah proses klasifikasi selesai, diperlukan adanya evaluasi untuk menentukan kualitas metode yang telah berhasil dibuat pada \n",
    "tahap sebelumnya. Pada tahap evaluasi ini metrik performa accuracy, precision, recall, dan F1-Score akan digunakan untuk menguji \n",
    "kinerja proses klasifikasi yang ditampilkan melalui function classification_report dimana berisi parameter masukan yaitu y_test\n",
    "(kumpulan label dari semua data di X_test;data pengujian) dan y_pred_bnb (proses prediksi kumpulan data pengujian (X_test) yang\n",
    "bersifat variabel independen)\n",
    "\"\"\"\n",
    "# Classify and report the results\n",
    "print(classification_report(y_test, y_pred_mnb))\n",
    "\n",
    "print('Accuracy Score - MultinomialNB:', metrics.accuracy_score(y_test, y_pred_mnb))"
   ]
  },
  {
   "cell_type": "code",
   "execution_count": 41,
   "id": "d2c56a81",
   "metadata": {},
   "outputs": [
    {
     "data": {
      "image/png": "[encoded data removed]",
      "text/plain": [
       "<Figure size 576x396 with 2 Axes>"
      ]
     },
     "metadata": {},
     "output_type": "display_data"
    },
    {
     "data": {
      "text/plain": [
       "<AxesSubplot:title={'center':'MultinomialNB Classification Report'}>"
      ]
     },
     "execution_count": 41,
     "metadata": {},
     "output_type": "execute_result"
    }
   ],
   "source": [
    "#Library untuk menampilkan laporan evaluasi model klasifikasi dalam bentuk visualisasi agar lebih mudah dipahami\n",
    "from yellowbrick.classifier import ClassificationReport\n",
    "\n",
    "#Buat contoh model pengelompokan dan visualizer\n",
    "visualizer = ClassificationReport(mnb,support=True,cmap='RdPu')\n",
    "\n",
    "visualizer.fit(X_train, y_train)  #Sesuaikan visualisator dan modelnya\n",
    "visualizer.score(X_test, y_test)  #Evaluasi model pada data pengujian\n",
    "visualizer.show()\n"
   ]
  },
  {
   "cell_type": "code",
   "execution_count": 42,
   "id": "4f2d9f23",
   "metadata": {},
   "outputs": [
    {
     "data": {
      "text/html": [
       "<div>\n",
       "<style scoped>\n",
       "    .dataframe tbody tr th:only-of-type {\n",
       "        vertical-align: middle;\n",
       "    }\n",
       "\n",
       "    .dataframe tbody tr th {\n",
       "        vertical-align: top;\n",
       "    }\n",
       "\n",
       "    .dataframe thead th {\n",
       "        text-align: right;\n",
       "    }\n",
       "</style>\n",
       "<table border=\"1\" class=\"dataframe\">\n",
       "  <thead>\n",
       "    <tr style=\"text-align: right;\">\n",
       "      <th></th>\n",
       "      <th>negatif</th>\n",
       "      <th>positif</th>\n",
       "      <th>accuracy</th>\n",
       "      <th>macro avg</th>\n",
       "      <th>weighted avg</th>\n",
       "    </tr>\n",
       "  </thead>\n",
       "  <tbody>\n",
       "    <tr>\n",
       "      <th>precision</th>\n",
       "      <td>0.844156</td>\n",
       "      <td>0.845528</td>\n",
       "      <td>0.845</td>\n",
       "      <td>0.844842</td>\n",
       "      <td>0.844952</td>\n",
       "    </tr>\n",
       "    <tr>\n",
       "      <th>recall</th>\n",
       "      <td>0.773810</td>\n",
       "      <td>0.896552</td>\n",
       "      <td>0.845</td>\n",
       "      <td>0.835181</td>\n",
       "      <td>0.845000</td>\n",
       "    </tr>\n",
       "    <tr>\n",
       "      <th>f1-score</th>\n",
       "      <td>0.807453</td>\n",
       "      <td>0.870293</td>\n",
       "      <td>0.845</td>\n",
       "      <td>0.838873</td>\n",
       "      <td>0.843900</td>\n",
       "    </tr>\n",
       "    <tr>\n",
       "      <th>support</th>\n",
       "      <td>84.000000</td>\n",
       "      <td>116.000000</td>\n",
       "      <td>0.845</td>\n",
       "      <td>200.000000</td>\n",
       "      <td>200.000000</td>\n",
       "    </tr>\n",
       "  </tbody>\n",
       "</table>\n",
       "</div>"
      ],
      "text/plain": [
       "             negatif     positif  accuracy   macro avg  weighted avg\n",
       "precision   0.844156    0.845528     0.845    0.844842      0.844952\n",
       "recall      0.773810    0.896552     0.845    0.835181      0.845000\n",
       "f1-score    0.807453    0.870293     0.845    0.838873      0.843900\n",
       "support    84.000000  116.000000     0.845  200.000000    200.000000"
      ]
     },
     "metadata": {},
     "output_type": "display_data"
    },
    {
     "data": {
      "image/png": "[encoded data removed]",
      "text/plain": [
       "<Figure size 720x576 with 1 Axes>"
      ]
     },
     "metadata": {},
     "output_type": "display_data"
    }
   ],
   "source": [
    "#Import library untuk visualisasi gambar\n",
    "import matplotlib.pyplot as plt\n",
    "\n",
    "\"\"\"\n",
    "Variabel ini digunakan untuk menampung nama label yang digunakan dalam kolom untuk confusion matrix dan berfungsi sebagai tanda\n",
    "label di bagian visualisasi dari classification report\n",
    "\"\"\"\n",
    "target_labels = ['negatif', 'positif']\n",
    "\n",
    "#store the classification report as a dictionary\n",
    "cr_dict = classification_report(y_test, y_pred_mnb, target_names=target_labels, output_dict=True)\n",
    "\n",
    "#convert the classification report dictionary into a data frame\n",
    "cr_data = pd.DataFrame(cr_dict)\n",
    "display(cr_data)\n",
    "\n",
    "#plot the classification report scores\n",
    "ax=cr_data.iloc[:-1, :2].plot.bar(figsize=(10,8),color=['#800080','#CD853F'])\n",
    "plt.title(\"MNB Classification Report\")\n",
    "plt.xlabel('Metrics', labelpad=20)\n",
    "\n",
    "#fix the x-ticktek mark rotation\n",
    "plt.xticks(rotation=0)\n",
    "\n",
    "#create custom y-tick marks and labels for percentage representation\n",
    "#create an array of even tick marks from 0 to 1\n",
    "percent_ticks = np.linspace(0,1,11, endpoint=True)\n",
    "\n",
    "#create a list of strings representing the percentage at each tick\n",
    "percent_labels = [f'{int(t*100)}%' for t in percent_ticks]\n",
    "plt.yticks(ticks=percent_ticks,labels=percent_labels)\n",
    "plt.ylabel('Percentage (%)')\n",
    "plt.margins(0.2,0.2)\n",
    "\n",
    "for p in ax.patches:\n",
    "    ax.annotate(\n",
    "        \"{}%\".format(str(np.round(p.get_height()*100, 2))),\n",
    "        xy=(p.get_x()*1+p.get_width()/2, p.get_height()*1.02),\n",
    "        ha='center',\n",
    "    )"
   ]
  },
  {
   "cell_type": "code",
   "execution_count": 43,
   "id": "4459004a",
   "metadata": {},
   "outputs": [
    {
     "name": "stdout",
     "output_type": "stream",
     "text": [
      "[[ 65  19]\n",
      " [ 12 104]]\n"
     ]
    }
   ],
   "source": [
    "from sklearn.metrics import confusion_matrix\n",
    "cm_mnb = confusion_matrix(y_test, y_pred_mnb)\n",
    "print(cm_mnb)"
   ]
  },
  {
   "cell_type": "code",
   "execution_count": 44,
   "id": "b2bfa371",
   "metadata": {},
   "outputs": [],
   "source": [
    "\n",
    "\"\"\"\n",
    "\n",
    "\"\"\"\n",
    "#Fungsi untuk menghitung metrik performa sensitivity dan specificity dalam proses klasifikasi\n",
    "def calculate_sensitivity_specificity(y_test, y_pred_test):\n",
    "    # Note: More parameters are defined than necessary. \n",
    "    # This would allow return of other measures other than sensitivity and specificity\n",
    "    \n",
    "    # Get true/false for whether a breach actually occurred\n",
    "    actual_pos = y_test == 1\n",
    "    actual_neg = y_test == 0\n",
    "    \n",
    "    # Get true and false test (true test match actual, false tests differ from actual)\n",
    "    true_pos = (y_pred_mnb == 1) & (actual_pos)\n",
    "    false_pos = (y_pred_mnb == 1) & (actual_neg)\n",
    "    true_neg = (y_pred_mnb == 0) & (actual_neg)\n",
    "    false_neg = (y_pred_mnb == 0) & (actual_pos)\n",
    "    \n",
    "    # Calculate accuracy\n",
    "    accuracy_mnb = np.mean(y_pred_test == y_test)\n",
    "    \n",
    "    # Calculate sensitivity and specificity\n",
    "    sensitivity_mnb = np.sum(true_pos) / np.sum(actual_pos)\n",
    "    specificity_mnb = np.sum(true_neg) / np.sum(actual_neg)\n",
    "    \n",
    "    return sensitivity_mnb, specificity_mnb, accuracy_mnb"
   ]
  },
  {
   "cell_type": "code",
   "execution_count": 45,
   "id": "ff21b9e2",
   "metadata": {},
   "outputs": [
    {
     "name": "stdout",
     "output_type": "stream",
     "text": [
      "Sensitivity: 0.896551724137931\n",
      "Specificity: 0.7738095238095238\n",
      "Accuracy: 0.845\n"
     ]
    }
   ],
   "source": [
    "#Proses perhitungan dengan memanggil fungsi sebelumnya\n",
    "sensitivity_mnb, specificity_mnb, accuracy_mnb = calculate_sensitivity_specificity(y_test, y_pred_mnb)\n",
    "print ('Sensitivity:', sensitivity_mnb)\n",
    "print ('Specificity:', specificity_mnb)\n",
    "print ('Accuracy:', accuracy_mnb)"
   ]
  },
  {
   "cell_type": "markdown",
   "id": "f1ddcee5",
   "metadata": {},
   "source": [
    "# SVM "
   ]
  },
  {
   "cell_type": "code",
   "execution_count": 46,
   "id": "ac33378d",
   "metadata": {},
   "outputs": [],
   "source": [
    "\"\"\"\n",
    "Tentukan pipeline yang berisi metode mana yang digunakan yang nantinya akan diproses untuk menjadi model terbaik dengan\n",
    "menggabungkan ekstraktor fitur teks dengan pengklasifikasi sederhana.\n",
    "Disini pipeline berisi estimator dari beberapa metode algoritma yang digunakan untuk menampung semua fitur ekstraksi maupun \n",
    "fitur dari metode algoritma yang akan di ujikan satu sama lain pada proses penyetelan dengan pendekatan GridSearchCV.\n",
    "\"\"\"\n",
    "text_clf_svm = Pipeline([('tfidf', TfidfVectorizer()),\n",
    "                     ('clf', SVC())])\n",
    "\n",
    "\"\"\"\n",
    "Proses penyetelan menggunakan hyperparameter utama pada setiap metode algoritma. Banyak parameter yang dicoba akan memberikan\n",
    "daya penjelajahan yang lebih baik tetapi akan meningkatkan waktu pemrosesan dengan cara kombinatorial.\n",
    "\n",
    "Pada metode algoritma Support Vector Machine ini menggunakan pencarian nilai terbaik dari hyperparameter C dan kernel, \n",
    "kemudian untuk ekstraksi fitur kata menggunakan dari TFIDFVectorizer dengan pemilihan nilai hyperparameter ngram_range\n",
    "\"\"\"\n",
    "\n",
    "\"\"\"\n",
    "Pipeline ini dilakukan dengan cara memungkinkan pengaturan parameter dari berbagai langkah menggunakan nama mereka dan nama \n",
    "parameter yang dipisahkan dengan penulisan __ seperti pada contoh di bawah ini. Estimator langkah dapat diganti seluruhnya \n",
    "dengan mengatur parameter dengan namanya ke estimator lain.\n",
    "\"\"\"\n",
    "\n",
    "tuned_parameters_svm = {\n",
    "    'tfidf__ngram_range': [(1, 1), (1, 2), (1, 3)],\n",
    "    'clf__C': [0.5,1.0,1.5,2.0,2.5,3.0],\n",
    "    'clf__kernel' : ['linear','rbf','sigmoid','poly'],\n",
    "    'clf__class_weight' : ['balanced']\n",
    "}"
   ]
  },
  {
   "cell_type": "code",
   "execution_count": 47,
   "id": "392c6480",
   "metadata": {},
   "outputs": [
    {
     "name": "stdout",
     "output_type": "stream",
     "text": [
      "Hasil Score data test :  0.9983333333333333\n",
      "Hasil Score data test :  0.875\n",
      "Waktu Komputasi dari proses hyperparameter tuning di dalam Grid: 135.187s\n"
     ]
    }
   ],
   "source": [
    "t = time()\n",
    "\n",
    "\"\"\"\n",
    "Tahapan proses mencari nilai dari hyperparameter setiap algoritma menggunakan GridSearchCV untuk mendapatkan kombinasi parameter\n",
    "terbaik dengan gabungan fitur lainnya selain pengklasifikasian\n",
    "\"\"\"\n",
    "#Melakukan validasi sebanyak 10 kali\n",
    "cv = KFold(n_splits=10, shuffle=True, random_state=1)\n",
    "\n",
    "#Membuat objek clf_svm sebagai fungsi dari proses GridsearchCV\n",
    "clf_svm = GridSearchCV(text_clf_svm, tuned_parameters_svm, scoring = 'accuracy',cv=cv, n_jobs = -1, return_train_score=True)\n",
    "\n",
    "#Sesuaikan dengan model/Masukkan ke model/Fit the model\n",
    "#Fitting model dimana model belajar untuk mencari hubungan antara X_train dan y_train\n",
    "clf_svm.fit(X_train,y_train)\n",
    "\n",
    "print(\"Hasil Score data test : \", clf_svm.score(X_train,y_train))\n",
    "print(\"Hasil Score data test : \", clf_svm.score(X_test,y_test))\n",
    "\n",
    "training_time = time() - t\n",
    "print(\"Waktu Komputasi dari proses hyperparameter tuning di dalam Grid: %0.3fs\" % training_time)"
   ]
  },
  {
   "cell_type": "markdown",
   "id": "44cbb59c",
   "metadata": {},
   "source": [
    "# Proses hasil setiap kombinasi nilai hyperparameter dari proses pengujian sebelumnya"
   ]
  },
  {
   "cell_type": "code",
   "execution_count": 48,
   "id": "bfb7d41c",
   "metadata": {
    "scrolled": false
   },
   "outputs": [
    {
     "name": "stdout",
     "output_type": "stream",
     "text": [
      "Best parameters set found on development set:\n",
      "{'clf__C': 1.0, 'clf__class_weight': 'balanced', 'clf__kernel': 'rbf', 'tfidf__ngram_range': (1, 3)}\n",
      "Best Score: 0.8755555555555556\n",
      "\n",
      "\n",
      "Mean: 0.810556 Stdev:(0.040556) with: {'clf__C': 0.5, 'clf__class_weight': 'balanced', 'clf__kernel': 'linear', 'tfidf__ngram_range': (1, 1)}\n",
      "Mean: 0.835556 Stdev:(0.040764) with: {'clf__C': 0.5, 'clf__class_weight': 'balanced', 'clf__kernel': 'linear', 'tfidf__ngram_range': (1, 2)}\n",
      "Mean: 0.851111 Stdev:(0.034319) with: {'clf__C': 0.5, 'clf__class_weight': 'balanced', 'clf__kernel': 'linear', 'tfidf__ngram_range': (1, 3)}\n",
      "Mean: 0.839444 Stdev:(0.038285) with: {'clf__C': 0.5, 'clf__class_weight': 'balanced', 'clf__kernel': 'rbf', 'tfidf__ngram_range': (1, 1)}\n",
      "Mean: 0.860556 Stdev:(0.038042) with: {'clf__C': 0.5, 'clf__class_weight': 'balanced', 'clf__kernel': 'rbf', 'tfidf__ngram_range': (1, 2)}\n",
      "Mean: 0.865556 Stdev:(0.033957) with: {'clf__C': 0.5, 'clf__class_weight': 'balanced', 'clf__kernel': 'rbf', 'tfidf__ngram_range': (1, 3)}\n",
      "Mean: 0.775000 Stdev:(0.031353) with: {'clf__C': 0.5, 'clf__class_weight': 'balanced', 'clf__kernel': 'sigmoid', 'tfidf__ngram_range': (1, 1)}\n",
      "Mean: 0.804444 Stdev:(0.038952) with: {'clf__C': 0.5, 'clf__class_weight': 'balanced', 'clf__kernel': 'sigmoid', 'tfidf__ngram_range': (1, 2)}\n",
      "Mean: 0.818333 Stdev:(0.037437) with: {'clf__C': 0.5, 'clf__class_weight': 'balanced', 'clf__kernel': 'sigmoid', 'tfidf__ngram_range': (1, 3)}\n",
      "Mean: 0.849444 Stdev:(0.033375) with: {'clf__C': 0.5, 'clf__class_weight': 'balanced', 'clf__kernel': 'poly', 'tfidf__ngram_range': (1, 1)}\n",
      "Mean: 0.841111 Stdev:(0.029835) with: {'clf__C': 0.5, 'clf__class_weight': 'balanced', 'clf__kernel': 'poly', 'tfidf__ngram_range': (1, 2)}\n",
      "Mean: 0.836667 Stdev:(0.028458) with: {'clf__C': 0.5, 'clf__class_weight': 'balanced', 'clf__kernel': 'poly', 'tfidf__ngram_range': (1, 3)}\n",
      "Mean: 0.822778 Stdev:(0.045027) with: {'clf__C': 1.0, 'clf__class_weight': 'balanced', 'clf__kernel': 'linear', 'tfidf__ngram_range': (1, 1)}\n",
      "Mean: 0.861111 Stdev:(0.035660) with: {'clf__C': 1.0, 'clf__class_weight': 'balanced', 'clf__kernel': 'linear', 'tfidf__ngram_range': (1, 2)}\n",
      "Mean: 0.871667 Stdev:(0.028594) with: {'clf__C': 1.0, 'clf__class_weight': 'balanced', 'clf__kernel': 'linear', 'tfidf__ngram_range': (1, 3)}\n",
      "Mean: 0.863333 Stdev:(0.034175) with: {'clf__C': 1.0, 'clf__class_weight': 'balanced', 'clf__kernel': 'rbf', 'tfidf__ngram_range': (1, 1)}\n",
      "Mean: 0.873333 Stdev:(0.030611) with: {'clf__C': 1.0, 'clf__class_weight': 'balanced', 'clf__kernel': 'rbf', 'tfidf__ngram_range': (1, 2)}\n",
      "Mean: 0.875556 Stdev:(0.033444) with: {'clf__C': 1.0, 'clf__class_weight': 'balanced', 'clf__kernel': 'rbf', 'tfidf__ngram_range': (1, 3)}\n",
      "Mean: 0.799444 Stdev:(0.037798) with: {'clf__C': 1.0, 'clf__class_weight': 'balanced', 'clf__kernel': 'sigmoid', 'tfidf__ngram_range': (1, 1)}\n",
      "Mean: 0.837222 Stdev:(0.047923) with: {'clf__C': 1.0, 'clf__class_weight': 'balanced', 'clf__kernel': 'sigmoid', 'tfidf__ngram_range': (1, 2)}\n",
      "Mean: 0.853889 Stdev:(0.035664) with: {'clf__C': 1.0, 'clf__class_weight': 'balanced', 'clf__kernel': 'sigmoid', 'tfidf__ngram_range': (1, 3)}\n",
      "Mean: 0.851667 Stdev:(0.032778) with: {'clf__C': 1.0, 'clf__class_weight': 'balanced', 'clf__kernel': 'poly', 'tfidf__ngram_range': (1, 1)}\n",
      "Mean: 0.841667 Stdev:(0.031647) with: {'clf__C': 1.0, 'clf__class_weight': 'balanced', 'clf__kernel': 'poly', 'tfidf__ngram_range': (1, 2)}\n",
      "Mean: 0.839444 Stdev:(0.030475) with: {'clf__C': 1.0, 'clf__class_weight': 'balanced', 'clf__kernel': 'poly', 'tfidf__ngram_range': (1, 3)}\n",
      "Mean: 0.832778 Stdev:(0.048077) with: {'clf__C': 1.5, 'clf__class_weight': 'balanced', 'clf__kernel': 'linear', 'tfidf__ngram_range': (1, 1)}\n",
      "Mean: 0.866667 Stdev:(0.032867) with: {'clf__C': 1.5, 'clf__class_weight': 'balanced', 'clf__kernel': 'linear', 'tfidf__ngram_range': (1, 2)}\n",
      "Mean: 0.871111 Stdev:(0.033592) with: {'clf__C': 1.5, 'clf__class_weight': 'balanced', 'clf__kernel': 'linear', 'tfidf__ngram_range': (1, 3)}\n",
      "Mean: 0.865000 Stdev:(0.033523) with: {'clf__C': 1.5, 'clf__class_weight': 'balanced', 'clf__kernel': 'rbf', 'tfidf__ngram_range': (1, 1)}\n",
      "Mean: 0.873333 Stdev:(0.029690) with: {'clf__C': 1.5, 'clf__class_weight': 'balanced', 'clf__kernel': 'rbf', 'tfidf__ngram_range': (1, 2)}\n",
      "Mean: 0.869444 Stdev:(0.032891) with: {'clf__C': 1.5, 'clf__class_weight': 'balanced', 'clf__kernel': 'rbf', 'tfidf__ngram_range': (1, 3)}\n",
      "Mean: 0.797222 Stdev:(0.042546) with: {'clf__C': 1.5, 'clf__class_weight': 'balanced', 'clf__kernel': 'sigmoid', 'tfidf__ngram_range': (1, 1)}\n",
      "Mean: 0.848333 Stdev:(0.040904) with: {'clf__C': 1.5, 'clf__class_weight': 'balanced', 'clf__kernel': 'sigmoid', 'tfidf__ngram_range': (1, 2)}\n",
      "Mean: 0.868333 Stdev:(0.031919) with: {'clf__C': 1.5, 'clf__class_weight': 'balanced', 'clf__kernel': 'sigmoid', 'tfidf__ngram_range': (1, 3)}\n",
      "Mean: 0.851111 Stdev:(0.032754) with: {'clf__C': 1.5, 'clf__class_weight': 'balanced', 'clf__kernel': 'poly', 'tfidf__ngram_range': (1, 1)}\n",
      "Mean: 0.841667 Stdev:(0.031452) with: {'clf__C': 1.5, 'clf__class_weight': 'balanced', 'clf__kernel': 'poly', 'tfidf__ngram_range': (1, 2)}\n",
      "Mean: 0.839444 Stdev:(0.030475) with: {'clf__C': 1.5, 'clf__class_weight': 'balanced', 'clf__kernel': 'poly', 'tfidf__ngram_range': (1, 3)}\n",
      "Mean: 0.832778 Stdev:(0.046445) with: {'clf__C': 2.0, 'clf__class_weight': 'balanced', 'clf__kernel': 'linear', 'tfidf__ngram_range': (1, 1)}\n",
      "Mean: 0.867778 Stdev:(0.033036) with: {'clf__C': 2.0, 'clf__class_weight': 'balanced', 'clf__kernel': 'linear', 'tfidf__ngram_range': (1, 2)}\n",
      "Mean: 0.870556 Stdev:(0.033889) with: {'clf__C': 2.0, 'clf__class_weight': 'balanced', 'clf__kernel': 'linear', 'tfidf__ngram_range': (1, 3)}\n",
      "Mean: 0.866667 Stdev:(0.035312) with: {'clf__C': 2.0, 'clf__class_weight': 'balanced', 'clf__kernel': 'rbf', 'tfidf__ngram_range': (1, 1)}\n",
      "Mean: 0.871111 Stdev:(0.029376) with: {'clf__C': 2.0, 'clf__class_weight': 'balanced', 'clf__kernel': 'rbf', 'tfidf__ngram_range': (1, 2)}\n",
      "Mean: 0.871111 Stdev:(0.031210) with: {'clf__C': 2.0, 'clf__class_weight': 'balanced', 'clf__kernel': 'rbf', 'tfidf__ngram_range': (1, 3)}\n",
      "Mean: 0.802222 Stdev:(0.039299) with: {'clf__C': 2.0, 'clf__class_weight': 'balanced', 'clf__kernel': 'sigmoid', 'tfidf__ngram_range': (1, 1)}\n",
      "Mean: 0.858333 Stdev:(0.033998) with: {'clf__C': 2.0, 'clf__class_weight': 'balanced', 'clf__kernel': 'sigmoid', 'tfidf__ngram_range': (1, 2)}\n",
      "Mean: 0.866667 Stdev:(0.031817) with: {'clf__C': 2.0, 'clf__class_weight': 'balanced', 'clf__kernel': 'sigmoid', 'tfidf__ngram_range': (1, 3)}\n",
      "Mean: 0.851111 Stdev:(0.032754) with: {'clf__C': 2.0, 'clf__class_weight': 'balanced', 'clf__kernel': 'poly', 'tfidf__ngram_range': (1, 1)}\n",
      "Mean: 0.841667 Stdev:(0.031452) with: {'clf__C': 2.0, 'clf__class_weight': 'balanced', 'clf__kernel': 'poly', 'tfidf__ngram_range': (1, 2)}\n",
      "Mean: 0.839444 Stdev:(0.030475) with: {'clf__C': 2.0, 'clf__class_weight': 'balanced', 'clf__kernel': 'poly', 'tfidf__ngram_range': (1, 3)}\n",
      "Mean: 0.833889 Stdev:(0.042778) with: {'clf__C': 2.5, 'clf__class_weight': 'balanced', 'clf__kernel': 'linear', 'tfidf__ngram_range': (1, 1)}\n",
      "Mean: 0.865556 Stdev:(0.031210) with: {'clf__C': 2.5, 'clf__class_weight': 'balanced', 'clf__kernel': 'linear', 'tfidf__ngram_range': (1, 2)}\n",
      "Mean: 0.869444 Stdev:(0.032131) with: {'clf__C': 2.5, 'clf__class_weight': 'balanced', 'clf__kernel': 'linear', 'tfidf__ngram_range': (1, 3)}\n",
      "Mean: 0.866111 Stdev:(0.033375) with: {'clf__C': 2.5, 'clf__class_weight': 'balanced', 'clf__kernel': 'rbf', 'tfidf__ngram_range': (1, 1)}\n",
      "Mean: 0.871667 Stdev:(0.030169) with: {'clf__C': 2.5, 'clf__class_weight': 'balanced', 'clf__kernel': 'rbf', 'tfidf__ngram_range': (1, 2)}\n",
      "Mean: 0.872222 Stdev:(0.030123) with: {'clf__C': 2.5, 'clf__class_weight': 'balanced', 'clf__kernel': 'rbf', 'tfidf__ngram_range': (1, 3)}\n",
      "Mean: 0.796667 Stdev:(0.040840) with: {'clf__C': 2.5, 'clf__class_weight': 'balanced', 'clf__kernel': 'sigmoid', 'tfidf__ngram_range': (1, 1)}\n",
      "Mean: 0.856111 Stdev:(0.032627) with: {'clf__C': 2.5, 'clf__class_weight': 'balanced', 'clf__kernel': 'sigmoid', 'tfidf__ngram_range': (1, 2)}\n",
      "Mean: 0.868889 Stdev:(0.034265) with: {'clf__C': 2.5, 'clf__class_weight': 'balanced', 'clf__kernel': 'sigmoid', 'tfidf__ngram_range': (1, 3)}\n",
      "Mean: 0.851667 Stdev:(0.032778) with: {'clf__C': 2.5, 'clf__class_weight': 'balanced', 'clf__kernel': 'poly', 'tfidf__ngram_range': (1, 1)}\n",
      "Mean: 0.841667 Stdev:(0.031452) with: {'clf__C': 2.5, 'clf__class_weight': 'balanced', 'clf__kernel': 'poly', 'tfidf__ngram_range': (1, 2)}\n",
      "Mean: 0.839444 Stdev:(0.030475) with: {'clf__C': 2.5, 'clf__class_weight': 'balanced', 'clf__kernel': 'poly', 'tfidf__ngram_range': (1, 3)}\n",
      "Mean: 0.841111 Stdev:(0.040537) with: {'clf__C': 3.0, 'clf__class_weight': 'balanced', 'clf__kernel': 'linear', 'tfidf__ngram_range': (1, 1)}\n",
      "Mean: 0.866111 Stdev:(0.031471) with: {'clf__C': 3.0, 'clf__class_weight': 'balanced', 'clf__kernel': 'linear', 'tfidf__ngram_range': (1, 2)}\n",
      "Mean: 0.871111 Stdev:(0.031798) with: {'clf__C': 3.0, 'clf__class_weight': 'balanced', 'clf__kernel': 'linear', 'tfidf__ngram_range': (1, 3)}\n",
      "Mean: 0.866111 Stdev:(0.034645) with: {'clf__C': 3.0, 'clf__class_weight': 'balanced', 'clf__kernel': 'rbf', 'tfidf__ngram_range': (1, 1)}\n",
      "Mean: 0.872222 Stdev:(0.029814) with: {'clf__C': 3.0, 'clf__class_weight': 'balanced', 'clf__kernel': 'rbf', 'tfidf__ngram_range': (1, 2)}\n",
      "Mean: 0.872222 Stdev:(0.030123) with: {'clf__C': 3.0, 'clf__class_weight': 'balanced', 'clf__kernel': 'rbf', 'tfidf__ngram_range': (1, 3)}\n",
      "Mean: 0.796111 Stdev:(0.040219) with: {'clf__C': 3.0, 'clf__class_weight': 'balanced', 'clf__kernel': 'sigmoid', 'tfidf__ngram_range': (1, 1)}\n",
      "Mean: 0.856667 Stdev:(0.032565) with: {'clf__C': 3.0, 'clf__class_weight': 'balanced', 'clf__kernel': 'sigmoid', 'tfidf__ngram_range': (1, 2)}\n",
      "Mean: 0.869444 Stdev:(0.032702) with: {'clf__C': 3.0, 'clf__class_weight': 'balanced', 'clf__kernel': 'sigmoid', 'tfidf__ngram_range': (1, 3)}\n",
      "Mean: 0.851667 Stdev:(0.032778) with: {'clf__C': 3.0, 'clf__class_weight': 'balanced', 'clf__kernel': 'poly', 'tfidf__ngram_range': (1, 1)}\n",
      "Mean: 0.841667 Stdev:(0.031452) with: {'clf__C': 3.0, 'clf__class_weight': 'balanced', 'clf__kernel': 'poly', 'tfidf__ngram_range': (1, 2)}\n",
      "Mean: 0.839444 Stdev:(0.030475) with: {'clf__C': 3.0, 'clf__class_weight': 'balanced', 'clf__kernel': 'poly', 'tfidf__ngram_range': (1, 3)}\n"
     ]
    }
   ],
   "source": [
    "\"\"\"\n",
    "Proses menampilkan setiap kombinasi nilai hyperparameter dari proses pengujian sebelumnya, hal ini memudahkan untuk melihat \n",
    "setiap alur dari pencocokan berlangsung yang dimana hasil akhir berupa nilai terbaik dari kombinasi antar beberapa estimator\n",
    "(seperti pemilihan fitur) yang diujikan pada 1 set penyetelan dalam sistem pipeline.\n",
    "\"\"\"\n",
    "\n",
    "print(\"Best parameters set found on development set:\")\n",
    "print(clf_svm.best_params_)\n",
    "print(\"Best Score:\", clf_svm.best_score_)\n",
    "print('\\n')\n",
    "\n",
    "means = clf_svm.cv_results_['mean_test_score'] #nilai rata rata akurasi\n",
    "stds = clf_svm.cv_results_['std_test_score'] #nilai standar deviasi\n",
    "params = clf_svm.cv_results_['params'] #nilai-nilai param yang sudah didefinisikan ke opsi pengujian sebelumnya (text_clf_svm,\n",
    "#tuned_parameters_svm yang dimana ditampilkan dalam bentuk berupa pencocokan secara satu-persatu\n",
    "\n",
    "#Proses perulangan untuk menampilkan nilai-nilai tersebut\n",
    "for mean, stdev, param in zip(means,stds,params):\n",
    "    print(\"Mean: %f Stdev:(%f) with: %r\" % (mean,stdev,param))"
   ]
  },
  {
   "cell_type": "code",
   "execution_count": 49,
   "id": "0f8914fa",
   "metadata": {},
   "outputs": [
    {
     "data": {
      "text/html": [
       "<div>\n",
       "<style scoped>\n",
       "    .dataframe tbody tr th:only-of-type {\n",
       "        vertical-align: middle;\n",
       "    }\n",
       "\n",
       "    .dataframe tbody tr th {\n",
       "        vertical-align: top;\n",
       "    }\n",
       "\n",
       "    .dataframe thead th {\n",
       "        text-align: right;\n",
       "    }\n",
       "</style>\n",
       "<table border=\"1\" class=\"dataframe\">\n",
       "  <thead>\n",
       "    <tr style=\"text-align: right;\">\n",
       "      <th></th>\n",
       "      <th>clf__C</th>\n",
       "      <th>clf__class_weight</th>\n",
       "      <th>clf__kernel</th>\n",
       "      <th>tfidf__ngram_range</th>\n",
       "      <th>test_score</th>\n",
       "      <th>train_score</th>\n",
       "    </tr>\n",
       "  </thead>\n",
       "  <tbody>\n",
       "    <tr>\n",
       "      <th>0</th>\n",
       "      <td>0.5</td>\n",
       "      <td>balanced</td>\n",
       "      <td>linear</td>\n",
       "      <td>(1, 1)</td>\n",
       "      <td>0.810556</td>\n",
       "      <td>0.898210</td>\n",
       "    </tr>\n",
       "    <tr>\n",
       "      <th>1</th>\n",
       "      <td>0.5</td>\n",
       "      <td>balanced</td>\n",
       "      <td>linear</td>\n",
       "      <td>(1, 2)</td>\n",
       "      <td>0.835556</td>\n",
       "      <td>0.945988</td>\n",
       "    </tr>\n",
       "    <tr>\n",
       "      <th>2</th>\n",
       "      <td>0.5</td>\n",
       "      <td>balanced</td>\n",
       "      <td>linear</td>\n",
       "      <td>(1, 3)</td>\n",
       "      <td>0.851111</td>\n",
       "      <td>0.967654</td>\n",
       "    </tr>\n",
       "    <tr>\n",
       "      <th>3</th>\n",
       "      <td>0.5</td>\n",
       "      <td>balanced</td>\n",
       "      <td>rbf</td>\n",
       "      <td>(1, 1)</td>\n",
       "      <td>0.839444</td>\n",
       "      <td>0.953827</td>\n",
       "    </tr>\n",
       "    <tr>\n",
       "      <th>4</th>\n",
       "      <td>0.5</td>\n",
       "      <td>balanced</td>\n",
       "      <td>rbf</td>\n",
       "      <td>(1, 2)</td>\n",
       "      <td>0.860556</td>\n",
       "      <td>0.989198</td>\n",
       "    </tr>\n",
       "    <tr>\n",
       "      <th>...</th>\n",
       "      <td>...</td>\n",
       "      <td>...</td>\n",
       "      <td>...</td>\n",
       "      <td>...</td>\n",
       "      <td>...</td>\n",
       "      <td>...</td>\n",
       "    </tr>\n",
       "    <tr>\n",
       "      <th>67</th>\n",
       "      <td>3.0</td>\n",
       "      <td>balanced</td>\n",
       "      <td>sigmoid</td>\n",
       "      <td>(1, 2)</td>\n",
       "      <td>0.856667</td>\n",
       "      <td>0.992716</td>\n",
       "    </tr>\n",
       "    <tr>\n",
       "      <th>68</th>\n",
       "      <td>3.0</td>\n",
       "      <td>balanced</td>\n",
       "      <td>sigmoid</td>\n",
       "      <td>(1, 3)</td>\n",
       "      <td>0.869444</td>\n",
       "      <td>0.996296</td>\n",
       "    </tr>\n",
       "    <tr>\n",
       "      <th>69</th>\n",
       "      <td>3.0</td>\n",
       "      <td>balanced</td>\n",
       "      <td>poly</td>\n",
       "      <td>(1, 1)</td>\n",
       "      <td>0.851667</td>\n",
       "      <td>0.999938</td>\n",
       "    </tr>\n",
       "    <tr>\n",
       "      <th>70</th>\n",
       "      <td>3.0</td>\n",
       "      <td>balanced</td>\n",
       "      <td>poly</td>\n",
       "      <td>(1, 2)</td>\n",
       "      <td>0.841667</td>\n",
       "      <td>1.000000</td>\n",
       "    </tr>\n",
       "    <tr>\n",
       "      <th>71</th>\n",
       "      <td>3.0</td>\n",
       "      <td>balanced</td>\n",
       "      <td>poly</td>\n",
       "      <td>(1, 3)</td>\n",
       "      <td>0.839444</td>\n",
       "      <td>1.000000</td>\n",
       "    </tr>\n",
       "  </tbody>\n",
       "</table>\n",
       "<p>72 rows × 6 columns</p>\n",
       "</div>"
      ],
      "text/plain": [
       "    clf__C clf__class_weight clf__kernel tfidf__ngram_range  test_score  \\\n",
       "0      0.5          balanced      linear             (1, 1)    0.810556   \n",
       "1      0.5          balanced      linear             (1, 2)    0.835556   \n",
       "2      0.5          balanced      linear             (1, 3)    0.851111   \n",
       "3      0.5          balanced         rbf             (1, 1)    0.839444   \n",
       "4      0.5          balanced         rbf             (1, 2)    0.860556   \n",
       "..     ...               ...         ...                ...         ...   \n",
       "67     3.0          balanced     sigmoid             (1, 2)    0.856667   \n",
       "68     3.0          balanced     sigmoid             (1, 3)    0.869444   \n",
       "69     3.0          balanced        poly             (1, 1)    0.851667   \n",
       "70     3.0          balanced        poly             (1, 2)    0.841667   \n",
       "71     3.0          balanced        poly             (1, 3)    0.839444   \n",
       "\n",
       "    train_score  \n",
       "0      0.898210  \n",
       "1      0.945988  \n",
       "2      0.967654  \n",
       "3      0.953827  \n",
       "4      0.989198  \n",
       "..          ...  \n",
       "67     0.992716  \n",
       "68     0.996296  \n",
       "69     0.999938  \n",
       "70     1.000000  \n",
       "71     1.000000  \n",
       "\n",
       "[72 rows x 6 columns]"
      ]
     },
     "execution_count": 49,
     "metadata": {},
     "output_type": "execute_result"
    }
   ],
   "source": [
    "\"\"\"\n",
    "Meringkas hasil dari GrisSearchCV\n",
    "Menampilkan hasil setiap pencocokan parameter dari proses GridSearchCV beserta nilai pelatihan dan pengujian dari setiap \n",
    "kombinasi dalam bentuk DataFrame yang isinya berupa pasangan kombinasi tiap hyperparameter yang diujikan.\n",
    "\"\"\"\n",
    "\n",
    "result_svm = pd.DataFrame(clf_svm.cv_results_['params'])\n",
    "result_svm['test_score'] = clf_svm.cv_results_['mean_test_score']\n",
    "result_svm['train_score'] = clf_svm.cv_results_['mean_train_score']\n",
    "result_svm"
   ]
  },
  {
   "cell_type": "markdown",
   "id": "de3e3ff0",
   "metadata": {},
   "source": [
    "# Proses Pemodelan SVM"
   ]
  },
  {
   "cell_type": "code",
   "execution_count": 50,
   "id": "33f0be83",
   "metadata": {},
   "outputs": [
    {
     "name": "stdout",
     "output_type": "stream",
     "text": [
      "train time: 0.665s\n",
      "================================\n",
      "Hasil Score data train :  0.9961111111111111\n",
      "Hasil Score data test :  0.855\n"
     ]
    }
   ],
   "source": [
    "t = time()\n",
    "\n",
    "#Proses melatih model\n",
    "#Mengaktifkan/memanggil/membuat fungsi klasifikasi Support Vector Machine dengan pemilihan fitur yang akan digunakan\n",
    "#Dalam proses ini hasil nilai setiap parameter didapat dari proses sebelumnya setelah melakukan proses pencocokan atau\n",
    "#kombinasi, yaitu proses hyperparameter tuning.\n",
    "#Membuat objek svm sebagai fungsi dari metode Support Vector Machine yang di dalamnya menggunakan parameter yang diperoleh dari hasil grid \n",
    "svm = Pipeline([('tfidf', TfidfVectorizer(ngram_range=(1,3))),\n",
    "                ('clf', SVC(C=1.5, class_weight='balanced', kernel='linear'))\n",
    "               ])\n",
    "\n",
    "\"\"\"\n",
    "Sesuaikan dengan model/Masukkan ke model/Fit the model. Memasukkan data training pada fungsi klasifikasi BNB.\n",
    "Masukan dalam bentuk parameter yang berisi X_train (kumpulan data pelatihan yang bersifat independen), y_train (kumpulan label \n",
    "untuk semua data di X_train yang bersifat dependen yang perlu diprediksi oleh model)\n",
    "\n",
    "Cocokkan semua transformasi satu demi satu dan transformasikan data, kemudian set data yang ditransformasi menggunakan \n",
    "estimator akhir.\n",
    "\"\"\"\n",
    "#Fitting model dimana model belajar untuk mencari hubungan antara X_train dan y_train \n",
    "svm.fit(X_train,y_train)\n",
    "\n",
    "#Untuk set waktu selama proses training sedang berjalan\n",
    "training_time = time() - t\n",
    "\n",
    "print(\"train time: %0.3fs\" % training_time)\n",
    "print(\"================================\")\n",
    "print(\"Hasil Score data train : \", svm.score(X_train,y_train))\n",
    "print(\"Hasil Score data test : \", svm.score(X_test,y_test))"
   ]
  },
  {
   "cell_type": "code",
   "execution_count": 51,
   "id": "c06c7de7",
   "metadata": {},
   "outputs": [
    {
     "name": "stdout",
     "output_type": "stream",
     "text": [
      "cross validation score [0.83888889 0.81111111 0.86666667 0.86111111 0.88888889 0.84444444\n",
      " 0.90555556 0.86111111 0.91111111 0.92222222]\n",
      "Average cross-validation Mean Score : 0.8711\n",
      "Average cross-validation Std Score : 0.0336\n"
     ]
    }
   ],
   "source": [
    "\n",
    "\"\"\"\n",
    "Set validasi adalah subset dari kumpulan data (terpisah dari set pelatihan) yang digunakan untuk menyesuaikan hyperparameter.\n",
    "Hal ini digunakan untuk mengetahui seberapa bagus model yang dibangun pada proses sebelumnya dengan menggunakan nilai \n",
    "validasi sebanyak 10 pembagian data yang bekerja secara acak dengan membagi 10 bagian secara rata dengan jumlah data yang sama. \n",
    "Selanjutnya dilakukan proses silang, dimana data training dijadikan data testing dan sebaliknya, proses ini diulang sebanyak 10\n",
    "kali pada training set yang berbeda. \n",
    "\n",
    "Rata-rata perkiraan nilai dari 10-fold cross validation digunakan untuk menghasilkan perkiraan keseluruhan. \n",
    "\n",
    "\"\"\"\n",
    "\n",
    "\"\"\"opsi penjelasan\n",
    "Setelah tahapan melatih model, langkah selanjutnya adalah hasil pelatihan model tersebut di evaluasi untuk melihat seberapa \n",
    "bagus kinerja dari model tersebut dengan memvalidasi terlebih dahulu kemudian dilakukan proses testing menggunakan data testing \n",
    "yang sudah disediakan sebelumnya.\n",
    "\"\"\"\n",
    "#Melakukan validasi sebanyak 10 kali\n",
    "cv = KFold(n_splits=10, shuffle=True, random_state=1)\n",
    "accuracy = cross_val_score(svm, X_train, y_train, scoring = 'accuracy', cv = cv)\n",
    "print('cross validation score', accuracy)\n",
    "\n",
    "#compute average cross-validation score\n",
    "print('Average cross-validation Mean Score : {:.4f}'.format(accuracy.mean()))\n",
    "\n",
    "#compute average cross-validation score\n",
    "print('Average cross-validation Std Score : {:.4f}'.format(accuracy.std()))"
   ]
  },
  {
   "cell_type": "code",
   "execution_count": 52,
   "id": "5056a6f6",
   "metadata": {},
   "outputs": [
    {
     "data": {
      "image/png": "[encoded data removed]",
      "text/plain": [
       "<Figure size 576x396 with 1 Axes>"
      ]
     },
     "metadata": {},
     "output_type": "display_data"
    },
    {
     "data": {
      "text/plain": [
       "<AxesSubplot:title={'center':'Cross Validation Scores for SVC'}, xlabel='Training Instances', ylabel='Score'>"
      ]
     },
     "execution_count": 52,
     "metadata": {},
     "output_type": "execute_result"
    }
   ],
   "source": [
    "#Visualisasi untuk nilai setiap literasi dalam proses Validasi Silang di algoritma SVM\n",
    "#!pip install yellowbrick\n",
    "\n",
    "#Import library untuk visualisasi nilai validasi silang\n",
    "from yellowbrick.model_selection import CVScores\n",
    "\n",
    "\"\"\"\n",
    "Peringatan disediakan untuk memperingatkan pengembang tentang situasi yang belum tentu merupakan pengecualian. Biasanya, \n",
    "peringatan terjadi ketika ada beberapa elemen pemrograman tertentu yang sudah usang, seperti kata kunci, fungsi atau kelas, \n",
    "dll. Peringatan dalam program berbeda dari kesalahan. Program Python segera berakhir jika terjadi kesalahan. Sebaliknya,\n",
    "peringatan tidaklah penting. Ini menunjukkan beberapa pesan, tetapi program berjalan.\n",
    "\"\"\"\n",
    "import warnings \n",
    "#Warning Class: Ini adalah kelas super dari semua kelas kategori peringatan dan subkelas dari kelas Exception.\n",
    "#ImportWarning Class: Kelas dasar untuk peringatan yang disebabkan selama proses impor modul.\n",
    "\n",
    "warnings.filterwarnings('ignore')\n",
    "#\"ignore\" merupakan action yang artinya jangan pernah menampilkan peringatan yang cocok\n",
    "#filterwarnings(action, message=”, category=Warning, module=”, lineno=0, append=False): This function adds an entry into the \n",
    "#specifications of the warnings filter.\n",
    "\n",
    "cv = KFold(n_splits=10, shuffle=True, random_state=1)\n",
    "visualizer = CVScores(svm, cv=cv, scoring='accuracy') #Fungsi ini menambahkan entri ke dalam spesifikasi filter peringatan.\n",
    "visualizer.fit(X_train,y_train)\n",
    "visualizer.show()"
   ]
  },
  {
   "cell_type": "code",
   "execution_count": 53,
   "id": "c54dff65",
   "metadata": {},
   "outputs": [
    {
     "name": "stdout",
     "output_type": "stream",
     "text": [
      "test time:  0.000s\n",
      "========================\n",
      "              precision    recall  f1-score   support\n",
      "\n",
      "           0       0.84      0.81      0.82        84\n",
      "           1       0.87      0.89      0.88       116\n",
      "\n",
      "    accuracy                           0.85       200\n",
      "   macro avg       0.85      0.85      0.85       200\n",
      "weighted avg       0.85      0.85      0.85       200\n",
      "\n",
      "\n",
      "\n",
      "Accuracy Score - SVM: 0.855\n"
     ]
    }
   ],
   "source": [
    "\n",
    "\"\"\"\n",
    "Perhitungan nilai evaluasi dihasilkan setelah proses validasi, yang dimana dari proses pelatihan, divalidasi dengan data \n",
    "testing yang sudah disiapkan kemudian menghasilkan nilai evaluasi seperti classification report atau metrik performa akurasi, \n",
    "presisi, recall, f1-score\n",
    "\"\"\"\n",
    "\n",
    "#Waktu komputasi untuk testing data\n",
    "t = time()\n",
    "test_time = time() - t\n",
    "\n",
    "print(\"test time:  %0.3fs\" % test_time)\n",
    "print(\"========================\")\n",
    "\n",
    "#Menentukan hasil prediksi dari X_test\n",
    "#get predictions from model \n",
    "#Selanjutnya melakukan pengujian mengenai keakuratan model SVM terhadap data yang ada, prosesnya dilakukan dengan memprediksi\n",
    "#data setelah proses training yang diprediksi oleh model\n",
    "y_pred_svm = svm.predict(X_test)\n",
    "\n",
    "\"\"\"\n",
    "Setelah proses klasifikasi selesai, diperlukan adanya evaluasi untuk menentukan kualitas metode yang telah berhasil dibuat pada \n",
    "tahap sebelumnya. Pada tahap evaluasi ini metrik performa accuracy, precision, recall, dan F1-Score akan digunakan untuk menguji \n",
    "kinerja proses klasifikasi yang ditampilkan melalui function classification_report dimana berisi parameter masukan yaitu y_test\n",
    "(kumpulan label dari semua data di X_test;data pengujian) dan y_pred_bnb (proses prediksi kumpulan data pengujian (X_test) yang\n",
    "bersifat variabel independen)\n",
    "\"\"\"\n",
    "# Classify and report the results\n",
    "print(classification_report(y_test, y_pred_svm))\n",
    "print('\\n')\n",
    "\n",
    "#print('BEST SVM MODEL')\n",
    "print('Accuracy Score - SVM:', metrics.accuracy_score(y_test, y_pred_svm))"
   ]
  },
  {
   "cell_type": "code",
   "execution_count": 54,
   "id": "625855fb",
   "metadata": {},
   "outputs": [
    {
     "data": {
      "image/png": "[encoded data removed]",
      "text/plain": [
       "<Figure size 576x396 with 2 Axes>"
      ]
     },
     "metadata": {},
     "output_type": "display_data"
    },
    {
     "data": {
      "text/plain": [
       "<AxesSubplot:title={'center':'SVC Classification Report'}>"
      ]
     },
     "execution_count": 54,
     "metadata": {},
     "output_type": "execute_result"
    }
   ],
   "source": [
    "#Library untuk menampilkan laporan evaluasi model klasifikasi dalam bentuk visualisasi agar lebih mudah dipahami\n",
    "#from yellowbrick.classifier import ClassificationReport\n",
    "\n",
    "#Buat contoh model pengelompokan dan visualizer\n",
    "visualizer = ClassificationReport(svm,support=True,cmap='Blues')\n",
    "\n",
    "visualizer.fit(X_train, y_train)  #Sesuaikan visualisator dan modelnya\n",
    "visualizer.score(X_test, y_test)  #Evaluasi model pada data pengujian\n",
    "visualizer.show()"
   ]
  },
  {
   "cell_type": "code",
   "execution_count": 55,
   "id": "ab156bb6",
   "metadata": {},
   "outputs": [
    {
     "data": {
      "text/html": [
       "<div>\n",
       "<style scoped>\n",
       "    .dataframe tbody tr th:only-of-type {\n",
       "        vertical-align: middle;\n",
       "    }\n",
       "\n",
       "    .dataframe tbody tr th {\n",
       "        vertical-align: top;\n",
       "    }\n",
       "\n",
       "    .dataframe thead th {\n",
       "        text-align: right;\n",
       "    }\n",
       "</style>\n",
       "<table border=\"1\" class=\"dataframe\">\n",
       "  <thead>\n",
       "    <tr style=\"text-align: right;\">\n",
       "      <th></th>\n",
       "      <th>negatif</th>\n",
       "      <th>positif</th>\n",
       "      <th>accuracy</th>\n",
       "      <th>macro avg</th>\n",
       "      <th>weighted avg</th>\n",
       "    </tr>\n",
       "  </thead>\n",
       "  <tbody>\n",
       "    <tr>\n",
       "      <th>precision</th>\n",
       "      <td>0.839506</td>\n",
       "      <td>0.865546</td>\n",
       "      <td>0.855</td>\n",
       "      <td>0.852526</td>\n",
       "      <td>0.854609</td>\n",
       "    </tr>\n",
       "    <tr>\n",
       "      <th>recall</th>\n",
       "      <td>0.809524</td>\n",
       "      <td>0.887931</td>\n",
       "      <td>0.855</td>\n",
       "      <td>0.848727</td>\n",
       "      <td>0.855000</td>\n",
       "    </tr>\n",
       "    <tr>\n",
       "      <th>f1-score</th>\n",
       "      <td>0.824242</td>\n",
       "      <td>0.876596</td>\n",
       "      <td>0.855</td>\n",
       "      <td>0.850419</td>\n",
       "      <td>0.854607</td>\n",
       "    </tr>\n",
       "    <tr>\n",
       "      <th>support</th>\n",
       "      <td>84.000000</td>\n",
       "      <td>116.000000</td>\n",
       "      <td>0.855</td>\n",
       "      <td>200.000000</td>\n",
       "      <td>200.000000</td>\n",
       "    </tr>\n",
       "  </tbody>\n",
       "</table>\n",
       "</div>"
      ],
      "text/plain": [
       "             negatif     positif  accuracy   macro avg  weighted avg\n",
       "precision   0.839506    0.865546     0.855    0.852526      0.854609\n",
       "recall      0.809524    0.887931     0.855    0.848727      0.855000\n",
       "f1-score    0.824242    0.876596     0.855    0.850419      0.854607\n",
       "support    84.000000  116.000000     0.855  200.000000    200.000000"
      ]
     },
     "metadata": {},
     "output_type": "display_data"
    },
    {
     "data": {
      "image/png": "[encoded data removed]",
      "text/plain": [
       "<Figure size 720x576 with 1 Axes>"
      ]
     },
     "metadata": {},
     "output_type": "display_data"
    }
   ],
   "source": [
    "import matplotlib.pyplot as plt #Import library untuk visualisasi gambar\n",
    "\n",
    "\"\"\"\n",
    "Variabel ini digunakan untuk menampung nama label yang digunakan dalam kolom untuk confusion matrix dan berfungsi sebagai tanda\n",
    "label di bagian visualisasi dari classification report, membuat label yang akan digunakan dan kolom untuk confusion matrix di\n",
    "bagian hilir\n",
    "\"\"\"\n",
    "#create labels to be used and columns for a confusion matrix downstream\n",
    "target_labels = ['negatif', 'positif']\n",
    "\n",
    "#store the classification report as a dictionary\n",
    "cr_dict = classification_report(y_test, y_pred_svm, target_names=target_labels, output_dict=True)\n",
    "\n",
    "#convert the classification report dictionary into a data frame\n",
    "cr_data = pd.DataFrame(cr_dict)\n",
    "display(cr_data)\n",
    "\n",
    "#plot the classification report scores\n",
    "ax = cr_data.iloc[:-1, :2].plot.bar(figsize=(10,8),color=['#d9534f','#5bc0de'])\n",
    "plt.title(\"SVM Classification Report\")\n",
    "plt.xlabel('Metrics', labelpad=20)\n",
    "\n",
    "#fix the x-tick mark rotation\n",
    "plt.xticks(rotation=0)\n",
    "\n",
    "#create custom y-tick marks and labels for percentage representation\n",
    "#create an array of even tick marks from 0 to 1\n",
    "percent_ticks = np.linspace(0,1,11, endpoint=True)\n",
    "\n",
    "#create a list of strings representing the percentage at each tick\n",
    "percent_labels = [f'{int(t*100)}%' for t in percent_ticks]\n",
    "plt.yticks(ticks=percent_ticks,labels=percent_labels)\n",
    "plt.ylabel('Percentage (%)')\n",
    "plt.margins(0.2,0.2)\n",
    "\n",
    "#Perulangan untuk menampilkan nilai dari hasil parameter pengujian di setiap visualisasi yang ditampilkan\n",
    "for p in ax.patches:\n",
    "    ax.annotate(\n",
    "        \"{}%\".format(str(np.round(p.get_height()*100, 2))),\n",
    "        xy=(p.get_x()*1+p.get_width()/2, p.get_height()*1.02),\n",
    "        ha='center',\n",
    "    )"
   ]
  },
  {
   "cell_type": "code",
   "execution_count": 56,
   "id": "a433495e",
   "metadata": {},
   "outputs": [
    {
     "name": "stdout",
     "output_type": "stream",
     "text": [
      "[[ 68  16]\n",
      " [ 13 103]]\n"
     ]
    }
   ],
   "source": [
    "from sklearn.metrics import confusion_matrix\n",
    "cm_svm = confusion_matrix(y_test, y_pred_svm)\n",
    "print(cm_svm)"
   ]
  },
  {
   "cell_type": "code",
   "execution_count": 57,
   "id": "05960160",
   "metadata": {},
   "outputs": [],
   "source": [
    "\"\"\"\n",
    "Pengukuran Sensitivitas dan Specificity digunakan untuk memplot kurva ROC. Dan, Area under ROC curve (AUC) digunakan untuk \n",
    "menentukan performansi model. Berikut ini adalah kurva ROC yang berbeda dan nilai AOC terkait.\n",
    "\"\"\"\n",
    "#Fungsi untuk menghitung metrik performa sensitivity dan specificity dalam proses klasifikasi\n",
    "def calculate_sensitivity_specificity(y_test, y_pred_test):\n",
    "    # Note: More parameters are defined than necessary. \n",
    "    # This would allow return of other measures other than sensitivity and specificity\n",
    "    \n",
    "    # Get true/false for whether a breach actually occurred\n",
    "    actual_pos = y_test == 1\n",
    "    actual_neg = y_test == 0\n",
    "    \n",
    "    # Get true and false test (true test match actual, false tests differ from actual)\n",
    "    true_pos = (y_pred_svm == 1) & (actual_pos)\n",
    "    false_pos = (y_pred_svm == 1) & (actual_neg)\n",
    "    true_neg = (y_pred_svm == 0) & (actual_neg)\n",
    "    false_neg = (y_pred_svm == 0) & (actual_pos)\n",
    "    \n",
    "    # Calculate accuracy\n",
    "    accuracy_svm = np.mean(y_pred_test == y_test)\n",
    "    \n",
    "    # Calculate average score of sensitivity and specificity\n",
    "    sensitivity_svm = np.sum(true_pos) / np.sum(actual_pos)\n",
    "    specificity_svm = np.sum(true_neg) / np.sum(actual_neg)\n",
    "    \n",
    "    return sensitivity_svm, specificity_svm, accuracy_svm"
   ]
  },
  {
   "cell_type": "code",
   "execution_count": 58,
   "id": "338872c2",
   "metadata": {},
   "outputs": [
    {
     "name": "stdout",
     "output_type": "stream",
     "text": [
      "Sensitivity: 0.8879310344827587\n",
      "Specificity: 0.8095238095238095\n",
      "Accuracy: 0.855\n"
     ]
    }
   ],
   "source": [
    "#Proses perhitungan dengan memanggil fungsi sebelumnya\n",
    "sensitivity_svm, specificity_svm, accuracy_svm = calculate_sensitivity_specificity(y_test, y_pred_svm)\n",
    "print ('Sensitivity:', sensitivity_svm)\n",
    "print ('Specificity:', specificity_svm)\n",
    "print ('Accuracy:', accuracy_svm)"
   ]
  },
  {
   "cell_type": "code",
   "execution_count": 59,
   "id": "430f5ab7",
   "metadata": {},
   "outputs": [
    {
     "data": {
      "text/plain": [
       "<AxesSubplot:>"
      ]
     },
     "execution_count": 59,
     "metadata": {},
     "output_type": "execute_result"
    },
    {
     "data": {
      "image/png": "[encoded data removed]",
      "text/plain": [
       "<Figure size 576x396 with 2 Axes>"
      ]
     },
     "metadata": {},
     "output_type": "display_data"
    }
   ],
   "source": [
    "#Visualisasi untuk Confusion Matrix algoritma SVM\n",
    "import seaborn as sns\n",
    "\n",
    "group_names = ['True Neg','False Pos','False Neg','True Pos']\n",
    "group_counts = [\"{0:0.0f}\".format(value) for value in\n",
    "                cm_svm.flatten()]\n",
    "group_percentages = [\"{0:.2%}\".format(value) for value in\n",
    "                     cm_svm.flatten()/np.sum(cm_svm)]\n",
    "labels = [f\"{v1}\\n{v2}\\n{v3}\" for v1, v2, v3 in\n",
    "          zip(group_names,group_counts,group_percentages)]\n",
    "labels = np.asarray(labels).reshape(2,2)\n",
    "sns.heatmap(cm_svm, annot=labels, fmt='', cmap='Blues')"
   ]
  },
  {
   "cell_type": "markdown",
   "id": "bdda4eb5",
   "metadata": {},
   "source": [
    "# KNN"
   ]
  },
  {
   "cell_type": "code",
   "execution_count": 60,
   "id": "d4790685",
   "metadata": {},
   "outputs": [],
   "source": [
    "text_clf_knn = Pipeline([('tfidf', TfidfVectorizer()),\n",
    "                     ('clf', KNeighborsClassifier())])\n",
    "\n",
    "tuned_parameters_knn = {\n",
    "    'tfidf__ngram_range': [(1, 1), (1, 2), (1, 3)],\n",
    "#   'tfidf__use_idf': (True, False),\n",
    "#   'tfidf__norm': ('l1', 'l2'),\n",
    "#   'tfidf__smooth_idf': (True, False),\n",
    "#   'tfidf__sublinear_tf': (True, False),\n",
    "    'clf__n_neighbors' : [3,4,5,7,8,9,10],\n",
    "#     n = 9\n",
    "#   'clf__leaf_size' : np.arange(1,41,8),\n",
    "#     'clf__p' : [2,3,4,6],\n",
    "    'clf__weights' :  ['uniform', 'distance'],\n",
    "    'clf__metric' : ['minkowski', 'chebyshev','euclidean','manhattan'],\n",
    "#     'clf__n_jobs' : [1, -1]\n",
    "}\n"
   ]
  },
  {
   "cell_type": "code",
   "execution_count": 61,
   "id": "7e5cf404",
   "metadata": {},
   "outputs": [
    {
     "name": "stdout",
     "output_type": "stream",
     "text": [
      "train time: 146.738s\n"
     ]
    }
   ],
   "source": [
    "t = time()\n",
    "#Training the model\n",
    "cv = KFold(n_splits=10, shuffle=True, random_state=1)\n",
    "clf_knn = GridSearchCV(text_clf_knn, tuned_parameters_knn, scoring = 'accuracy',cv=cv, n_jobs = -1, return_train_score=True)\n",
    "\n",
    "#Fit the model\n",
    "clf_knn.fit(X_train,y_train)\n",
    "\n",
    "\n",
    "training_time = time() - t\n",
    "\n",
    "print(\"train time: %0.3fs\" % training_time)"
   ]
  },
  {
   "cell_type": "code",
   "execution_count": 62,
   "id": "0a319339",
   "metadata": {
    "scrolled": true
   },
   "outputs": [
    {
     "name": "stdout",
     "output_type": "stream",
     "text": [
      "Best parameters set found on development set:\n",
      "{'clf__metric': 'minkowski', 'clf__n_neighbors': 7, 'clf__weights': 'distance', 'tfidf__ngram_range': (1, 3)}\n",
      "Best Score: 0.8572222222222223\n",
      "\n",
      "\n",
      "Mean: 0.748889 Stdev:(0.033775) with: {'clf__metric': 'minkowski', 'clf__n_neighbors': 3, 'clf__weights': 'uniform', 'tfidf__ngram_range': (1, 1)}\n",
      "Mean: 0.752222 Stdev:(0.026434) with: {'clf__metric': 'minkowski', 'clf__n_neighbors': 3, 'clf__weights': 'uniform', 'tfidf__ngram_range': (1, 2)}\n",
      "Mean: 0.753889 Stdev:(0.033980) with: {'clf__metric': 'minkowski', 'clf__n_neighbors': 3, 'clf__weights': 'uniform', 'tfidf__ngram_range': (1, 3)}\n",
      "Mean: 0.832222 Stdev:(0.031210) with: {'clf__metric': 'minkowski', 'clf__n_neighbors': 3, 'clf__weights': 'distance', 'tfidf__ngram_range': (1, 1)}\n",
      "Mean: 0.844444 Stdev:(0.024088) with: {'clf__metric': 'minkowski', 'clf__n_neighbors': 3, 'clf__weights': 'distance', 'tfidf__ngram_range': (1, 2)}\n",
      "Mean: 0.845000 Stdev:(0.026696) with: {'clf__metric': 'minkowski', 'clf__n_neighbors': 3, 'clf__weights': 'distance', 'tfidf__ngram_range': (1, 3)}\n",
      "Mean: 0.706667 Stdev:(0.031992) with: {'clf__metric': 'minkowski', 'clf__n_neighbors': 4, 'clf__weights': 'uniform', 'tfidf__ngram_range': (1, 1)}\n",
      "Mean: 0.720000 Stdev:(0.035242) with: {'clf__metric': 'minkowski', 'clf__n_neighbors': 4, 'clf__weights': 'uniform', 'tfidf__ngram_range': (1, 2)}\n",
      "Mean: 0.722778 Stdev:(0.042123) with: {'clf__metric': 'minkowski', 'clf__n_neighbors': 4, 'clf__weights': 'uniform', 'tfidf__ngram_range': (1, 3)}\n",
      "Mean: 0.833889 Stdev:(0.031569) with: {'clf__metric': 'minkowski', 'clf__n_neighbors': 4, 'clf__weights': 'distance', 'tfidf__ngram_range': (1, 1)}\n",
      "Mean: 0.845000 Stdev:(0.023101) with: {'clf__metric': 'minkowski', 'clf__n_neighbors': 4, 'clf__weights': 'distance', 'tfidf__ngram_range': (1, 2)}\n",
      "Mean: 0.846667 Stdev:(0.030348) with: {'clf__metric': 'minkowski', 'clf__n_neighbors': 4, 'clf__weights': 'distance', 'tfidf__ngram_range': (1, 3)}\n",
      "Mean: 0.697778 Stdev:(0.046759) with: {'clf__metric': 'minkowski', 'clf__n_neighbors': 5, 'clf__weights': 'uniform', 'tfidf__ngram_range': (1, 1)}\n",
      "Mean: 0.717778 Stdev:(0.036835) with: {'clf__metric': 'minkowski', 'clf__n_neighbors': 5, 'clf__weights': 'uniform', 'tfidf__ngram_range': (1, 2)}\n",
      "Mean: 0.728333 Stdev:(0.047949) with: {'clf__metric': 'minkowski', 'clf__n_neighbors': 5, 'clf__weights': 'uniform', 'tfidf__ngram_range': (1, 3)}\n",
      "Mean: 0.840000 Stdev:(0.034677) with: {'clf__metric': 'minkowski', 'clf__n_neighbors': 5, 'clf__weights': 'distance', 'tfidf__ngram_range': (1, 1)}\n",
      "Mean: 0.848889 Stdev:(0.032470) with: {'clf__metric': 'minkowski', 'clf__n_neighbors': 5, 'clf__weights': 'distance', 'tfidf__ngram_range': (1, 2)}\n",
      "Mean: 0.850556 Stdev:(0.039942) with: {'clf__metric': 'minkowski', 'clf__n_neighbors': 5, 'clf__weights': 'distance', 'tfidf__ngram_range': (1, 3)}\n",
      "Mean: 0.718889 Stdev:(0.035329) with: {'clf__metric': 'minkowski', 'clf__n_neighbors': 7, 'clf__weights': 'uniform', 'tfidf__ngram_range': (1, 1)}\n",
      "Mean: 0.702778 Stdev:(0.036111) with: {'clf__metric': 'minkowski', 'clf__n_neighbors': 7, 'clf__weights': 'uniform', 'tfidf__ngram_range': (1, 2)}\n",
      "Mean: 0.717222 Stdev:(0.041755) with: {'clf__metric': 'minkowski', 'clf__n_neighbors': 7, 'clf__weights': 'uniform', 'tfidf__ngram_range': (1, 3)}\n",
      "Mean: 0.846111 Stdev:(0.032589) with: {'clf__metric': 'minkowski', 'clf__n_neighbors': 7, 'clf__weights': 'distance', 'tfidf__ngram_range': (1, 1)}\n",
      "Mean: 0.848333 Stdev:(0.029507) with: {'clf__metric': 'minkowski', 'clf__n_neighbors': 7, 'clf__weights': 'distance', 'tfidf__ngram_range': (1, 2)}\n",
      "Mean: 0.857222 Stdev:(0.033706) with: {'clf__metric': 'minkowski', 'clf__n_neighbors': 7, 'clf__weights': 'distance', 'tfidf__ngram_range': (1, 3)}\n",
      "Mean: 0.710556 Stdev:(0.032150) with: {'clf__metric': 'minkowski', 'clf__n_neighbors': 8, 'clf__weights': 'uniform', 'tfidf__ngram_range': (1, 1)}\n",
      "Mean: 0.691111 Stdev:(0.033903) with: {'clf__metric': 'minkowski', 'clf__n_neighbors': 8, 'clf__weights': 'uniform', 'tfidf__ngram_range': (1, 2)}\n",
      "Mean: 0.698333 Stdev:(0.035316) with: {'clf__metric': 'minkowski', 'clf__n_neighbors': 8, 'clf__weights': 'uniform', 'tfidf__ngram_range': (1, 3)}\n",
      "Mean: 0.848333 Stdev:(0.030737) with: {'clf__metric': 'minkowski', 'clf__n_neighbors': 8, 'clf__weights': 'distance', 'tfidf__ngram_range': (1, 1)}\n",
      "Mean: 0.851667 Stdev:(0.026995) with: {'clf__metric': 'minkowski', 'clf__n_neighbors': 8, 'clf__weights': 'distance', 'tfidf__ngram_range': (1, 2)}\n",
      "Mean: 0.855556 Stdev:(0.028760) with: {'clf__metric': 'minkowski', 'clf__n_neighbors': 8, 'clf__weights': 'distance', 'tfidf__ngram_range': (1, 3)}\n",
      "Mean: 0.700556 Stdev:(0.043422) with: {'clf__metric': 'minkowski', 'clf__n_neighbors': 9, 'clf__weights': 'uniform', 'tfidf__ngram_range': (1, 1)}\n",
      "Mean: 0.688889 Stdev:(0.036599) with: {'clf__metric': 'minkowski', 'clf__n_neighbors': 9, 'clf__weights': 'uniform', 'tfidf__ngram_range': (1, 2)}\n",
      "Mean: 0.688333 Stdev:(0.027268) with: {'clf__metric': 'minkowski', 'clf__n_neighbors': 9, 'clf__weights': 'uniform', 'tfidf__ngram_range': (1, 3)}\n",
      "Mean: 0.851667 Stdev:(0.032966) with: {'clf__metric': 'minkowski', 'clf__n_neighbors': 9, 'clf__weights': 'distance', 'tfidf__ngram_range': (1, 1)}\n",
      "Mean: 0.848333 Stdev:(0.027335) with: {'clf__metric': 'minkowski', 'clf__n_neighbors': 9, 'clf__weights': 'distance', 'tfidf__ngram_range': (1, 2)}\n",
      "Mean: 0.850556 Stdev:(0.025148) with: {'clf__metric': 'minkowski', 'clf__n_neighbors': 9, 'clf__weights': 'distance', 'tfidf__ngram_range': (1, 3)}\n",
      "Mean: 0.707222 Stdev:(0.041578) with: {'clf__metric': 'minkowski', 'clf__n_neighbors': 10, 'clf__weights': 'uniform', 'tfidf__ngram_range': (1, 1)}\n",
      "Mean: 0.686667 Stdev:(0.037284) with: {'clf__metric': 'minkowski', 'clf__n_neighbors': 10, 'clf__weights': 'uniform', 'tfidf__ngram_range': (1, 2)}\n",
      "Mean: 0.686667 Stdev:(0.024495) with: {'clf__metric': 'minkowski', 'clf__n_neighbors': 10, 'clf__weights': 'uniform', 'tfidf__ngram_range': (1, 3)}\n",
      "Mean: 0.852222 Stdev:(0.035763) with: {'clf__metric': 'minkowski', 'clf__n_neighbors': 10, 'clf__weights': 'distance', 'tfidf__ngram_range': (1, 1)}\n",
      "Mean: 0.850556 Stdev:(0.027938) with: {'clf__metric': 'minkowski', 'clf__n_neighbors': 10, 'clf__weights': 'distance', 'tfidf__ngram_range': (1, 2)}\n",
      "Mean: 0.855000 Stdev:(0.026229) with: {'clf__metric': 'minkowski', 'clf__n_neighbors': 10, 'clf__weights': 'distance', 'tfidf__ngram_range': (1, 3)}\n",
      "Mean: nan Stdev:(nan) with: {'clf__metric': 'chebyshev', 'clf__n_neighbors': 3, 'clf__weights': 'uniform', 'tfidf__ngram_range': (1, 1)}\n",
      "Mean: nan Stdev:(nan) with: {'clf__metric': 'chebyshev', 'clf__n_neighbors': 3, 'clf__weights': 'uniform', 'tfidf__ngram_range': (1, 2)}\n",
      "Mean: nan Stdev:(nan) with: {'clf__metric': 'chebyshev', 'clf__n_neighbors': 3, 'clf__weights': 'uniform', 'tfidf__ngram_range': (1, 3)}\n",
      "Mean: nan Stdev:(nan) with: {'clf__metric': 'chebyshev', 'clf__n_neighbors': 3, 'clf__weights': 'distance', 'tfidf__ngram_range': (1, 1)}\n",
      "Mean: nan Stdev:(nan) with: {'clf__metric': 'chebyshev', 'clf__n_neighbors': 3, 'clf__weights': 'distance', 'tfidf__ngram_range': (1, 2)}\n",
      "Mean: nan Stdev:(nan) with: {'clf__metric': 'chebyshev', 'clf__n_neighbors': 3, 'clf__weights': 'distance', 'tfidf__ngram_range': (1, 3)}\n",
      "Mean: nan Stdev:(nan) with: {'clf__metric': 'chebyshev', 'clf__n_neighbors': 4, 'clf__weights': 'uniform', 'tfidf__ngram_range': (1, 1)}\n",
      "Mean: nan Stdev:(nan) with: {'clf__metric': 'chebyshev', 'clf__n_neighbors': 4, 'clf__weights': 'uniform', 'tfidf__ngram_range': (1, 2)}\n",
      "Mean: nan Stdev:(nan) with: {'clf__metric': 'chebyshev', 'clf__n_neighbors': 4, 'clf__weights': 'uniform', 'tfidf__ngram_range': (1, 3)}\n",
      "Mean: nan Stdev:(nan) with: {'clf__metric': 'chebyshev', 'clf__n_neighbors': 4, 'clf__weights': 'distance', 'tfidf__ngram_range': (1, 1)}\n",
      "Mean: nan Stdev:(nan) with: {'clf__metric': 'chebyshev', 'clf__n_neighbors': 4, 'clf__weights': 'distance', 'tfidf__ngram_range': (1, 2)}\n",
      "Mean: nan Stdev:(nan) with: {'clf__metric': 'chebyshev', 'clf__n_neighbors': 4, 'clf__weights': 'distance', 'tfidf__ngram_range': (1, 3)}\n",
      "Mean: nan Stdev:(nan) with: {'clf__metric': 'chebyshev', 'clf__n_neighbors': 5, 'clf__weights': 'uniform', 'tfidf__ngram_range': (1, 1)}\n",
      "Mean: nan Stdev:(nan) with: {'clf__metric': 'chebyshev', 'clf__n_neighbors': 5, 'clf__weights': 'uniform', 'tfidf__ngram_range': (1, 2)}\n",
      "Mean: nan Stdev:(nan) with: {'clf__metric': 'chebyshev', 'clf__n_neighbors': 5, 'clf__weights': 'uniform', 'tfidf__ngram_range': (1, 3)}\n",
      "Mean: nan Stdev:(nan) with: {'clf__metric': 'chebyshev', 'clf__n_neighbors': 5, 'clf__weights': 'distance', 'tfidf__ngram_range': (1, 1)}\n",
      "Mean: nan Stdev:(nan) with: {'clf__metric': 'chebyshev', 'clf__n_neighbors': 5, 'clf__weights': 'distance', 'tfidf__ngram_range': (1, 2)}\n",
      "Mean: nan Stdev:(nan) with: {'clf__metric': 'chebyshev', 'clf__n_neighbors': 5, 'clf__weights': 'distance', 'tfidf__ngram_range': (1, 3)}\n",
      "Mean: nan Stdev:(nan) with: {'clf__metric': 'chebyshev', 'clf__n_neighbors': 7, 'clf__weights': 'uniform', 'tfidf__ngram_range': (1, 1)}\n",
      "Mean: nan Stdev:(nan) with: {'clf__metric': 'chebyshev', 'clf__n_neighbors': 7, 'clf__weights': 'uniform', 'tfidf__ngram_range': (1, 2)}\n",
      "Mean: nan Stdev:(nan) with: {'clf__metric': 'chebyshev', 'clf__n_neighbors': 7, 'clf__weights': 'uniform', 'tfidf__ngram_range': (1, 3)}\n",
      "Mean: nan Stdev:(nan) with: {'clf__metric': 'chebyshev', 'clf__n_neighbors': 7, 'clf__weights': 'distance', 'tfidf__ngram_range': (1, 1)}\n",
      "Mean: nan Stdev:(nan) with: {'clf__metric': 'chebyshev', 'clf__n_neighbors': 7, 'clf__weights': 'distance', 'tfidf__ngram_range': (1, 2)}\n",
      "Mean: nan Stdev:(nan) with: {'clf__metric': 'chebyshev', 'clf__n_neighbors': 7, 'clf__weights': 'distance', 'tfidf__ngram_range': (1, 3)}\n",
      "Mean: nan Stdev:(nan) with: {'clf__metric': 'chebyshev', 'clf__n_neighbors': 8, 'clf__weights': 'uniform', 'tfidf__ngram_range': (1, 1)}\n",
      "Mean: nan Stdev:(nan) with: {'clf__metric': 'chebyshev', 'clf__n_neighbors': 8, 'clf__weights': 'uniform', 'tfidf__ngram_range': (1, 2)}\n",
      "Mean: nan Stdev:(nan) with: {'clf__metric': 'chebyshev', 'clf__n_neighbors': 8, 'clf__weights': 'uniform', 'tfidf__ngram_range': (1, 3)}\n",
      "Mean: nan Stdev:(nan) with: {'clf__metric': 'chebyshev', 'clf__n_neighbors': 8, 'clf__weights': 'distance', 'tfidf__ngram_range': (1, 1)}\n",
      "Mean: nan Stdev:(nan) with: {'clf__metric': 'chebyshev', 'clf__n_neighbors': 8, 'clf__weights': 'distance', 'tfidf__ngram_range': (1, 2)}\n",
      "Mean: nan Stdev:(nan) with: {'clf__metric': 'chebyshev', 'clf__n_neighbors': 8, 'clf__weights': 'distance', 'tfidf__ngram_range': (1, 3)}\n",
      "Mean: nan Stdev:(nan) with: {'clf__metric': 'chebyshev', 'clf__n_neighbors': 9, 'clf__weights': 'uniform', 'tfidf__ngram_range': (1, 1)}\n",
      "Mean: nan Stdev:(nan) with: {'clf__metric': 'chebyshev', 'clf__n_neighbors': 9, 'clf__weights': 'uniform', 'tfidf__ngram_range': (1, 2)}\n",
      "Mean: nan Stdev:(nan) with: {'clf__metric': 'chebyshev', 'clf__n_neighbors': 9, 'clf__weights': 'uniform', 'tfidf__ngram_range': (1, 3)}\n",
      "Mean: nan Stdev:(nan) with: {'clf__metric': 'chebyshev', 'clf__n_neighbors': 9, 'clf__weights': 'distance', 'tfidf__ngram_range': (1, 1)}\n",
      "Mean: nan Stdev:(nan) with: {'clf__metric': 'chebyshev', 'clf__n_neighbors': 9, 'clf__weights': 'distance', 'tfidf__ngram_range': (1, 2)}\n",
      "Mean: nan Stdev:(nan) with: {'clf__metric': 'chebyshev', 'clf__n_neighbors': 9, 'clf__weights': 'distance', 'tfidf__ngram_range': (1, 3)}\n",
      "Mean: nan Stdev:(nan) with: {'clf__metric': 'chebyshev', 'clf__n_neighbors': 10, 'clf__weights': 'uniform', 'tfidf__ngram_range': (1, 1)}\n",
      "Mean: nan Stdev:(nan) with: {'clf__metric': 'chebyshev', 'clf__n_neighbors': 10, 'clf__weights': 'uniform', 'tfidf__ngram_range': (1, 2)}\n",
      "Mean: nan Stdev:(nan) with: {'clf__metric': 'chebyshev', 'clf__n_neighbors': 10, 'clf__weights': 'uniform', 'tfidf__ngram_range': (1, 3)}\n",
      "Mean: nan Stdev:(nan) with: {'clf__metric': 'chebyshev', 'clf__n_neighbors': 10, 'clf__weights': 'distance', 'tfidf__ngram_range': (1, 1)}\n",
      "Mean: nan Stdev:(nan) with: {'clf__metric': 'chebyshev', 'clf__n_neighbors': 10, 'clf__weights': 'distance', 'tfidf__ngram_range': (1, 2)}\n",
      "Mean: nan Stdev:(nan) with: {'clf__metric': 'chebyshev', 'clf__n_neighbors': 10, 'clf__weights': 'distance', 'tfidf__ngram_range': (1, 3)}\n",
      "Mean: 0.748889 Stdev:(0.033775) with: {'clf__metric': 'euclidean', 'clf__n_neighbors': 3, 'clf__weights': 'uniform', 'tfidf__ngram_range': (1, 1)}\n",
      "Mean: 0.752222 Stdev:(0.026434) with: {'clf__metric': 'euclidean', 'clf__n_neighbors': 3, 'clf__weights': 'uniform', 'tfidf__ngram_range': (1, 2)}\n",
      "Mean: 0.753889 Stdev:(0.033980) with: {'clf__metric': 'euclidean', 'clf__n_neighbors': 3, 'clf__weights': 'uniform', 'tfidf__ngram_range': (1, 3)}\n",
      "Mean: 0.832222 Stdev:(0.031210) with: {'clf__metric': 'euclidean', 'clf__n_neighbors': 3, 'clf__weights': 'distance', 'tfidf__ngram_range': (1, 1)}\n",
      "Mean: 0.844444 Stdev:(0.024088) with: {'clf__metric': 'euclidean', 'clf__n_neighbors': 3, 'clf__weights': 'distance', 'tfidf__ngram_range': (1, 2)}\n",
      "Mean: 0.845000 Stdev:(0.026696) with: {'clf__metric': 'euclidean', 'clf__n_neighbors': 3, 'clf__weights': 'distance', 'tfidf__ngram_range': (1, 3)}\n",
      "Mean: 0.706667 Stdev:(0.031992) with: {'clf__metric': 'euclidean', 'clf__n_neighbors': 4, 'clf__weights': 'uniform', 'tfidf__ngram_range': (1, 1)}\n",
      "Mean: 0.720000 Stdev:(0.035242) with: {'clf__metric': 'euclidean', 'clf__n_neighbors': 4, 'clf__weights': 'uniform', 'tfidf__ngram_range': (1, 2)}\n",
      "Mean: 0.722778 Stdev:(0.042123) with: {'clf__metric': 'euclidean', 'clf__n_neighbors': 4, 'clf__weights': 'uniform', 'tfidf__ngram_range': (1, 3)}\n",
      "Mean: 0.833889 Stdev:(0.031569) with: {'clf__metric': 'euclidean', 'clf__n_neighbors': 4, 'clf__weights': 'distance', 'tfidf__ngram_range': (1, 1)}\n",
      "Mean: 0.845000 Stdev:(0.023101) with: {'clf__metric': 'euclidean', 'clf__n_neighbors': 4, 'clf__weights': 'distance', 'tfidf__ngram_range': (1, 2)}\n",
      "Mean: 0.846667 Stdev:(0.030348) with: {'clf__metric': 'euclidean', 'clf__n_neighbors': 4, 'clf__weights': 'distance', 'tfidf__ngram_range': (1, 3)}\n",
      "Mean: 0.697778 Stdev:(0.046759) with: {'clf__metric': 'euclidean', 'clf__n_neighbors': 5, 'clf__weights': 'uniform', 'tfidf__ngram_range': (1, 1)}\n",
      "Mean: 0.717778 Stdev:(0.036835) with: {'clf__metric': 'euclidean', 'clf__n_neighbors': 5, 'clf__weights': 'uniform', 'tfidf__ngram_range': (1, 2)}\n",
      "Mean: 0.728333 Stdev:(0.047949) with: {'clf__metric': 'euclidean', 'clf__n_neighbors': 5, 'clf__weights': 'uniform', 'tfidf__ngram_range': (1, 3)}\n",
      "Mean: 0.840000 Stdev:(0.034677) with: {'clf__metric': 'euclidean', 'clf__n_neighbors': 5, 'clf__weights': 'distance', 'tfidf__ngram_range': (1, 1)}\n",
      "Mean: 0.848889 Stdev:(0.032470) with: {'clf__metric': 'euclidean', 'clf__n_neighbors': 5, 'clf__weights': 'distance', 'tfidf__ngram_range': (1, 2)}\n",
      "Mean: 0.850556 Stdev:(0.039942) with: {'clf__metric': 'euclidean', 'clf__n_neighbors': 5, 'clf__weights': 'distance', 'tfidf__ngram_range': (1, 3)}\n",
      "Mean: 0.718889 Stdev:(0.035329) with: {'clf__metric': 'euclidean', 'clf__n_neighbors': 7, 'clf__weights': 'uniform', 'tfidf__ngram_range': (1, 1)}\n",
      "Mean: 0.702778 Stdev:(0.036111) with: {'clf__metric': 'euclidean', 'clf__n_neighbors': 7, 'clf__weights': 'uniform', 'tfidf__ngram_range': (1, 2)}\n",
      "Mean: 0.717222 Stdev:(0.041755) with: {'clf__metric': 'euclidean', 'clf__n_neighbors': 7, 'clf__weights': 'uniform', 'tfidf__ngram_range': (1, 3)}\n",
      "Mean: 0.846111 Stdev:(0.032589) with: {'clf__metric': 'euclidean', 'clf__n_neighbors': 7, 'clf__weights': 'distance', 'tfidf__ngram_range': (1, 1)}\n",
      "Mean: 0.848333 Stdev:(0.029507) with: {'clf__metric': 'euclidean', 'clf__n_neighbors': 7, 'clf__weights': 'distance', 'tfidf__ngram_range': (1, 2)}\n",
      "Mean: 0.857222 Stdev:(0.033706) with: {'clf__metric': 'euclidean', 'clf__n_neighbors': 7, 'clf__weights': 'distance', 'tfidf__ngram_range': (1, 3)}\n",
      "Mean: 0.710556 Stdev:(0.032150) with: {'clf__metric': 'euclidean', 'clf__n_neighbors': 8, 'clf__weights': 'uniform', 'tfidf__ngram_range': (1, 1)}\n",
      "Mean: 0.691111 Stdev:(0.033903) with: {'clf__metric': 'euclidean', 'clf__n_neighbors': 8, 'clf__weights': 'uniform', 'tfidf__ngram_range': (1, 2)}\n",
      "Mean: 0.698333 Stdev:(0.035316) with: {'clf__metric': 'euclidean', 'clf__n_neighbors': 8, 'clf__weights': 'uniform', 'tfidf__ngram_range': (1, 3)}\n",
      "Mean: 0.848333 Stdev:(0.030737) with: {'clf__metric': 'euclidean', 'clf__n_neighbors': 8, 'clf__weights': 'distance', 'tfidf__ngram_range': (1, 1)}\n",
      "Mean: 0.851667 Stdev:(0.026995) with: {'clf__metric': 'euclidean', 'clf__n_neighbors': 8, 'clf__weights': 'distance', 'tfidf__ngram_range': (1, 2)}\n",
      "Mean: 0.855556 Stdev:(0.028760) with: {'clf__metric': 'euclidean', 'clf__n_neighbors': 8, 'clf__weights': 'distance', 'tfidf__ngram_range': (1, 3)}\n",
      "Mean: 0.700556 Stdev:(0.043422) with: {'clf__metric': 'euclidean', 'clf__n_neighbors': 9, 'clf__weights': 'uniform', 'tfidf__ngram_range': (1, 1)}\n",
      "Mean: 0.688889 Stdev:(0.036599) with: {'clf__metric': 'euclidean', 'clf__n_neighbors': 9, 'clf__weights': 'uniform', 'tfidf__ngram_range': (1, 2)}\n",
      "Mean: 0.688333 Stdev:(0.027268) with: {'clf__metric': 'euclidean', 'clf__n_neighbors': 9, 'clf__weights': 'uniform', 'tfidf__ngram_range': (1, 3)}\n",
      "Mean: 0.851667 Stdev:(0.032966) with: {'clf__metric': 'euclidean', 'clf__n_neighbors': 9, 'clf__weights': 'distance', 'tfidf__ngram_range': (1, 1)}\n",
      "Mean: 0.848333 Stdev:(0.027335) with: {'clf__metric': 'euclidean', 'clf__n_neighbors': 9, 'clf__weights': 'distance', 'tfidf__ngram_range': (1, 2)}\n",
      "Mean: 0.850556 Stdev:(0.025148) with: {'clf__metric': 'euclidean', 'clf__n_neighbors': 9, 'clf__weights': 'distance', 'tfidf__ngram_range': (1, 3)}\n",
      "Mean: 0.707222 Stdev:(0.041578) with: {'clf__metric': 'euclidean', 'clf__n_neighbors': 10, 'clf__weights': 'uniform', 'tfidf__ngram_range': (1, 1)}\n",
      "Mean: 0.686667 Stdev:(0.037284) with: {'clf__metric': 'euclidean', 'clf__n_neighbors': 10, 'clf__weights': 'uniform', 'tfidf__ngram_range': (1, 2)}\n",
      "Mean: 0.686667 Stdev:(0.024495) with: {'clf__metric': 'euclidean', 'clf__n_neighbors': 10, 'clf__weights': 'uniform', 'tfidf__ngram_range': (1, 3)}\n",
      "Mean: 0.852222 Stdev:(0.035763) with: {'clf__metric': 'euclidean', 'clf__n_neighbors': 10, 'clf__weights': 'distance', 'tfidf__ngram_range': (1, 1)}\n",
      "Mean: 0.850556 Stdev:(0.027938) with: {'clf__metric': 'euclidean', 'clf__n_neighbors': 10, 'clf__weights': 'distance', 'tfidf__ngram_range': (1, 2)}\n",
      "Mean: 0.855000 Stdev:(0.026229) with: {'clf__metric': 'euclidean', 'clf__n_neighbors': 10, 'clf__weights': 'distance', 'tfidf__ngram_range': (1, 3)}\n",
      "Mean: 0.729444 Stdev:(0.031037) with: {'clf__metric': 'manhattan', 'clf__n_neighbors': 3, 'clf__weights': 'uniform', 'tfidf__ngram_range': (1, 1)}\n",
      "Mean: 0.743889 Stdev:(0.033190) with: {'clf__metric': 'manhattan', 'clf__n_neighbors': 3, 'clf__weights': 'uniform', 'tfidf__ngram_range': (1, 2)}\n",
      "Mean: 0.733889 Stdev:(0.019157) with: {'clf__metric': 'manhattan', 'clf__n_neighbors': 3, 'clf__weights': 'uniform', 'tfidf__ngram_range': (1, 3)}\n",
      "Mean: 0.820000 Stdev:(0.023857) with: {'clf__metric': 'manhattan', 'clf__n_neighbors': 3, 'clf__weights': 'distance', 'tfidf__ngram_range': (1, 1)}\n",
      "Mean: 0.809444 Stdev:(0.029507) with: {'clf__metric': 'manhattan', 'clf__n_neighbors': 3, 'clf__weights': 'distance', 'tfidf__ngram_range': (1, 2)}\n",
      "Mean: 0.835000 Stdev:(0.014283) with: {'clf__metric': 'manhattan', 'clf__n_neighbors': 3, 'clf__weights': 'distance', 'tfidf__ngram_range': (1, 3)}\n",
      "Mean: 0.618333 Stdev:(0.034699) with: {'clf__metric': 'manhattan', 'clf__n_neighbors': 4, 'clf__weights': 'uniform', 'tfidf__ngram_range': (1, 1)}\n",
      "Mean: 0.633333 Stdev:(0.045406) with: {'clf__metric': 'manhattan', 'clf__n_neighbors': 4, 'clf__weights': 'uniform', 'tfidf__ngram_range': (1, 2)}\n",
      "Mean: 0.712778 Stdev:(0.023445) with: {'clf__metric': 'manhattan', 'clf__n_neighbors': 4, 'clf__weights': 'uniform', 'tfidf__ngram_range': (1, 3)}\n",
      "Mean: 0.813333 Stdev:(0.021402) with: {'clf__metric': 'manhattan', 'clf__n_neighbors': 4, 'clf__weights': 'distance', 'tfidf__ngram_range': (1, 1)}\n",
      "Mean: 0.805000 Stdev:(0.031764) with: {'clf__metric': 'manhattan', 'clf__n_neighbors': 4, 'clf__weights': 'distance', 'tfidf__ngram_range': (1, 2)}\n",
      "Mean: 0.835556 Stdev:(0.018291) with: {'clf__metric': 'manhattan', 'clf__n_neighbors': 4, 'clf__weights': 'distance', 'tfidf__ngram_range': (1, 3)}\n",
      "Mean: 0.641667 Stdev:(0.026323) with: {'clf__metric': 'manhattan', 'clf__n_neighbors': 5, 'clf__weights': 'uniform', 'tfidf__ngram_range': (1, 1)}\n",
      "Mean: 0.638889 Stdev:(0.044444) with: {'clf__metric': 'manhattan', 'clf__n_neighbors': 5, 'clf__weights': 'uniform', 'tfidf__ngram_range': (1, 2)}\n",
      "Mean: 0.678889 Stdev:(0.022333) with: {'clf__metric': 'manhattan', 'clf__n_neighbors': 5, 'clf__weights': 'uniform', 'tfidf__ngram_range': (1, 3)}\n",
      "Mean: 0.801111 Stdev:(0.031701) with: {'clf__metric': 'manhattan', 'clf__n_neighbors': 5, 'clf__weights': 'distance', 'tfidf__ngram_range': (1, 1)}\n",
      "Mean: 0.793333 Stdev:(0.022333) with: {'clf__metric': 'manhattan', 'clf__n_neighbors': 5, 'clf__weights': 'distance', 'tfidf__ngram_range': (1, 2)}\n",
      "Mean: 0.827222 Stdev:(0.025270) with: {'clf__metric': 'manhattan', 'clf__n_neighbors': 5, 'clf__weights': 'distance', 'tfidf__ngram_range': (1, 3)}\n",
      "Mean: 0.592778 Stdev:(0.045816) with: {'clf__metric': 'manhattan', 'clf__n_neighbors': 7, 'clf__weights': 'uniform', 'tfidf__ngram_range': (1, 1)}\n",
      "Mean: 0.579444 Stdev:(0.040449) with: {'clf__metric': 'manhattan', 'clf__n_neighbors': 7, 'clf__weights': 'uniform', 'tfidf__ngram_range': (1, 2)}\n",
      "Mean: 0.663889 Stdev:(0.032984) with: {'clf__metric': 'manhattan', 'clf__n_neighbors': 7, 'clf__weights': 'uniform', 'tfidf__ngram_range': (1, 3)}\n",
      "Mean: 0.792222 Stdev:(0.025724) with: {'clf__metric': 'manhattan', 'clf__n_neighbors': 7, 'clf__weights': 'distance', 'tfidf__ngram_range': (1, 1)}\n",
      "Mean: 0.779444 Stdev:(0.022229) with: {'clf__metric': 'manhattan', 'clf__n_neighbors': 7, 'clf__weights': 'distance', 'tfidf__ngram_range': (1, 2)}\n",
      "Mean: 0.829444 Stdev:(0.026300) with: {'clf__metric': 'manhattan', 'clf__n_neighbors': 7, 'clf__weights': 'distance', 'tfidf__ngram_range': (1, 3)}\n",
      "Mean: 0.542222 Stdev:(0.048253) with: {'clf__metric': 'manhattan', 'clf__n_neighbors': 8, 'clf__weights': 'uniform', 'tfidf__ngram_range': (1, 1)}\n",
      "Mean: 0.527222 Stdev:(0.035612) with: {'clf__metric': 'manhattan', 'clf__n_neighbors': 8, 'clf__weights': 'uniform', 'tfidf__ngram_range': (1, 2)}\n",
      "Mean: 0.669444 Stdev:(0.023863) with: {'clf__metric': 'manhattan', 'clf__n_neighbors': 8, 'clf__weights': 'uniform', 'tfidf__ngram_range': (1, 3)}\n",
      "Mean: 0.797778 Stdev:(0.027352) with: {'clf__metric': 'manhattan', 'clf__n_neighbors': 8, 'clf__weights': 'distance', 'tfidf__ngram_range': (1, 1)}\n",
      "Mean: 0.780000 Stdev:(0.023067) with: {'clf__metric': 'manhattan', 'clf__n_neighbors': 8, 'clf__weights': 'distance', 'tfidf__ngram_range': (1, 2)}\n",
      "Mean: 0.828333 Stdev:(0.027268) with: {'clf__metric': 'manhattan', 'clf__n_neighbors': 8, 'clf__weights': 'distance', 'tfidf__ngram_range': (1, 3)}\n",
      "Mean: 0.548889 Stdev:(0.042076) with: {'clf__metric': 'manhattan', 'clf__n_neighbors': 9, 'clf__weights': 'uniform', 'tfidf__ngram_range': (1, 1)}\n",
      "Mean: 0.522778 Stdev:(0.034912) with: {'clf__metric': 'manhattan', 'clf__n_neighbors': 9, 'clf__weights': 'uniform', 'tfidf__ngram_range': (1, 2)}\n",
      "Mean: 0.661667 Stdev:(0.029128) with: {'clf__metric': 'manhattan', 'clf__n_neighbors': 9, 'clf__weights': 'uniform', 'tfidf__ngram_range': (1, 3)}\n",
      "Mean: 0.791111 Stdev:(0.025483) with: {'clf__metric': 'manhattan', 'clf__n_neighbors': 9, 'clf__weights': 'distance', 'tfidf__ngram_range': (1, 1)}\n",
      "Mean: 0.773333 Stdev:(0.024191) with: {'clf__metric': 'manhattan', 'clf__n_neighbors': 9, 'clf__weights': 'distance', 'tfidf__ngram_range': (1, 2)}\n",
      "Mean: 0.823889 Stdev:(0.026064) with: {'clf__metric': 'manhattan', 'clf__n_neighbors': 9, 'clf__weights': 'distance', 'tfidf__ngram_range': (1, 3)}\n",
      "Mean: 0.513333 Stdev:(0.048381) with: {'clf__metric': 'manhattan', 'clf__n_neighbors': 10, 'clf__weights': 'uniform', 'tfidf__ngram_range': (1, 1)}\n",
      "Mean: 0.481111 Stdev:(0.035763) with: {'clf__metric': 'manhattan', 'clf__n_neighbors': 10, 'clf__weights': 'uniform', 'tfidf__ngram_range': (1, 2)}\n",
      "Mean: 0.660556 Stdev:(0.049966) with: {'clf__metric': 'manhattan', 'clf__n_neighbors': 10, 'clf__weights': 'uniform', 'tfidf__ngram_range': (1, 3)}\n",
      "Mean: 0.790556 Stdev:(0.024975) with: {'clf__metric': 'manhattan', 'clf__n_neighbors': 10, 'clf__weights': 'distance', 'tfidf__ngram_range': (1, 1)}\n",
      "Mean: 0.775000 Stdev:(0.023472) with: {'clf__metric': 'manhattan', 'clf__n_neighbors': 10, 'clf__weights': 'distance', 'tfidf__ngram_range': (1, 2)}\n",
      "Mean: 0.823333 Stdev:(0.026851) with: {'clf__metric': 'manhattan', 'clf__n_neighbors': 10, 'clf__weights': 'distance', 'tfidf__ngram_range': (1, 3)}\n"
     ]
    }
   ],
   "source": [
    "print(\"Best parameters set found on development set:\")\n",
    "print(clf_knn.best_params_)\n",
    "print(\"Best Score:\", clf_knn.best_score_)\n",
    "print('\\n')\n",
    "\n",
    "means = clf_knn.cv_results_['mean_test_score']\n",
    "stds = clf_knn.cv_results_['std_test_score']\n",
    "params = clf_knn.cv_results_['params']\n",
    "for mean, stdev, param in zip(means,stds,params):\n",
    "    print(\"Mean: %f Stdev:(%f) with: %r\" % (mean,stdev,param))"
   ]
  },
  {
   "cell_type": "code",
   "execution_count": 63,
   "id": "b2257994",
   "metadata": {},
   "outputs": [
    {
     "data": {
      "text/html": [
       "<div>\n",
       "<style scoped>\n",
       "    .dataframe tbody tr th:only-of-type {\n",
       "        vertical-align: middle;\n",
       "    }\n",
       "\n",
       "    .dataframe tbody tr th {\n",
       "        vertical-align: top;\n",
       "    }\n",
       "\n",
       "    .dataframe thead th {\n",
       "        text-align: right;\n",
       "    }\n",
       "</style>\n",
       "<table border=\"1\" class=\"dataframe\">\n",
       "  <thead>\n",
       "    <tr style=\"text-align: right;\">\n",
       "      <th></th>\n",
       "      <th>clf__metric</th>\n",
       "      <th>clf__n_neighbors</th>\n",
       "      <th>clf__weights</th>\n",
       "      <th>tfidf__ngram_range</th>\n",
       "      <th>test_score</th>\n",
       "      <th>train_score</th>\n",
       "    </tr>\n",
       "  </thead>\n",
       "  <tbody>\n",
       "    <tr>\n",
       "      <th>0</th>\n",
       "      <td>minkowski</td>\n",
       "      <td>3</td>\n",
       "      <td>uniform</td>\n",
       "      <td>(1, 1)</td>\n",
       "      <td>0.748889</td>\n",
       "      <td>0.893272</td>\n",
       "    </tr>\n",
       "    <tr>\n",
       "      <th>1</th>\n",
       "      <td>minkowski</td>\n",
       "      <td>3</td>\n",
       "      <td>uniform</td>\n",
       "      <td>(1, 2)</td>\n",
       "      <td>0.752222</td>\n",
       "      <td>0.906481</td>\n",
       "    </tr>\n",
       "    <tr>\n",
       "      <th>2</th>\n",
       "      <td>minkowski</td>\n",
       "      <td>3</td>\n",
       "      <td>uniform</td>\n",
       "      <td>(1, 3)</td>\n",
       "      <td>0.753889</td>\n",
       "      <td>0.898395</td>\n",
       "    </tr>\n",
       "    <tr>\n",
       "      <th>3</th>\n",
       "      <td>minkowski</td>\n",
       "      <td>3</td>\n",
       "      <td>distance</td>\n",
       "      <td>(1, 1)</td>\n",
       "      <td>0.832222</td>\n",
       "      <td>1.000000</td>\n",
       "    </tr>\n",
       "    <tr>\n",
       "      <th>4</th>\n",
       "      <td>minkowski</td>\n",
       "      <td>3</td>\n",
       "      <td>distance</td>\n",
       "      <td>(1, 2)</td>\n",
       "      <td>0.844444</td>\n",
       "      <td>1.000000</td>\n",
       "    </tr>\n",
       "    <tr>\n",
       "      <th>...</th>\n",
       "      <td>...</td>\n",
       "      <td>...</td>\n",
       "      <td>...</td>\n",
       "      <td>...</td>\n",
       "      <td>...</td>\n",
       "      <td>...</td>\n",
       "    </tr>\n",
       "    <tr>\n",
       "      <th>163</th>\n",
       "      <td>manhattan</td>\n",
       "      <td>10</td>\n",
       "      <td>uniform</td>\n",
       "      <td>(1, 2)</td>\n",
       "      <td>0.481111</td>\n",
       "      <td>0.555123</td>\n",
       "    </tr>\n",
       "    <tr>\n",
       "      <th>164</th>\n",
       "      <td>manhattan</td>\n",
       "      <td>10</td>\n",
       "      <td>uniform</td>\n",
       "      <td>(1, 3)</td>\n",
       "      <td>0.660556</td>\n",
       "      <td>0.754012</td>\n",
       "    </tr>\n",
       "    <tr>\n",
       "      <th>165</th>\n",
       "      <td>manhattan</td>\n",
       "      <td>10</td>\n",
       "      <td>distance</td>\n",
       "      <td>(1, 1)</td>\n",
       "      <td>0.790556</td>\n",
       "      <td>1.000000</td>\n",
       "    </tr>\n",
       "    <tr>\n",
       "      <th>166</th>\n",
       "      <td>manhattan</td>\n",
       "      <td>10</td>\n",
       "      <td>distance</td>\n",
       "      <td>(1, 2)</td>\n",
       "      <td>0.775000</td>\n",
       "      <td>1.000000</td>\n",
       "    </tr>\n",
       "    <tr>\n",
       "      <th>167</th>\n",
       "      <td>manhattan</td>\n",
       "      <td>10</td>\n",
       "      <td>distance</td>\n",
       "      <td>(1, 3)</td>\n",
       "      <td>0.823333</td>\n",
       "      <td>1.000000</td>\n",
       "    </tr>\n",
       "  </tbody>\n",
       "</table>\n",
       "<p>168 rows × 6 columns</p>\n",
       "</div>"
      ],
      "text/plain": [
       "    clf__metric  clf__n_neighbors clf__weights tfidf__ngram_range  test_score  \\\n",
       "0     minkowski                 3      uniform             (1, 1)    0.748889   \n",
       "1     minkowski                 3      uniform             (1, 2)    0.752222   \n",
       "2     minkowski                 3      uniform             (1, 3)    0.753889   \n",
       "3     minkowski                 3     distance             (1, 1)    0.832222   \n",
       "4     minkowski                 3     distance             (1, 2)    0.844444   \n",
       "..          ...               ...          ...                ...         ...   \n",
       "163   manhattan                10      uniform             (1, 2)    0.481111   \n",
       "164   manhattan                10      uniform             (1, 3)    0.660556   \n",
       "165   manhattan                10     distance             (1, 1)    0.790556   \n",
       "166   manhattan                10     distance             (1, 2)    0.775000   \n",
       "167   manhattan                10     distance             (1, 3)    0.823333   \n",
       "\n",
       "     train_score  \n",
       "0       0.893272  \n",
       "1       0.906481  \n",
       "2       0.898395  \n",
       "3       1.000000  \n",
       "4       1.000000  \n",
       "..           ...  \n",
       "163     0.555123  \n",
       "164     0.754012  \n",
       "165     1.000000  \n",
       "166     1.000000  \n",
       "167     1.000000  \n",
       "\n",
       "[168 rows x 6 columns]"
      ]
     },
     "execution_count": 63,
     "metadata": {},
     "output_type": "execute_result"
    }
   ],
   "source": [
    "result_knn = pd.DataFrame(clf_knn.cv_results_['params'])\n",
    "result_knn['test_score'] = clf_knn.cv_results_['mean_test_score']\n",
    "result_knn['train_score'] = clf_knn.cv_results_['mean_train_score']\n",
    "result_knn"
   ]
  },
  {
   "cell_type": "code",
   "execution_count": 64,
   "id": "8bfe5f59",
   "metadata": {},
   "outputs": [
    {
     "name": "stdout",
     "output_type": "stream",
     "text": [
      "train time: 0.138s\n",
      "================================\n",
      "Hasil Score data train :  1.0\n",
      "Hasil Score data test :  0.88\n"
     ]
    }
   ],
   "source": [
    "from sklearn.model_selection import GridSearchCV\n",
    "\n",
    "t = time()\n",
    "#training the model\n",
    "knn = Pipeline([('tfidf', TfidfVectorizer(ngram_range=(1,3))),\n",
    "#                 ,norm='l1'\n",
    "# ,smooth_idf=True,sublinear_tf=True, use_idf=True\n",
    "#                  ('sampling',ADASYN()),\n",
    "                ('clf', KNeighborsClassifier(n_neighbors=8, metric='minkowski', weights='distance'))])\n",
    "# metric='minkowski', n_jobs=1, p=2, weights='distance',\n",
    "\n",
    "knn.fit(X_train,y_train)\n",
    "\n",
    "training_time = time() - t\n",
    "\n",
    "print(\"train time: %0.3fs\" % training_time)\n",
    "\n",
    "print(\"================================\")\n",
    "print(\"Hasil Score data train : \", knn.score(X_train,y_train))\n",
    "print(\"Hasil Score data test : \", knn.score(X_test,y_test))"
   ]
  },
  {
   "cell_type": "code",
   "execution_count": 65,
   "id": "af9b6e69",
   "metadata": {},
   "outputs": [
    {
     "name": "stdout",
     "output_type": "stream",
     "text": [
      "cross validation score [0.84444444 0.8        0.84444444 0.85       0.86666667 0.82222222\n",
      " 0.90555556 0.86666667 0.88333333 0.87222222]\n",
      "Average cross-validation Mean Score : 0.8556\n",
      "Average cross-validation Std Score : 0.0288\n"
     ]
    }
   ],
   "source": [
    "\n",
    "cv = KFold(n_splits=10, shuffle=True, random_state=1)\n",
    "accuracy = cross_val_score(knn, X_train, y_train, scoring = 'accuracy', cv = cv)\n",
    "print('cross validation score', accuracy)\n",
    "\n",
    "#compute average cross-validation score\n",
    "print('Average cross-validation Mean Score : {:.4f}'.format(accuracy.mean()))\n",
    "\n",
    "#compute average cross-validation score\n",
    "print('Average cross-validation Std Score : {:.4f}'.format(accuracy.std()))"
   ]
  },
  {
   "cell_type": "code",
   "execution_count": 66,
   "id": "9ac08d3b",
   "metadata": {},
   "outputs": [
    {
     "data": {
      "image/png": "[encoded data removed]",
      "text/plain": [
       "<Figure size 576x396 with 1 Axes>"
      ]
     },
     "metadata": {},
     "output_type": "display_data"
    },
    {
     "data": {
      "text/plain": [
       "<AxesSubplot:title={'center':'Cross Validation Scores for KNeighborsClassifier'}, xlabel='Training Instances', ylabel='Score'>"
      ]
     },
     "execution_count": 66,
     "metadata": {},
     "output_type": "execute_result"
    }
   ],
   "source": [
    "#!pip install yellowbrick\n",
    "\n",
    "from yellowbrick.model_selection import CVScores\n",
    "import warnings\n",
    "warnings.filterwarnings('ignore')\n",
    "\n",
    "cv = KFold(n_splits=10, shuffle=True, random_state=1)\n",
    "visualizer = CVScores(knn, cv=cv, scoring='accuracy',color=\"orange\")\n",
    "\n",
    "visualizer.fit(X_train,y_train)\n",
    "visualizer.show()"
   ]
  },
  {
   "cell_type": "code",
   "execution_count": 67,
   "id": "90c10df6",
   "metadata": {},
   "outputs": [
    {
     "name": "stdout",
     "output_type": "stream",
     "text": [
      "test time:  0.038s\n",
      "========================\n",
      "              precision    recall  f1-score   support\n",
      "\n",
      "           0       0.91      0.80      0.85        84\n",
      "           1       0.87      0.94      0.90       116\n",
      "\n",
      "    accuracy                           0.88       200\n",
      "   macro avg       0.89      0.87      0.87       200\n",
      "weighted avg       0.88      0.88      0.88       200\n",
      "\n",
      "\n",
      "\n",
      "Accuracy Score - KNN: 0.88\n"
     ]
    }
   ],
   "source": [
    "t = time()\n",
    "#get predictions from model\n",
    "\n",
    "#get predictions from model\n",
    "y_pred_knn = knn.predict(X_test)\n",
    "# y_pred_knn = clf_knn.predict(X_test)\n",
    "\n",
    "test_time = time() - t\n",
    "print(\"test time:  %0.3fs\" % test_time)\n",
    "print(\"========================\")\n",
    "\n",
    "print(classification_report(y_test, y_pred_knn))\n",
    "print('\\n')\n",
    "\n",
    "#print('BEST KNN MODEL')\n",
    "print('Accuracy Score - KNN:', metrics.accuracy_score(y_test, y_pred_knn)) \n",
    "#print('MAE Score:', mean_absolute_error(y_test, y_pred_knn)) \n",
    "#print('MSE Score', mean_squared_error(y_test, y_pred_knn))"
   ]
  },
  {
   "cell_type": "code",
   "execution_count": 68,
   "id": "81bd2b0d",
   "metadata": {},
   "outputs": [
    {
     "data": {
      "image/png": "[encoded data removed]",
      "text/plain": [
       "<Figure size 576x396 with 2 Axes>"
      ]
     },
     "metadata": {},
     "output_type": "display_data"
    },
    {
     "data": {
      "text/plain": [
       "<AxesSubplot:title={'center':'KNeighborsClassifier Classification Report'}>"
      ]
     },
     "execution_count": 68,
     "metadata": {},
     "output_type": "execute_result"
    }
   ],
   "source": [
    "from yellowbrick.classifier import ClassificationReport\n",
    "\n",
    "# Instantiate the classification model and visualizer\n",
    "visualizer = ClassificationReport(knn,support=True,cmap='Oranges')\n",
    "\n",
    "visualizer.fit(X_train, y_train)  # Fit the visualizer and the model\n",
    "visualizer.score(X_test, y_test)  # Evaluate the model on the test data\n",
    "visualizer.show()"
   ]
  },
  {
   "cell_type": "code",
   "execution_count": 69,
   "id": "c1659f7d",
   "metadata": {},
   "outputs": [
    {
     "data": {
      "text/html": [
       "<div>\n",
       "<style scoped>\n",
       "    .dataframe tbody tr th:only-of-type {\n",
       "        vertical-align: middle;\n",
       "    }\n",
       "\n",
       "    .dataframe tbody tr th {\n",
       "        vertical-align: top;\n",
       "    }\n",
       "\n",
       "    .dataframe thead th {\n",
       "        text-align: right;\n",
       "    }\n",
       "</style>\n",
       "<table border=\"1\" class=\"dataframe\">\n",
       "  <thead>\n",
       "    <tr style=\"text-align: right;\">\n",
       "      <th></th>\n",
       "      <th>negatif</th>\n",
       "      <th>positif</th>\n",
       "      <th>accuracy</th>\n",
       "      <th>macro avg</th>\n",
       "      <th>weighted avg</th>\n",
       "    </tr>\n",
       "  </thead>\n",
       "  <tbody>\n",
       "    <tr>\n",
       "      <th>precision</th>\n",
       "      <td>0.905405</td>\n",
       "      <td>0.865079</td>\n",
       "      <td>0.88</td>\n",
       "      <td>0.885242</td>\n",
       "      <td>0.882016</td>\n",
       "    </tr>\n",
       "    <tr>\n",
       "      <th>recall</th>\n",
       "      <td>0.797619</td>\n",
       "      <td>0.939655</td>\n",
       "      <td>0.88</td>\n",
       "      <td>0.868637</td>\n",
       "      <td>0.880000</td>\n",
       "    </tr>\n",
       "    <tr>\n",
       "      <th>f1-score</th>\n",
       "      <td>0.848101</td>\n",
       "      <td>0.900826</td>\n",
       "      <td>0.88</td>\n",
       "      <td>0.874464</td>\n",
       "      <td>0.878682</td>\n",
       "    </tr>\n",
       "    <tr>\n",
       "      <th>support</th>\n",
       "      <td>84.000000</td>\n",
       "      <td>116.000000</td>\n",
       "      <td>0.88</td>\n",
       "      <td>200.000000</td>\n",
       "      <td>200.000000</td>\n",
       "    </tr>\n",
       "  </tbody>\n",
       "</table>\n",
       "</div>"
      ],
      "text/plain": [
       "             negatif     positif  accuracy   macro avg  weighted avg\n",
       "precision   0.905405    0.865079      0.88    0.885242      0.882016\n",
       "recall      0.797619    0.939655      0.88    0.868637      0.880000\n",
       "f1-score    0.848101    0.900826      0.88    0.874464      0.878682\n",
       "support    84.000000  116.000000      0.88  200.000000    200.000000"
      ]
     },
     "metadata": {},
     "output_type": "display_data"
    },
    {
     "data": {
      "image/png": "[encoded data removed]",
      "text/plain": [
       "<Figure size 720x576 with 1 Axes>"
      ]
     },
     "metadata": {},
     "output_type": "display_data"
    }
   ],
   "source": [
    "#create labels to be used and columns for a confusion matrix downstream\n",
    "target_labels = ['negatif', 'positif']\n",
    "\n",
    "#store the classification report as a dictionary\n",
    "cr_dict = classification_report(y_test, y_pred_knn, target_names=target_labels, output_dict=True)\n",
    "\n",
    "#convert the classification report dictionary into a data frame\n",
    "cr_data = pd.DataFrame(cr_dict)\n",
    "display(cr_data)\n",
    "\n",
    "#plot the classification report scores\n",
    "ax = cr_data.iloc[:-1, :2].plot.bar(figsize=(10,8),color=['#d9534f','#5bc0de'])\n",
    "plt.title(\"KNN Classification Report\")\n",
    "plt.xlabel('Metrics', labelpad=20)\n",
    "\n",
    "#fix the x-tick mark rotation\n",
    "plt.xticks(rotation=0)\n",
    "\n",
    "#create custom y-tick marks and labels for percentage representation\n",
    "#create an array of even tick marks from 0 to 1\n",
    "percent_ticks = np.linspace(0,1,11, endpoint=True)\n",
    "\n",
    "#create a list of strings representing the percentage at each tick\n",
    "percent_labels = [f'{int(t*100)}%' for t in percent_ticks]\n",
    "plt.yticks(ticks=percent_ticks,labels=percent_labels)\n",
    "plt.ylabel('Percentage (%)')\n",
    "plt.margins(0.2,0.2)\n",
    "\n",
    "for p in ax.patches:\n",
    "    ax.annotate(\n",
    "        \"{}%\".format(str(np.round(p.get_height()*100, 2))),\n",
    "        xy=(p.get_x()*1+p.get_width()/2, p.get_height()*1.02),\n",
    "        ha='center',\n",
    "    )"
   ]
  },
  {
   "cell_type": "code",
   "execution_count": 70,
   "id": "6405adb4",
   "metadata": {},
   "outputs": [
    {
     "name": "stdout",
     "output_type": "stream",
     "text": [
      "[[ 67  17]\n",
      " [  7 109]]\n"
     ]
    }
   ],
   "source": [
    "from sklearn.metrics import confusion_matrix\n",
    "cm_knn = confusion_matrix(y_test, y_pred_knn)\n",
    "print(cm_knn)"
   ]
  },
  {
   "cell_type": "code",
   "execution_count": 71,
   "id": "decf480d",
   "metadata": {},
   "outputs": [],
   "source": [
    "def calculate_sensitivity_specificity(y_test, y_pred_test):\n",
    "    # Note: More parameters are defined than necessary. \n",
    "    # This would allow return of other measures other than sensitivity and specificity\n",
    "    \n",
    "    # Get true/false for whether a breach actually occurred\n",
    "    actual_pos = y_test == 1\n",
    "    actual_neg = y_test == 0\n",
    "    \n",
    "    # Get true and false test (true test match actual, false tests differ from actual)\n",
    "    true_pos = (y_pred_knn == 1) & (actual_pos)\n",
    "    false_pos = (y_pred_knn == 1) & (actual_neg)\n",
    "    true_neg = (y_pred_knn == 0) & (actual_neg)\n",
    "    false_neg = (y_pred_knn == 0) & (actual_pos)\n",
    "    \n",
    "    # Calculate accuracy\n",
    "    accuracy_knn = np.mean(y_pred_test == y_test)\n",
    "    \n",
    "    # Calculate sensitivity and specificity\n",
    "    sensitivity_knn = np.sum(true_pos) / np.sum(actual_pos)\n",
    "    specificity_knn = np.sum(true_neg) / np.sum(actual_neg)\n",
    "    \n",
    "    return sensitivity_knn, specificity_knn, accuracy_knn"
   ]
  },
  {
   "cell_type": "code",
   "execution_count": 72,
   "id": "b5f52a9a",
   "metadata": {},
   "outputs": [
    {
     "name": "stdout",
     "output_type": "stream",
     "text": [
      "Sensitivity: 0.9396551724137931\n",
      "Specificity: 0.7976190476190477\n",
      "Accuracy: 0.88\n"
     ]
    }
   ],
   "source": [
    "sensitivity_knn, specificity_knn, accuracy_knn = calculate_sensitivity_specificity(y_test, y_pred_knn)\n",
    "print ('Sensitivity:', sensitivity_knn)\n",
    "print ('Specificity:', specificity_knn)\n",
    "print ('Accuracy:', accuracy_knn)"
   ]
  },
  {
   "cell_type": "code",
   "execution_count": 73,
   "id": "1acc22af",
   "metadata": {},
   "outputs": [
    {
     "data": {
      "text/plain": [
       "<AxesSubplot:>"
      ]
     },
     "execution_count": 73,
     "metadata": {},
     "output_type": "execute_result"
    },
    {
     "data": {
      "image/png": "[encoded data removed]",
      "text/plain": [
       "<Figure size 576x396 with 2 Axes>"
      ]
     },
     "metadata": {},
     "output_type": "display_data"
    }
   ],
   "source": [
    "import seaborn as sns\n",
    "\n",
    "group_names = ['True Neg','False Pos','False Neg','True Pos']\n",
    "group_counts = [\"{0:0.0f}\".format(value) for value in\n",
    "                cm_knn.flatten()]\n",
    "group_percentages = [\"{0:.2%}\".format(value) for value in\n",
    "                     cm_knn.flatten()/np.sum(cm_knn)]\n",
    "labels = [f\"{v1}\\n{v2}\\n{v3}\" for v1, v2, v3 in\n",
    "          zip(group_names,group_counts,group_percentages)]\n",
    "labels = np.asarray(labels).reshape(2,2)\n",
    "sns.heatmap(cm_knn, annot=labels, fmt='', cmap='Oranges')"
   ]
  },
  {
   "cell_type": "code",
   "execution_count": 76,
   "id": "f48d86c7",
   "metadata": {},
   "outputs": [
    {
     "data": {
      "text/html": [
       "<div>\n",
       "<style scoped>\n",
       "    .dataframe tbody tr th:only-of-type {\n",
       "        vertical-align: middle;\n",
       "    }\n",
       "\n",
       "    .dataframe tbody tr th {\n",
       "        vertical-align: top;\n",
       "    }\n",
       "\n",
       "    .dataframe thead th {\n",
       "        text-align: right;\n",
       "    }\n",
       "</style>\n",
       "<table border=\"1\" class=\"dataframe\">\n",
       "  <thead>\n",
       "    <tr style=\"text-align: right;\">\n",
       "      <th></th>\n",
       "      <th>MNB</th>\n",
       "      <th>SVM</th>\n",
       "      <th>KNN</th>\n",
       "    </tr>\n",
       "  </thead>\n",
       "  <tbody>\n",
       "    <tr>\n",
       "      <th>Accuracy</th>\n",
       "      <td>0.845</td>\n",
       "      <td>0.855</td>\n",
       "      <td>0.88</td>\n",
       "    </tr>\n",
       "  </tbody>\n",
       "</table>\n",
       "</div>"
      ],
      "text/plain": [
       "            MNB    SVM   KNN\n",
       "Accuracy  0.845  0.855  0.88"
      ]
     },
     "metadata": {},
     "output_type": "display_data"
    },
    {
     "data": {
      "image/png": "[encoded data removed]",
      "text/plain": [
       "<Figure size 720x576 with 1 Axes>"
      ]
     },
     "metadata": {},
     "output_type": "display_data"
    }
   ],
   "source": [
    "#store the classification report as a dictionary\n",
    "clf_mnb = metrics.accuracy_score(y_test, y_pred_mnb)\n",
    "clf_svm = metrics.accuracy_score(y_test, y_pred_svm)\n",
    "clf_knn = metrics.accuracy_score(y_test, y_pred_knn)\n",
    "cr_dict = [clf_mnb, clf_svm, clf_knn]\n",
    "\n",
    "#convert the classification report dictionary into a data frame\n",
    "cr_data = pd.DataFrame({\n",
    "    \"MNB\":[clf_mnb],\n",
    "    \"SVM\":[clf_svm],\n",
    "    \"KNN\":[clf_knn],\n",
    "},\n",
    "index = [\"Accuracy\"])\n",
    "display(cr_data)\n",
    "\n",
    "ax = cr_data.plot.bar(figsize=(10,8),color=['#ad5389','#004e92', '#ff9068'])\n",
    "#plt.bar(cr_data, figsize=(10,8),color=['#5bc0de', '#d8634f'])\n",
    "plt.title(\"Comparison Accuracy Models Report Using Tuning Hyperparameter sekolah tatap muka 20 : 80\")\n",
    "plt.xlabel('Metric', labelpad=20)\n",
    "\n",
    "#fix the x-tick mark rotation\n",
    "plt.xticks(rotation=0)\n",
    "\n",
    "#create custom y-tick marks and labels for percentage representation\n",
    "#create an array of even tick marks from 0 to 1\n",
    "percent_ticks = np.linspace(0,1,11, endpoint=True)\n",
    "\n",
    "#create a list of strings representing the percentage at each tick\n",
    "percent_labels = [f'{int(t*100)}%' for t in percent_ticks]\n",
    "plt.yticks(ticks=percent_ticks,labels=percent_labels)\n",
    "plt.ylabel('Accuracy Percentage (%)')\n",
    "\n",
    "for p in ax.patches:\n",
    "    ax.annotate(\n",
    "        \"{}%\".format(str(np.round(p.get_height()*100, 2))),\n",
    "        xy=(p.get_x()*1+p.get_width()/2, p.get_height()*1.02),\n",
    "        ha='center')"
   ]
  },
  {
   "cell_type": "code",
   "execution_count": 77,
   "id": "29c85621",
   "metadata": {},
   "outputs": [
    {
     "name": "stdout",
     "output_type": "stream",
     "text": [
      "MultinomialNB\n",
      "--------------------------\n",
      "Accuracy: 0.845\n",
      "Precision: 0.846\n",
      "Recall: 0.897\n",
      "F-Measure: 0.870\n",
      "==========================\n",
      "SVM\n",
      "--------------------------\n",
      "Accuracy: 0.855\n",
      "Precision: 0.866\n",
      "Recall: 0.888\n",
      "F-Measure: 0.877\n",
      "==========================\n",
      "KNN\n",
      "--------------------------\n",
      "Accuracy: 0.880\n",
      "Precision: 0.865\n",
      "Recall: 0.940\n",
      "F-Measure: 0.901\n",
      "==========================\n"
     ]
    }
   ],
   "source": [
    "from sklearn.metrics import precision_score\n",
    "from sklearn.metrics import recall_score\n",
    "from sklearn.metrics import f1_score\n",
    "\n",
    "#NB\n",
    "print(\"MultinomialNB\")\n",
    "print(\"--------------------------\")\n",
    "accuracy_mnb = accuracy_score(y_test, y_pred_mnb)\n",
    "print('Accuracy: %.3f' % accuracy_mnb)\n",
    "precision_mnb = precision_score(y_test, y_pred_mnb, average='binary')\n",
    "print('Precision: %.3f' % precision_mnb)\n",
    "recall_mnb = recall_score(y_test, y_pred_mnb, average='binary')\n",
    "print('Recall: %.3f' % recall_mnb)\n",
    "score_mnb = f1_score(y_test, y_pred_mnb, average='binary')\n",
    "print('F-Measure: %.3f' % score_mnb)\n",
    "print(\"==========================\")\n",
    "#====================\n",
    "#SVM\n",
    "print(\"SVM\")\n",
    "print(\"--------------------------\")\n",
    "accuracy_svm = accuracy_score(y_test, y_pred_svm)\n",
    "print('Accuracy: %.3f' % accuracy_svm)\n",
    "precision_svm = precision_score(y_test, y_pred_svm, average='binary')\n",
    "print('Precision: %.3f' % precision_svm)\n",
    "recall_svm = recall_score(y_test, y_pred_svm, average='binary')\n",
    "print('Recall: %.3f' % recall_svm)\n",
    "score_svm = f1_score(y_test, y_pred_svm, average='binary')\n",
    "print('F-Measure: %.3f' % score_svm)\n",
    "print(\"==========================\")\n",
    "#====================\n",
    "#KNN\n",
    "print(\"KNN\")\n",
    "print(\"--------------------------\")\n",
    "accuracy_knn = accuracy_score(y_test, y_pred_knn)\n",
    "print('Accuracy: %.3f' % accuracy_knn)\n",
    "precision_knn = precision_score(y_test, y_pred_knn, average='binary')\n",
    "print('Precision: %.3f' % precision_knn)\n",
    "recall_knn = recall_score(y_test, y_pred_knn, average='binary')\n",
    "print('Recall: %.3f' % recall_knn)\n",
    "score_knn = f1_score(y_test, y_pred_knn, average='binary')\n",
    "print('F-Measure: %.3f' % score_knn)\n",
    "print(\"==========================\")\n",
    "#====================="
   ]
  },
  {
   "cell_type": "code",
   "execution_count": 78,
   "id": "ea761c16",
   "metadata": {},
   "outputs": [],
   "source": [
    "acc_tuning_2080_sekolah = [accuracy_mnb,accuracy_svm,accuracy_knn]"
   ]
  },
  {
   "cell_type": "code",
   "execution_count": 79,
   "id": "fe3efc4a",
   "metadata": {},
   "outputs": [
    {
     "data": {
      "text/html": [
       "<div>\n",
       "<style scoped>\n",
       "    .dataframe tbody tr th:only-of-type {\n",
       "        vertical-align: middle;\n",
       "    }\n",
       "\n",
       "    .dataframe tbody tr th {\n",
       "        vertical-align: top;\n",
       "    }\n",
       "\n",
       "    .dataframe thead th {\n",
       "        text-align: right;\n",
       "    }\n",
       "</style>\n",
       "<table border=\"1\" class=\"dataframe\">\n",
       "  <thead>\n",
       "    <tr style=\"text-align: right;\">\n",
       "      <th></th>\n",
       "      <th>MNB</th>\n",
       "      <th>SVM</th>\n",
       "      <th>KNN</th>\n",
       "    </tr>\n",
       "  </thead>\n",
       "  <tbody>\n",
       "    <tr>\n",
       "      <th>accuracy</th>\n",
       "      <td>0.845000</td>\n",
       "      <td>0.855000</td>\n",
       "      <td>0.880000</td>\n",
       "    </tr>\n",
       "    <tr>\n",
       "      <th>precision</th>\n",
       "      <td>0.845528</td>\n",
       "      <td>0.865546</td>\n",
       "      <td>0.865079</td>\n",
       "    </tr>\n",
       "    <tr>\n",
       "      <th>recall</th>\n",
       "      <td>0.896552</td>\n",
       "      <td>0.896552</td>\n",
       "      <td>0.896552</td>\n",
       "    </tr>\n",
       "    <tr>\n",
       "      <th>f1-score</th>\n",
       "      <td>0.870293</td>\n",
       "      <td>0.876596</td>\n",
       "      <td>0.900826</td>\n",
       "    </tr>\n",
       "  </tbody>\n",
       "</table>\n",
       "</div>"
      ],
      "text/plain": [
       "                MNB       SVM       KNN\n",
       "accuracy   0.845000  0.855000  0.880000\n",
       "precision  0.845528  0.865546  0.865079\n",
       "recall     0.896552  0.896552  0.896552\n",
       "f1-score   0.870293  0.876596  0.900826"
      ]
     },
     "metadata": {},
     "output_type": "display_data"
    }
   ],
   "source": [
    "#convert the classification report dictionary into a data frame\n",
    "cr_data = pd.DataFrame({\n",
    "    \"MNB\":[accuracy_mnb,precision_mnb,recall_mnb,score_mnb],\n",
    "    \"SVM\":[accuracy_svm,precision_svm,recall_mnb,score_svm],\n",
    "    \"KNN\":[accuracy_knn,precision_knn,recall_mnb,score_knn],\n",
    "},\n",
    "index = [\"accuracy\",\"precision\",\"recall\",\"f1-score\"])\n",
    "display(cr_data)"
   ]
  },
  {
   "cell_type": "code",
   "execution_count": 80,
   "id": "f2c8dc3c",
   "metadata": {},
   "outputs": [
    {
     "data": {
      "image/png": "[encoded data removed]",
      "text/plain": [
       "<Figure size 1440x720 with 1 Axes>"
      ]
     },
     "metadata": {},
     "output_type": "display_data"
    }
   ],
   "source": [
    "\n",
    "#plot the classification report scores\n",
    "ax = cr_data.iloc[:, :4].plot.bar(figsize=(20,10),color=['#77A1D3','#eaafc8', '#BE93C5'])\n",
    "plt.title(\"sentimen Perbandingan Model lassification Report sekolah tatap muka80:20 Hyperparameter Tuning GridSearchCV\", fontsize=18,ha='center')\n",
    "plt.xlabel('Metrik Performa', labelpad=20, fontsize=16,ha='center')\n",
    "\n",
    "#fix the x-tick mark rotation\n",
    "plt.xticks(rotation=0)\n",
    "\n",
    "#create custom y-tick marks and labels for percentage representation\n",
    "#create an array of even tick marks from 0 to 1\n",
    "percent_ticks = np.linspace(0,1,11, endpoint=True)\n",
    "\n",
    "#create a list of strings representing the percentage at each tick\n",
    "percent_labels = [f'{int(t*100)}%' for t in percent_ticks]\n",
    "plt.yticks(ticks=percent_ticks,labels=percent_labels)\n",
    "plt.ylabel('Persentase (%)', fontsize=16,ha='center')\n",
    "plt.margins(0.2,0.2)\n",
    "\n",
    "for p in ax.patches:\n",
    "    ax.annotate(\n",
    "        \"{}%\".format(str(np.round(p.get_height()*100, 2))),\n",
    "        xy=(p.get_x()*1+p.get_width()/2, p.get_height()*1.02),\n",
    "         fontsize=16, ha='center',\n",
    "    )"
   ]
  },
  {
   "cell_type": "code",
   "execution_count": null,
   "id": "cc6c5f1a",
   "metadata": {},
   "outputs": [],
   "source": []
  },
  {
   "cell_type": "code",
   "execution_count": null,
   "id": "0f4f7525",
   "metadata": {},
   "outputs": [],
   "source": []
  },
  {
   "cell_type": "code",
   "execution_count": null,
   "id": "56078dd3",
   "metadata": {},
   "outputs": [],
   "source": []
  },
  {
   "cell_type": "code",
   "execution_count": null,
   "id": "6142e72e",
   "metadata": {},
   "outputs": [],
   "source": []
  }
 ],
 "metadata": {
  "kernelspec": {
   "display_name": "Python 3",
   "language": "python",
   "name": "python3"
  },
  "language_info": {
   "codemirror_mode": {
    "name": "ipython",
    "version": 3
   },
   "file_extension": ".py",
   "mimetype": "text/x-python",
   "name": "python",
   "nbconvert_exporter": "python",
   "pygments_lexer": "ipython3",
   "version": "3.8.8"
  }
 },
 "nbformat": 4,
 "nbformat_minor": 5
}
