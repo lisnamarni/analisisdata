{
 "cells": [
  {
   "cell_type": "code",
   "execution_count": 1,
   "id": "165fcd6a",
   "metadata": {},
   "outputs": [],
   "source": [
    "#Import library yang dibutuhkan untuk proses pre-processing\n",
    "import pandas as pd\n",
    "import numpy as np\n",
    "import string #library untuk bekerja dengan text\n",
    "import re #import modul regular expression # regex untuk membersihkan kata kata tweet"
   ]
  },
  {
   "cell_type": "code",
   "execution_count": 2,
   "id": "efba0a80",
   "metadata": {},
   "outputs": [
    {
     "data": {
      "text/html": [
       "<div>\n",
       "<style scoped>\n",
       "    .dataframe tbody tr th:only-of-type {\n",
       "        vertical-align: middle;\n",
       "    }\n",
       "\n",
       "    .dataframe tbody tr th {\n",
       "        vertical-align: top;\n",
       "    }\n",
       "\n",
       "    .dataframe thead th {\n",
       "        text-align: right;\n",
       "    }\n",
       "</style>\n",
       "<table border=\"1\" class=\"dataframe\">\n",
       "  <thead>\n",
       "    <tr style=\"text-align: right;\">\n",
       "      <th></th>\n",
       "      <th>text</th>\n",
       "      <th>label</th>\n",
       "    </tr>\n",
       "  </thead>\n",
       "  <tbody>\n",
       "    <tr>\n",
       "      <th>0</th>\n",
       "      <td>demi proses pendidikan yg ideal sya mendukung ...</td>\n",
       "      <td>Positif</td>\n",
       "    </tr>\n",
       "    <tr>\n",
       "      <th>1</th>\n",
       "      <td>sambut sekolah tatap muka sekolah di semarang ...</td>\n",
       "      <td>Positif</td>\n",
       "    </tr>\n",
       "    <tr>\n",
       "      <th>2</th>\n",
       "      <td>lihat hari ini puluhan sekolah di pemalang mul...</td>\n",
       "      <td>Positif</td>\n",
       "    </tr>\n",
       "    <tr>\n",
       "      <th>3</th>\n",
       "      <td>menko pmk muhadjir effendy meminta sekolah yan...</td>\n",
       "      <td>Positif</td>\n",
       "    </tr>\n",
       "    <tr>\n",
       "      <th>4</th>\n",
       "      <td>duh di petarukan pemalang sekolah tatap muka d...</td>\n",
       "      <td>Negatif</td>\n",
       "    </tr>\n",
       "    <tr>\n",
       "      <th>...</th>\n",
       "      <td>...</td>\n",
       "      <td>...</td>\n",
       "    </tr>\n",
       "    <tr>\n",
       "      <th>5193</th>\n",
       "      <td>siswa sd sampe gunungkidul sekolah tatap muka</td>\n",
       "      <td>Positif</td>\n",
       "    </tr>\n",
       "    <tr>\n",
       "      <th>5194</th>\n",
       "      <td>perintah kota tangerang selatan izin siswa gia...</td>\n",
       "      <td>Negatif</td>\n",
       "    </tr>\n",
       "    <tr>\n",
       "      <th>5195</th>\n",
       "      <td>timbang sekolah tatap muka hak asasi orang tua...</td>\n",
       "      <td>Negatif</td>\n",
       "    </tr>\n",
       "    <tr>\n",
       "      <th>5196</th>\n",
       "      <td>ombudsman jakarta raya pemprov dki jawa barat ...</td>\n",
       "      <td>Positif</td>\n",
       "    </tr>\n",
       "    <tr>\n",
       "      <th>5197</th>\n",
       "      <td>uji coba sekolah tatap muka laku efektif lifes...</td>\n",
       "      <td>Negatif</td>\n",
       "    </tr>\n",
       "  </tbody>\n",
       "</table>\n",
       "<p>5198 rows × 2 columns</p>\n",
       "</div>"
      ],
      "text/plain": [
       "                                                   text    label\n",
       "0     demi proses pendidikan yg ideal sya mendukung ...  Positif\n",
       "1     sambut sekolah tatap muka sekolah di semarang ...  Positif\n",
       "2     lihat hari ini puluhan sekolah di pemalang mul...  Positif\n",
       "3     menko pmk muhadjir effendy meminta sekolah yan...  Positif\n",
       "4     duh di petarukan pemalang sekolah tatap muka d...  Negatif\n",
       "...                                                 ...      ...\n",
       "5193      siswa sd sampe gunungkidul sekolah tatap muka  Positif\n",
       "5194  perintah kota tangerang selatan izin siswa gia...  Negatif\n",
       "5195  timbang sekolah tatap muka hak asasi orang tua...  Negatif\n",
       "5196  ombudsman jakarta raya pemprov dki jawa barat ...  Positif\n",
       "5197  uji coba sekolah tatap muka laku efektif lifes...  Negatif\n",
       "\n",
       "[5198 rows x 2 columns]"
      ]
     },
     "execution_count": 2,
     "metadata": {},
     "output_type": "execute_result"
    }
   ],
   "source": [
    "#Import data CSV yang ingin diproses dalam tahapan pre-processing\n",
    "header_list = [\"text\",\"label\"]\n",
    "data_label = pd.read_csv('D:/crawling/prosesing ta1.csv', names=header_list)\n",
    "data_label"
   ]
  },
  {
   "cell_type": "code",
   "execution_count": 3,
   "id": "3796e1bb",
   "metadata": {},
   "outputs": [
    {
     "data": {
      "text/plain": [
       "<AxesSubplot:>"
      ]
     },
     "execution_count": 3,
     "metadata": {},
     "output_type": "execute_result"
    },
    {
     "data": {
      "image/png": "[encoded data removed]",
      "text/plain": [
       "<Figure size 432x288 with 1 Axes>"
      ]
     },
     "metadata": {
      "needs_background": "light"
     },
     "output_type": "display_data"
    }
   ],
   "source": [
    "# Import Matplotlib Dan Seaborn\n",
    "import matplotlib.pyplot as plt\n",
    "import seaborn as sns\n",
    "%matplotlib inline\n",
    "\n",
    "data_label.label.value_counts().plot(kind='bar')\n"
   ]
  },
  {
   "cell_type": "code",
   "execution_count": 4,
   "id": "7a44c023",
   "metadata": {},
   "outputs": [
    {
     "data": {
      "image/png": "[encoded data removed]",
      "text/plain": [
       "<Figure size 432x288 with 1 Axes>"
      ]
     },
     "metadata": {},
     "output_type": "display_data"
    }
   ],
   "source": [
    "#Data to plot\n",
    "# labels = ['negative','positive']\n",
    "# colors = (\"#FF968A\",\"#6EB5FF\")\n",
    "\n",
    "labels = ['negative','positive']\n",
    "colors = (\"#FF5F6D\",\"#6EB5FF\")\n",
    "\n",
    "explode = (0.01,0.1) #explode 1st slice\n",
    "\n",
    "#plot\n",
    "fig,ax = plt.subplots()\n",
    "ax.pie(data_label.label.value_counts(), labels=labels, autopct='%.1f%%', explode=explode, shadow=True, colors=colors)\n",
    "ax.legend(labels,loc='best')\n",
    "ax.set_aspect('equal')\n",
    "plt.tight_layout\n",
    "plt.show()"
   ]
  },
  {
   "cell_type": "code",
   "execution_count": 5,
   "id": "8776b0b1",
   "metadata": {},
   "outputs": [],
   "source": [
    "#Import library untuk melakukan proses klasifikasi, validasi maupun evaluasi\n",
    "from time import time #untuk proses perhitungan waktu komputasi\n",
    "from sklearn.model_selection import GridSearchCV #untuk proses penyetelan parameter\n",
    "from sklearn.pipeline import Pipeline #untuk menampung beberapa tahapan untuk proses klasifikasi yang dimana pembelajaran \n",
    "#mesin dapat berjalan otomatis secara bersama berurutan bergantian tetapi dalam tahap berbeda.\n",
    "from sklearn.feature_extraction.text import TfidfVectorizer #untuk proses pembobotan kata dengan pemberian bobot nilai kepada \n",
    "#sebuah kata dengan melihat frekuensi relatif kemunculan kata dalam dokumen teks\n",
    "from sklearn.naive_bayes import MultinomialNB\n",
    "from sklearn.svm import SVC #untuk proses klasifikasi dalam algoritma SVM\n",
    "from sklearn.neighbors import KNeighborsClassifier #untuk proses klasifikasi dalam algoritma K-NN\n",
    "from sklearn.model_selection import train_test_split #untuk proses pembagian data training maupun testing\n",
    "from sklearn.model_selection import KFold #Untuk proses KFoldValidation\n",
    "from sklearn.model_selection import cross_val_score #untuk proses validasi dengan nilai perulangan sesuai nilai K\n",
    "from sklearn import metrics \n",
    "from sklearn.metrics import classification_report #untuk proses menampilkan evaluasi\n",
    "from sklearn.metrics import accuracy_score #untuk proses menampilkan hasil akurasi dari proses model klasifikasi\n",
    "from sklearn.metrics import precision_recall_curve #untuk proses menampilkan hasil presisi dan recall dari proses model klasifikasi\n",
    "from sklearn.metrics import f1_score #untuk proses menampilkan hasil f1-score dari proses model klasifikasi\n"
   ]
  },
  {
   "cell_type": "code",
   "execution_count": 6,
   "id": "fc7f1d54",
   "metadata": {},
   "outputs": [
    {
     "name": "stdout",
     "output_type": "stream",
     "text": [
      "0    2973\n",
      "1    2225\n",
      "Name: label, dtype: int64\n"
     ]
    },
    {
     "data": {
      "text/html": [
       "<div>\n",
       "<style scoped>\n",
       "    .dataframe tbody tr th:only-of-type {\n",
       "        vertical-align: middle;\n",
       "    }\n",
       "\n",
       "    .dataframe tbody tr th {\n",
       "        vertical-align: top;\n",
       "    }\n",
       "\n",
       "    .dataframe thead th {\n",
       "        text-align: right;\n",
       "    }\n",
       "</style>\n",
       "<table border=\"1\" class=\"dataframe\">\n",
       "  <thead>\n",
       "    <tr style=\"text-align: right;\">\n",
       "      <th></th>\n",
       "      <th>text</th>\n",
       "      <th>label</th>\n",
       "    </tr>\n",
       "  </thead>\n",
       "  <tbody>\n",
       "    <tr>\n",
       "      <th>0</th>\n",
       "      <td>demi proses pendidikan yg ideal sya mendukung ...</td>\n",
       "      <td>1</td>\n",
       "    </tr>\n",
       "    <tr>\n",
       "      <th>1</th>\n",
       "      <td>sambut sekolah tatap muka sekolah di semarang ...</td>\n",
       "      <td>1</td>\n",
       "    </tr>\n",
       "    <tr>\n",
       "      <th>2</th>\n",
       "      <td>lihat hari ini puluhan sekolah di pemalang mul...</td>\n",
       "      <td>1</td>\n",
       "    </tr>\n",
       "    <tr>\n",
       "      <th>3</th>\n",
       "      <td>menko pmk muhadjir effendy meminta sekolah yan...</td>\n",
       "      <td>1</td>\n",
       "    </tr>\n",
       "    <tr>\n",
       "      <th>4</th>\n",
       "      <td>duh di petarukan pemalang sekolah tatap muka d...</td>\n",
       "      <td>0</td>\n",
       "    </tr>\n",
       "    <tr>\n",
       "      <th>...</th>\n",
       "      <td>...</td>\n",
       "      <td>...</td>\n",
       "    </tr>\n",
       "    <tr>\n",
       "      <th>5193</th>\n",
       "      <td>siswa sd sampe gunungkidul sekolah tatap muka</td>\n",
       "      <td>1</td>\n",
       "    </tr>\n",
       "    <tr>\n",
       "      <th>5194</th>\n",
       "      <td>perintah kota tangerang selatan izin siswa gia...</td>\n",
       "      <td>0</td>\n",
       "    </tr>\n",
       "    <tr>\n",
       "      <th>5195</th>\n",
       "      <td>timbang sekolah tatap muka hak asasi orang tua...</td>\n",
       "      <td>0</td>\n",
       "    </tr>\n",
       "    <tr>\n",
       "      <th>5196</th>\n",
       "      <td>ombudsman jakarta raya pemprov dki jawa barat ...</td>\n",
       "      <td>1</td>\n",
       "    </tr>\n",
       "    <tr>\n",
       "      <th>5197</th>\n",
       "      <td>uji coba sekolah tatap muka laku efektif lifes...</td>\n",
       "      <td>0</td>\n",
       "    </tr>\n",
       "  </tbody>\n",
       "</table>\n",
       "<p>5198 rows × 2 columns</p>\n",
       "</div>"
      ],
      "text/plain": [
       "                                                   text  label\n",
       "0     demi proses pendidikan yg ideal sya mendukung ...      1\n",
       "1     sambut sekolah tatap muka sekolah di semarang ...      1\n",
       "2     lihat hari ini puluhan sekolah di pemalang mul...      1\n",
       "3     menko pmk muhadjir effendy meminta sekolah yan...      1\n",
       "4     duh di petarukan pemalang sekolah tatap muka d...      0\n",
       "...                                                 ...    ...\n",
       "5193      siswa sd sampe gunungkidul sekolah tatap muka      1\n",
       "5194  perintah kota tangerang selatan izin siswa gia...      0\n",
       "5195  timbang sekolah tatap muka hak asasi orang tua...      0\n",
       "5196  ombudsman jakarta raya pemprov dki jawa barat ...      1\n",
       "5197  uji coba sekolah tatap muka laku efektif lifes...      0\n",
       "\n",
       "[5198 rows x 2 columns]"
      ]
     },
     "execution_count": 6,
     "metadata": {},
     "output_type": "execute_result"
    }
   ],
   "source": [
    "#mengubah  Sentimen Kedalam Bentuk Angka\n",
    "# konversi sentimen yang berupa kata menjadi sebuah angka\n",
    "#positif 1\n",
    "#negatif 0\n",
    "data_label['label'] = data_label.label.map(lambda x: int(1) if x =='Positif' else int(0) if x =='Negatif' else np.nan)\n",
    "print(data_label['label'].value_counts())\n",
    "data_label\n",
    "\n"
   ]
  },
  {
   "cell_type": "code",
   "execution_count": 7,
   "id": "ecff1a65",
   "metadata": {},
   "outputs": [
    {
     "data": {
      "text/plain": [
       "<AxesSubplot:>"
      ]
     },
     "execution_count": 7,
     "metadata": {},
     "output_type": "execute_result"
    },
    {
     "data": {
      "image/png": "[encoded data removed]",
      "text/plain": [
       "<Figure size 432x288 with 1 Axes>"
      ]
     },
     "metadata": {
      "needs_background": "light"
     },
     "output_type": "display_data"
    }
   ],
   "source": [
    "# Import Matplotlib Dan Seaborn\n",
    "import matplotlib.pyplot as plt\n",
    "import seaborn as sns\n",
    "%matplotlib inline\n",
    "\n",
    "data_label.label.value_counts().plot(kind='bar')\n"
   ]
  },
  {
   "cell_type": "code",
   "execution_count": 8,
   "id": "f1660b78",
   "metadata": {},
   "outputs": [
    {
     "data": {
      "text/html": [
       "<div>\n",
       "<style scoped>\n",
       "    .dataframe tbody tr th:only-of-type {\n",
       "        vertical-align: middle;\n",
       "    }\n",
       "\n",
       "    .dataframe tbody tr th {\n",
       "        vertical-align: top;\n",
       "    }\n",
       "\n",
       "    .dataframe thead th {\n",
       "        text-align: right;\n",
       "    }\n",
       "</style>\n",
       "<table border=\"1\" class=\"dataframe\">\n",
       "  <thead>\n",
       "    <tr style=\"text-align: right;\">\n",
       "      <th></th>\n",
       "      <th>text</th>\n",
       "      <th>label</th>\n",
       "    </tr>\n",
       "  </thead>\n",
       "  <tbody>\n",
       "    <tr>\n",
       "      <th>4</th>\n",
       "      <td>duh di petarukan pemalang sekolah tatap muka d...</td>\n",
       "      <td>0</td>\n",
       "    </tr>\n",
       "    <tr>\n",
       "      <th>6</th>\n",
       "      <td>pemerintah kabupaten pemkab klaten saat ini be...</td>\n",
       "      <td>0</td>\n",
       "    </tr>\n",
       "    <tr>\n",
       "      <th>9</th>\n",
       "      <td>pts luring covid sebenarnya saya bertanyatanya...</td>\n",
       "      <td>0</td>\n",
       "    </tr>\n",
       "    <tr>\n",
       "      <th>17</th>\n",
       "      <td>keren tu tetiba sekolah gua drop masuk tatap m...</td>\n",
       "      <td>0</td>\n",
       "    </tr>\n",
       "    <tr>\n",
       "      <th>26</th>\n",
       "      <td>bokep viral lagi guys setelah parakan muncul l...</td>\n",
       "      <td>0</td>\n",
       "    </tr>\n",
       "  </tbody>\n",
       "</table>\n",
       "</div>"
      ],
      "text/plain": [
       "                                                 text  label\n",
       "4   duh di petarukan pemalang sekolah tatap muka d...      0\n",
       "6   pemerintah kabupaten pemkab klaten saat ini be...      0\n",
       "9   pts luring covid sebenarnya saya bertanyatanya...      0\n",
       "17  keren tu tetiba sekolah gua drop masuk tatap m...      0\n",
       "26  bokep viral lagi guys setelah parakan muncul l...      0"
      ]
     },
     "execution_count": 8,
     "metadata": {},
     "output_type": "execute_result"
    }
   ],
   "source": [
    "df = data_label[data_label['label']== 0]\n",
    "df.head()"
   ]
  },
  {
   "cell_type": "code",
   "execution_count": 9,
   "id": "528ad4ab",
   "metadata": {},
   "outputs": [],
   "source": [
    "#Proses untuk pembagian dataset training dan testing\n",
    "\n",
    "#Membangun One-dimensional array dan N-dimensional array dengan nilai random. \n",
    "#Gunakan fungsi np.random.randint(batas atas, size=dimensi array)\n",
    "\n",
    "#np.random.randint(low, high=None, size=None, dtype=int)\n",
    "#Fungsi untuk melakukan pengambilan sampel secara acak di numpy\n",
    "#Membuat variabel index yang berguna untuk menghilangkan index pada data\n",
    "idx = np.random.randint(0,2000,2000)\n",
    "\n",
    "#.loc = membaca baris berdasarkan index\n",
    "reduce_data = data_label.loc[idx] \n",
    "\"\"\"\n",
    "Membaca setiap baris data yang ada di dataframe data label berdasarkan hasil pengacakan pada variabel idx yang sudah melakukan \n",
    "pengambilan sampel secara acak, kemudian dari proses tersebut disimpan lagi di dalam dataframe reduce_data\n",
    "\"\"\"\n",
    "data_train,data_test=train_test_split(reduce_data,test_size = 0.3) \n",
    "\"\"\"\n",
    "Membagi data dengan menggunakan fungsi train_test_split yang dimana parameter masukan berisi dataframe\n",
    "reduce_data=data yang sudah dibaca perbarisnya, serta ukuran pembagian datanya, disini 0.2 artinya \n",
    "pembagian data menghasilkan data testing sebanyak 20% dan sisanya data training. Data tersebut akan \n",
    "disimpan ke dalam variabel data_train dan data_test yang dimana \n",
    "\"\"\"\n",
    "#Menetapkan isi dari variabel train dan test yang termasuk isi dari data training dan testing dalam bentuk list\n",
    "train = data_train[['text','label']].reset_index().drop('index',axis=1)\n",
    "test = data_test[['text','label']].reset_index().drop('index',axis=1)\n",
    "#Menggunakan fungsi drop () untuk mengambil semua data lainnya di index. Kemudian, dibagi datanya."
   ]
  },
  {
   "cell_type": "code",
   "execution_count": 10,
   "id": "1ced125d",
   "metadata": {},
   "outputs": [],
   "source": [
    "train.to_csv('D:/crawling/traincoba3.csv', header=None, index=False)\n",
    "test.to_csv('D:/crawling/testcoba3.csv', header=None, index=False)\n"
   ]
  },
  {
   "cell_type": "code",
   "execution_count": 11,
   "id": "1f8baa50",
   "metadata": {},
   "outputs": [],
   "source": [
    "header_list = [\"text\",\"label\"]\n",
    "train = pd.read_csv('D:/crawling/traincoba3.csv',names=header_list)\n",
    "test = pd.read_csv('D:/crawling/testcoba3.csv', names=header_list)"
   ]
  },
  {
   "cell_type": "code",
   "execution_count": 12,
   "id": "b5fc539d",
   "metadata": {},
   "outputs": [],
   "source": [
    "\"\"\"\n",
    "Proses mendefinisikan atau seleksi kolom yang menjadi prediktor maupun output ke dalam variabel X dan y dalam set pelatihan\n",
    "maupun pengujian yang dimana dari kedua variabel tersebut memiliki peran sebagai variabel independen dan dependen untuk proses\n",
    "klasifikasi\n",
    "\n",
    "Set pelatihan adalah bagian dari kumpulan data yang digunakan untuk melatih model. \n",
    "=>X_train adalah kumpulan data pelatihan. Variabel ini termasuk kedalam variabel independen.\n",
    "=>y_train adalah kumpulan label untuk semua data di X_train. Termasuk variabel dependen yang perlu diprediksi oleh model, \n",
    "seperti termasuk label kategori terhadap variabel independen yang ada, oleh karna itu perlu menentukan variabel dependen \n",
    "saat melatih / menyesuaikan model.\n",
    "\n",
    "Set pengujian adalah subset dari kumpulan data yang Anda gunakan untuk menguji model Anda setelah model melalui pemeriksaan\n",
    "awal oleh set validasi.\n",
    "=>X_test adalah kumpulan data pengujian. Variabel ini termasuk kedalam variabel independen. \n",
    "Variabel independen dari data yang tidak akan digunakan dalam tahap pelatihan dan akan digunakan untuk membuat prediksi \n",
    "guna menguji keakuratan model\n",
    "=>y_test adalah kumpulan label untuk semua data di X_test. Label ini akan digunakan untuk menguji akurasi antara kategori \n",
    "aktual dan prediksi\n",
    "\n",
    "\"\"\"\n",
    "X_train = train.text #data file train dengan kolom text\n",
    "y_train = train.label #data file train dengan kolom label\n",
    "X_test = test.text #data file test dengan kolom text\n",
    "y_test = test.label #data file text dengan kolom label"
   ]
  },
  {
   "cell_type": "code",
   "execution_count": 13,
   "id": "c511b5a6",
   "metadata": {},
   "outputs": [],
   "source": [
    "\"\"\"\n",
    "Tentukan pipeline yang berisi metode mana yang digunakan yang nantinya akan diproses untuk menjadi model terbaik dengan\n",
    "menggabungkan ekstraktor fitur teks dengan pengklasifikasi sederhana.\n",
    "\n",
    "Disini pipeline berisi estimator dari beberapa metode algoritma yang digunakan untuk menampung semua fitur ekstraksi maupun \n",
    "fitur dari metode algoritma yang akan di ujikan satu sama lain pada proses penyetelan dengan pendekatan GridSearchCV.\n",
    "\"\"\"\n",
    "text_clf_mnb = Pipeline([('tfidf', TfidfVectorizer()),\n",
    "                     ('clf', MultinomialNB())])\n",
    "\n",
    "\"\"\"\n",
    "Proses penyetelan menggunakan hyperparameter utama pada setiap metode algoritma. Banyak parameter yang dicoba akan memberikan\n",
    "daya penjelajahan yang lebih baik tetapi akan meningkatkan waktu pemrosesan dengan cara kombinatorial.\n",
    "\n",
    "Pada metode algoritma Naive Bayes varian BernoulliNB ini menggunakan pencarian nilai terbaik dari hyperparameter binarize\n",
    "dan alpha, kemudian untuk ekstraksi fitur kata menggunakan dari TFIDFVectorizer dengan pemilihan nilai hyperparameter\n",
    "ngram_range\n",
    "\"\"\"\n",
    "\n",
    "\"\"\"\n",
    "Pipeline ini dilakukan dengan cara memungkinkan pengaturan parameter dari berbagai langkah menggunakan nama mereka dan nama \n",
    "parameter yang dipisahkan dengan penulisan __ seperti pada contoh di bawah ini. Estimator langkah dapat diganti seluruhnya \n",
    "dengan mengatur parameter dengan namanya ke estimator lain.\n",
    "\"\"\"\n",
    "\n",
    "tuned_parameters_mnb = {\n",
    "    'tfidf__ngram_range': [(1, 1), (1, 2), (1, 3)],\n",
    "#    'clf__binarize' : [0.0,0,5,0.6,1.0,1.5],\n",
    "    'clf__alpha': [1, 1e-1, 1e-2, 1e-3, 1e-4]\n",
    "}"
   ]
  },
  {
   "cell_type": "code",
   "execution_count": 14,
   "id": "2a8ea563",
   "metadata": {
    "scrolled": false
   },
   "outputs": [
    {
     "name": "stdout",
     "output_type": "stream",
     "text": [
      "Hasil Score data test :  0.9935714285714285\n",
      "Hasil Score data test :  0.8233333333333334\n",
      "Waktu Komputasi dari proses hyperparameter tuning di dalam Grid: 6.650s\n"
     ]
    }
   ],
   "source": [
    "t = time()\n",
    "\n",
    "\"\"\"\n",
    "Tahapan proses mencari nilai dari hyperparameter setiap algoritma menggunakan GridSearchCV untuk mendapatkan kombinasi parameter\n",
    "terbaik dengan gabungan fitur lainnya selain pengklasifikasian\n",
    "\"\"\"\n",
    "\n",
    "#Melakukan validasi sebanyak 10 kali untuk masing-masing nilai pada parameter alpha\n",
    "cv = KFold(n_splits=10, shuffle=True, random_state=1)\n",
    "\n",
    "#Membuat objek clf_mnb sebagai fungsi dari proses GridsearchCV\n",
    "clf_mnb = GridSearchCV(text_clf_mnb, tuned_parameters_mnb, scoring = 'accuracy', cv=cv, n_jobs = -1,return_train_score=True)\n",
    "\n",
    "#Sesuaikan dengan model/Masukkan ke model/Fit the model\n",
    "#Fitting model dimana model belajar untuk mencari hubungan antara X_train dan y_train \n",
    "clf_mnb.fit(X_train,y_train)\n",
    "\n",
    "print(\"Hasil Score data test : \", clf_mnb.score(X_train,y_train))\n",
    "print(\"Hasil Score data test : \", clf_mnb.score(X_test,y_test))\n",
    "\n",
    "training_time = time() - t\n",
    "print(\"Waktu Komputasi dari proses hyperparameter tuning di dalam Grid: %0.3fs\" % training_time)"
   ]
  },
  {
   "cell_type": "code",
   "execution_count": 15,
   "id": "8db5bf97",
   "metadata": {},
   "outputs": [
    {
     "name": "stdout",
     "output_type": "stream",
     "text": [
      "Best parameters set found on development set:\n",
      "{'clf__alpha': 0.0001, 'tfidf__ngram_range': (1, 2)}\n",
      "Best Score: 0.8442857142857143\n",
      "\n",
      "\n",
      "Mean: 0.778571 Stdev:(0.029623) with: {'clf__alpha': 1, 'tfidf__ngram_range': (1, 1)}\n",
      "Mean: 0.807143 Stdev:(0.024744) with: {'clf__alpha': 1, 'tfidf__ngram_range': (1, 2)}\n",
      "Mean: 0.814286 Stdev:(0.027105) with: {'clf__alpha': 1, 'tfidf__ngram_range': (1, 3)}\n",
      "Mean: 0.811429 Stdev:(0.020504) with: {'clf__alpha': 0.1, 'tfidf__ngram_range': (1, 1)}\n",
      "Mean: 0.832857 Stdev:(0.019219) with: {'clf__alpha': 0.1, 'tfidf__ngram_range': (1, 2)}\n",
      "Mean: 0.834286 Stdev:(0.021853) with: {'clf__alpha': 0.1, 'tfidf__ngram_range': (1, 3)}\n",
      "Mean: 0.817857 Stdev:(0.023310) with: {'clf__alpha': 0.01, 'tfidf__ngram_range': (1, 1)}\n",
      "Mean: 0.840000 Stdev:(0.023299) with: {'clf__alpha': 0.01, 'tfidf__ngram_range': (1, 2)}\n",
      "Mean: 0.841429 Stdev:(0.026496) with: {'clf__alpha': 0.01, 'tfidf__ngram_range': (1, 3)}\n",
      "Mean: 0.819286 Stdev:(0.025163) with: {'clf__alpha': 0.001, 'tfidf__ngram_range': (1, 1)}\n",
      "Mean: 0.843571 Stdev:(0.018475) with: {'clf__alpha': 0.001, 'tfidf__ngram_range': (1, 2)}\n",
      "Mean: 0.837857 Stdev:(0.024754) with: {'clf__alpha': 0.001, 'tfidf__ngram_range': (1, 3)}\n",
      "Mean: 0.819286 Stdev:(0.027115) with: {'clf__alpha': 0.0001, 'tfidf__ngram_range': (1, 1)}\n",
      "Mean: 0.844286 Stdev:(0.019898) with: {'clf__alpha': 0.0001, 'tfidf__ngram_range': (1, 2)}\n",
      "Mean: 0.835714 Stdev:(0.022131) with: {'clf__alpha': 0.0001, 'tfidf__ngram_range': (1, 3)}\n"
     ]
    }
   ],
   "source": [
    "\"\"\"\n",
    "Proses menampilkan setiap kombinasi nilai hyperparameter dari proses pengujian sebelumnya, hal ini memudahkan untuk melihat \n",
    "setiap alur dari pencocokan berlangsung yang dimana hasil akhir berupa nilai terbaik dari kombinasi antar beberapa estimator\n",
    "(seperti pemilihan fitur) yang diujikan pada 1 set penyetelan dalam sistem pipeline.\n",
    "\"\"\"\n",
    "\n",
    "print(\"Best parameters set found on development set:\")\n",
    "print(clf_mnb.best_params_)\n",
    "print(\"Best Score:\", clf_mnb.best_score_)\n",
    "print('\\n')\n",
    "\n",
    "means = clf_mnb.cv_results_['mean_test_score'] #nilai rata rata akurasi\n",
    "stds = clf_mnb.cv_results_['std_test_score'] #nilai standar deviasi\n",
    "params = clf_mnb.cv_results_['params'] #nilai-nilai param yang sudah didefinisikan ke opsi pengujian sebelumnya (text_clf_bnb,\n",
    "#tuned_parameters_bnb yang dimana ditampilkan dalam bentuk berupa pencocokan secara satu-persatu\n",
    "\n",
    "#Proses perulangan untuk menampilkan nilai-nilai tersebut\n",
    "for mean, stdev, param in zip(means,stds,params):\n",
    "    print(\"Mean: %f Stdev:(%f) with: %r\" % (mean,stdev,param))"
   ]
  },
  {
   "cell_type": "code",
   "execution_count": 16,
   "id": "1b3a8082",
   "metadata": {},
   "outputs": [
    {
     "data": {
      "text/html": [
       "<div>\n",
       "<style scoped>\n",
       "    .dataframe tbody tr th:only-of-type {\n",
       "        vertical-align: middle;\n",
       "    }\n",
       "\n",
       "    .dataframe tbody tr th {\n",
       "        vertical-align: top;\n",
       "    }\n",
       "\n",
       "    .dataframe thead th {\n",
       "        text-align: right;\n",
       "    }\n",
       "</style>\n",
       "<table border=\"1\" class=\"dataframe\">\n",
       "  <thead>\n",
       "    <tr style=\"text-align: right;\">\n",
       "      <th></th>\n",
       "      <th>clf__alpha</th>\n",
       "      <th>tfidf__ngram_range</th>\n",
       "      <th>test_score</th>\n",
       "      <th>train_score</th>\n",
       "    </tr>\n",
       "  </thead>\n",
       "  <tbody>\n",
       "    <tr>\n",
       "      <th>0</th>\n",
       "      <td>1.0000</td>\n",
       "      <td>(1, 1)</td>\n",
       "      <td>0.778571</td>\n",
       "      <td>0.904762</td>\n",
       "    </tr>\n",
       "    <tr>\n",
       "      <th>1</th>\n",
       "      <td>1.0000</td>\n",
       "      <td>(1, 2)</td>\n",
       "      <td>0.807143</td>\n",
       "      <td>0.965476</td>\n",
       "    </tr>\n",
       "    <tr>\n",
       "      <th>2</th>\n",
       "      <td>1.0000</td>\n",
       "      <td>(1, 3)</td>\n",
       "      <td>0.814286</td>\n",
       "      <td>0.981905</td>\n",
       "    </tr>\n",
       "    <tr>\n",
       "      <th>3</th>\n",
       "      <td>0.1000</td>\n",
       "      <td>(1, 1)</td>\n",
       "      <td>0.811429</td>\n",
       "      <td>0.954444</td>\n",
       "    </tr>\n",
       "    <tr>\n",
       "      <th>4</th>\n",
       "      <td>0.1000</td>\n",
       "      <td>(1, 2)</td>\n",
       "      <td>0.832857</td>\n",
       "      <td>0.991032</td>\n",
       "    </tr>\n",
       "    <tr>\n",
       "      <th>5</th>\n",
       "      <td>0.1000</td>\n",
       "      <td>(1, 3)</td>\n",
       "      <td>0.834286</td>\n",
       "      <td>0.993571</td>\n",
       "    </tr>\n",
       "    <tr>\n",
       "      <th>6</th>\n",
       "      <td>0.0100</td>\n",
       "      <td>(1, 1)</td>\n",
       "      <td>0.817857</td>\n",
       "      <td>0.963413</td>\n",
       "    </tr>\n",
       "    <tr>\n",
       "      <th>7</th>\n",
       "      <td>0.0100</td>\n",
       "      <td>(1, 2)</td>\n",
       "      <td>0.840000</td>\n",
       "      <td>0.992619</td>\n",
       "    </tr>\n",
       "    <tr>\n",
       "      <th>8</th>\n",
       "      <td>0.0100</td>\n",
       "      <td>(1, 3)</td>\n",
       "      <td>0.841429</td>\n",
       "      <td>0.993730</td>\n",
       "    </tr>\n",
       "    <tr>\n",
       "      <th>9</th>\n",
       "      <td>0.0010</td>\n",
       "      <td>(1, 1)</td>\n",
       "      <td>0.819286</td>\n",
       "      <td>0.965397</td>\n",
       "    </tr>\n",
       "    <tr>\n",
       "      <th>10</th>\n",
       "      <td>0.0010</td>\n",
       "      <td>(1, 2)</td>\n",
       "      <td>0.843571</td>\n",
       "      <td>0.993095</td>\n",
       "    </tr>\n",
       "    <tr>\n",
       "      <th>11</th>\n",
       "      <td>0.0010</td>\n",
       "      <td>(1, 3)</td>\n",
       "      <td>0.837857</td>\n",
       "      <td>0.995317</td>\n",
       "    </tr>\n",
       "    <tr>\n",
       "      <th>12</th>\n",
       "      <td>0.0001</td>\n",
       "      <td>(1, 1)</td>\n",
       "      <td>0.819286</td>\n",
       "      <td>0.966190</td>\n",
       "    </tr>\n",
       "    <tr>\n",
       "      <th>13</th>\n",
       "      <td>0.0001</td>\n",
       "      <td>(1, 2)</td>\n",
       "      <td>0.844286</td>\n",
       "      <td>0.993571</td>\n",
       "    </tr>\n",
       "    <tr>\n",
       "      <th>14</th>\n",
       "      <td>0.0001</td>\n",
       "      <td>(1, 3)</td>\n",
       "      <td>0.835714</td>\n",
       "      <td>0.995317</td>\n",
       "    </tr>\n",
       "  </tbody>\n",
       "</table>\n",
       "</div>"
      ],
      "text/plain": [
       "    clf__alpha tfidf__ngram_range  test_score  train_score\n",
       "0       1.0000             (1, 1)    0.778571     0.904762\n",
       "1       1.0000             (1, 2)    0.807143     0.965476\n",
       "2       1.0000             (1, 3)    0.814286     0.981905\n",
       "3       0.1000             (1, 1)    0.811429     0.954444\n",
       "4       0.1000             (1, 2)    0.832857     0.991032\n",
       "5       0.1000             (1, 3)    0.834286     0.993571\n",
       "6       0.0100             (1, 1)    0.817857     0.963413\n",
       "7       0.0100             (1, 2)    0.840000     0.992619\n",
       "8       0.0100             (1, 3)    0.841429     0.993730\n",
       "9       0.0010             (1, 1)    0.819286     0.965397\n",
       "10      0.0010             (1, 2)    0.843571     0.993095\n",
       "11      0.0010             (1, 3)    0.837857     0.995317\n",
       "12      0.0001             (1, 1)    0.819286     0.966190\n",
       "13      0.0001             (1, 2)    0.844286     0.993571\n",
       "14      0.0001             (1, 3)    0.835714     0.995317"
      ]
     },
     "execution_count": 16,
     "metadata": {},
     "output_type": "execute_result"
    }
   ],
   "source": [
    "\"\"\"\n",
    "Meringkas hasil dari GrisSearchCV\n",
    "Menampilkan hasil setiap pencocokan parameter dari proses GridSearchCV beserta nilai pelatihan dan pengujian dari setiap \n",
    "kombinasi dalam bentuk DataFrame yang isinya berupa pasangan kombinasi tiap hyperparameter yang diujikan.\n",
    "\"\"\"\n",
    "result_mnb = pd.DataFrame(clf_mnb.cv_results_['params'])\n",
    "result_mnb['test_score'] = clf_mnb.cv_results_['mean_test_score']\n",
    "result_mnb['train_score'] = clf_mnb.cv_results_['mean_train_score']\n",
    "result_mnb"
   ]
  },
  {
   "cell_type": "code",
   "execution_count": 17,
   "id": "7de16d23",
   "metadata": {},
   "outputs": [
    {
     "data": {
      "text/plain": [
       "['clf_mnb.pkl']"
      ]
     },
     "execution_count": 17,
     "metadata": {},
     "output_type": "execute_result"
    }
   ],
   "source": [
    "\n",
    "import joblib\n",
    "final_model = clf_mnb.best_estimator_\n",
    "joblib.dump(final_model, \"clf_mnb.pkl\")"
   ]
  },
  {
   "cell_type": "code",
   "execution_count": 18,
   "id": "d76e9cfa",
   "metadata": {},
   "outputs": [
    {
     "name": "stdout",
     "output_type": "stream",
     "text": [
      "train time: 0.063s\n",
      "================================\n",
      "Hasil Score data train :  0.9907142857142858\n",
      "Hasil Score data test :  0.8283333333333334\n"
     ]
    }
   ],
   "source": [
    "t = time()\n",
    "\n",
    "#Proses melatih model\n",
    "#Mengaktifkan/memanggil/membuat fungsi klasifikasi Bernoulli Naive Bayes dengan pemilihan fitur yang akan digunakan\n",
    "#Dalam proses ini hasil nilai setiap parameter didapat dari proses sebelumnya setelah melakukan proses pencocokan atau\n",
    "#kombinasi, yaitu proses hyperparameter tuning. \n",
    "mnb = Pipeline([('tfidf', TfidfVectorizer(ngram_range=(1,2))),\n",
    "                ('clf', MultinomialNB(alpha=0.1))])\n",
    "\n",
    "\"\"\"\n",
    "Sesuaikan dengan model/Masukkan ke model/Fit the model. Memasukkan data training pada fungsi klasifikasi NB.\n",
    "Masukan dalam bentuk parameter yang berisi X_train (kumpulan data pelatihan yang bersifat independen), y_train (kumpulan label \n",
    "untuk semua data di X_train yang bersifat dependen yang perlu diprediksi oleh model)\n",
    "\n",
    "Cocokkan semua transformasi satu demi satu dan transformasikan data, kemudian set data yang ditransformasi menggunakan \n",
    "estimator akhir.\n",
    "\"\"\"\n",
    "# Fitting model dimana model belajar untuk mencari hubungan antara X_train dan y_train \n",
    "mnb.fit(X_train,y_train)\n",
    "\n",
    "#Untuk set waktu selama proses training sedang berjalan\n",
    "training_time = time() - t\n",
    "print(\"train time: %0.3fs\" % training_time)\n",
    "\n",
    "print(\"================================\")\n",
    "print(\"Hasil Score data train : \", mnb.score(X_train,y_train))\n",
    "print(\"Hasil Score data test : \", mnb.score(X_test,y_test))"
   ]
  },
  {
   "cell_type": "code",
   "execution_count": 19,
   "id": "965bf09b",
   "metadata": {},
   "outputs": [
    {
     "name": "stdout",
     "output_type": "stream",
     "text": [
      "cross validation score [0.84285714 0.85       0.83571429 0.82857143 0.80714286 0.82857143\n",
      " 0.81428571 0.84285714 0.80714286 0.87142857]\n",
      "Average cross-validation Mean Score : 0.8329\n",
      "Average cross-validation Std Score : 0.0192\n"
     ]
    }
   ],
   "source": [
    "\"\"\"\n",
    "Set validasi adalah subset dari kumpulan data (terpisah dari set pelatihan) yang Anda gunakan untuk menyesuaikan \n",
    "hyperparameter.\n",
    "\n",
    "Proses pelatihan model/Training the model dengan menggunakan nilai validasi sebanyak 10 pembagian data yang bekerja secara acak\n",
    "dengan membagi 10 bagian secara rata dengan jumlah data yang sama. Selanjutnya dilakukan proses silang, dimana data training \n",
    "dijadikan data testing dan sebaliknya, proses ini diulang sebanyak 10 kali pada training set yang berbeda. \n",
    "\n",
    "Rata-rata perkiraan nilai dari 10-fold cross validation digunakan untuk menghasilkan perkiraan keseluruhan. \n",
    "\n",
    "\"\"\"\n",
    "\n",
    "\"\"\"\n",
    "Setelah tahapan melatih model, langkah selanjutnya adalah hasil pelatihan model tersebut di evaluasi untuk melihat seberapa \n",
    "bagus kinerja dari model tersebut dengan memvalidasi terlebih dahulu kemudian dilakukan proses testing menggunakan data testing \n",
    "yang sudah disediakan sebelumnya.\n",
    "\"\"\"\n",
    "#Melakukan validasi sebanyak 10 kali\n",
    "cv = KFold(n_splits=10, shuffle=True, random_state=1)\n",
    "accuracy = cross_val_score(mnb, X_train, y_train, scoring = 'accuracy', cv=cv)\n",
    "print('cross validation score', accuracy)\n",
    "\n",
    "#Menghitung rata-rata nilai validasi silang\n",
    "print('Average cross-validation Mean Score : {:.4f}'.format(accuracy.mean()))\n",
    "\n",
    "#Menghitung rata-rata standar deviasi nilai validasi silang\n",
    "print('Average cross-validation Std Score : {:.4f}'.format(accuracy.std()))"
   ]
  },
  {
   "cell_type": "code",
   "execution_count": 20,
   "id": "bf8263fc",
   "metadata": {},
   "outputs": [
    {
     "data": {
      "image/png": "[encoded data removed]",
      "text/plain": [
       "<Figure size 576x396 with 1 Axes>"
      ]
     },
     "metadata": {},
     "output_type": "display_data"
    },
    {
     "data": {
      "text/plain": [
       "<AxesSubplot:title={'center':'Learning Curve for MultinomialNB'}, xlabel='Training Instances', ylabel='Score'>"
      ]
     },
     "execution_count": 20,
     "metadata": {},
     "output_type": "execute_result"
    }
   ],
   "source": [
    "from yellowbrick.model_selection import LearningCurve\n",
    "\n",
    "#Buat contoh model pengelompokan dan visualizer\n",
    "visualizer = LearningCurve(mnb, scoring=\"accuracy\")\n",
    "\n",
    "visualizer.fit(X_train, y_train) #Masukkan data ke visualisator\n",
    "visualizer.show() #Tampilkan gambar"
   ]
  },
  {
   "cell_type": "code",
   "execution_count": 21,
   "id": "0c801982",
   "metadata": {},
   "outputs": [
    {
     "data": {
      "image/png": "[encoded data removed]",
      "text/plain": [
       "<Figure size 576x396 with 1 Axes>"
      ]
     },
     "metadata": {},
     "output_type": "display_data"
    },
    {
     "data": {
      "text/plain": [
       "<AxesSubplot:title={'center':'Cross Validation Scores for MultinomialNB'}, xlabel='Training Instances', ylabel='Score'>"
      ]
     },
     "execution_count": 21,
     "metadata": {},
     "output_type": "execute_result"
    }
   ],
   "source": [
    "#Visualisasi untuk nilai setiap literasi dalam proses Validasi Silang di algoritma BNB\n",
    "#!pip install yellowbrick\n",
    "from yellowbrick.model_selection import CVScores\n",
    "import warnings\n",
    "\n",
    "warnings.filterwarnings('ignore')\n",
    "\n",
    "cv = KFold(n_splits=10, shuffle=True, random_state=1)\n",
    "visualizer = CVScores(mnb, cv=cv, scoring='accuracy',color=\"#ad5389\")\n",
    "\n",
    "visualizer.fit(X_train,y_train)\n",
    "visualizer.show()"
   ]
  },
  {
   "cell_type": "code",
   "execution_count": 22,
   "id": "0b81cf52",
   "metadata": {},
   "outputs": [
    {
     "name": "stdout",
     "output_type": "stream",
     "text": [
      "test time:  0.000s\n",
      "========================\n",
      "              precision    recall  f1-score   support\n",
      "\n",
      "           0       0.81      0.76      0.79       249\n",
      "           1       0.84      0.87      0.86       351\n",
      "\n",
      "    accuracy                           0.83       600\n",
      "   macro avg       0.83      0.82      0.82       600\n",
      "weighted avg       0.83      0.83      0.83       600\n",
      "\n",
      "Accuracy Score - MultinomialNB: 0.8283333333333334\n"
     ]
    }
   ],
   "source": [
    "\n",
    "\"\"\"\n",
    "Perhitungan nilai evaluasi dihasilkan setelah proses validasi, yang dimana dari proses pelatihan, divalidasi dengan data \n",
    "testing yang sudah disiapkan kemudian menghasilkan nilai evaluasi seperti classification report atau metrik performa akurasi, \n",
    "presisi, recall, f1-score\n",
    "\"\"\"\n",
    "\n",
    "#Waktu komputasi untuk testing data\n",
    "t = time()\n",
    "test_time = time() - t\n",
    "\n",
    "print(\"test time:  %0.3fs\" % test_time)\n",
    "print(\"========================\")\n",
    "\n",
    "#Menentukan hasil prediksi dari X_test\n",
    "#get predictions from model\n",
    "y_pred_mnb = mnb.predict(X_test)\n",
    "\n",
    "\"\"\"\n",
    "Setelah proses klasifikasi selesai, diperlukan adanya evaluasi untuk menentukan kualitas metode yang telah berhasil dibuat pada \n",
    "tahap sebelumnya. Pada tahap evaluasi ini metrik performa accuracy, precision, recall, dan F1-Score akan digunakan untuk menguji \n",
    "kinerja proses klasifikasi yang ditampilkan melalui function classification_report dimana berisi parameter masukan yaitu y_test\n",
    "(kumpulan label dari semua data di X_test;data pengujian) dan y_pred_bnb (proses prediksi kumpulan data pengujian (X_test) yang\n",
    "bersifat variabel independen)\n",
    "\"\"\"\n",
    "# Classify and report the results\n",
    "print(classification_report(y_test, y_pred_mnb))\n",
    "\n",
    "print('Accuracy Score - MultinomialNB:', metrics.accuracy_score(y_test, y_pred_mnb))"
   ]
  },
  {
   "cell_type": "code",
   "execution_count": 23,
   "id": "d2c56a81",
   "metadata": {},
   "outputs": [
    {
     "data": {
      "image/png": "[encoded data removed]",
      "text/plain": [
       "<Figure size 576x396 with 2 Axes>"
      ]
     },
     "metadata": {},
     "output_type": "display_data"
    },
    {
     "data": {
      "text/plain": [
       "<AxesSubplot:title={'center':'MultinomialNB Classification Report'}>"
      ]
     },
     "execution_count": 23,
     "metadata": {},
     "output_type": "execute_result"
    }
   ],
   "source": [
    "#Library untuk menampilkan laporan evaluasi model klasifikasi dalam bentuk visualisasi agar lebih mudah dipahami\n",
    "from yellowbrick.classifier import ClassificationReport\n",
    "\n",
    "#Buat contoh model pengelompokan dan visualizer\n",
    "visualizer = ClassificationReport(mnb,support=True,cmap='RdPu')\n",
    "\n",
    "visualizer.fit(X_train, y_train)  #Sesuaikan visualisator dan modelnya\n",
    "visualizer.score(X_test, y_test)  #Evaluasi model pada data pengujian\n",
    "visualizer.show()\n"
   ]
  },
  {
   "cell_type": "code",
   "execution_count": 24,
   "id": "4f2d9f23",
   "metadata": {},
   "outputs": [
    {
     "data": {
      "text/html": [
       "<div>\n",
       "<style scoped>\n",
       "    .dataframe tbody tr th:only-of-type {\n",
       "        vertical-align: middle;\n",
       "    }\n",
       "\n",
       "    .dataframe tbody tr th {\n",
       "        vertical-align: top;\n",
       "    }\n",
       "\n",
       "    .dataframe thead th {\n",
       "        text-align: right;\n",
       "    }\n",
       "</style>\n",
       "<table border=\"1\" class=\"dataframe\">\n",
       "  <thead>\n",
       "    <tr style=\"text-align: right;\">\n",
       "      <th></th>\n",
       "      <th>negatif</th>\n",
       "      <th>positif</th>\n",
       "      <th>accuracy</th>\n",
       "      <th>macro avg</th>\n",
       "      <th>weighted avg</th>\n",
       "    </tr>\n",
       "  </thead>\n",
       "  <tbody>\n",
       "    <tr>\n",
       "      <th>precision</th>\n",
       "      <td>0.811966</td>\n",
       "      <td>0.838798</td>\n",
       "      <td>0.828333</td>\n",
       "      <td>0.825382</td>\n",
       "      <td>0.827663</td>\n",
       "    </tr>\n",
       "    <tr>\n",
       "      <th>recall</th>\n",
       "      <td>0.763052</td>\n",
       "      <td>0.874644</td>\n",
       "      <td>0.828333</td>\n",
       "      <td>0.818848</td>\n",
       "      <td>0.828333</td>\n",
       "    </tr>\n",
       "    <tr>\n",
       "      <th>f1-score</th>\n",
       "      <td>0.786749</td>\n",
       "      <td>0.856346</td>\n",
       "      <td>0.828333</td>\n",
       "      <td>0.821548</td>\n",
       "      <td>0.827463</td>\n",
       "    </tr>\n",
       "    <tr>\n",
       "      <th>support</th>\n",
       "      <td>249.000000</td>\n",
       "      <td>351.000000</td>\n",
       "      <td>0.828333</td>\n",
       "      <td>600.000000</td>\n",
       "      <td>600.000000</td>\n",
       "    </tr>\n",
       "  </tbody>\n",
       "</table>\n",
       "</div>"
      ],
      "text/plain": [
       "              negatif     positif  accuracy   macro avg  weighted avg\n",
       "precision    0.811966    0.838798  0.828333    0.825382      0.827663\n",
       "recall       0.763052    0.874644  0.828333    0.818848      0.828333\n",
       "f1-score     0.786749    0.856346  0.828333    0.821548      0.827463\n",
       "support    249.000000  351.000000  0.828333  600.000000    600.000000"
      ]
     },
     "metadata": {},
     "output_type": "display_data"
    },
    {
     "data": {
      "image/png": "[encoded data removed]",
      "text/plain": [
       "<Figure size 720x576 with 1 Axes>"
      ]
     },
     "metadata": {},
     "output_type": "display_data"
    }
   ],
   "source": [
    "#Import library untuk visualisasi gambar\n",
    "import matplotlib.pyplot as plt\n",
    "\n",
    "\"\"\"\n",
    "Variabel ini digunakan untuk menampung nama label yang digunakan dalam kolom untuk confusion matrix dan berfungsi sebagai tanda\n",
    "label di bagian visualisasi dari classification report\n",
    "\"\"\"\n",
    "target_labels = ['negatif', 'positif']\n",
    "\n",
    "#store the classification report as a dictionary\n",
    "cr_dict = classification_report(y_test, y_pred_mnb, target_names=target_labels, output_dict=True)\n",
    "\n",
    "#convert the classification report dictionary into a data frame\n",
    "cr_data = pd.DataFrame(cr_dict)\n",
    "display(cr_data)\n",
    "\n",
    "#plot the classification report scores\n",
    "ax=cr_data.iloc[:-1, :2].plot.bar(figsize=(10,8),color=['#800080','#CD853F'])\n",
    "plt.title(\"MNB Classification Report\")\n",
    "plt.xlabel('Metrics', labelpad=20)\n",
    "\n",
    "#fix the x-ticktek mark rotation\n",
    "plt.xticks(rotation=0)\n",
    "\n",
    "#create custom y-tick marks and labels for percentage representation\n",
    "#create an array of even tick marks from 0 to 1\n",
    "percent_ticks = np.linspace(0,1,11, endpoint=True)\n",
    "\n",
    "#create a list of strings representing the percentage at each tick\n",
    "percent_labels = [f'{int(t*100)}%' for t in percent_ticks]\n",
    "plt.yticks(ticks=percent_ticks,labels=percent_labels)\n",
    "plt.ylabel('Percentage (%)')\n",
    "plt.margins(0.2,0.2)\n",
    "\n",
    "for p in ax.patches:\n",
    "    ax.annotate(\n",
    "        \"{}%\".format(str(np.round(p.get_height()*100, 2))),\n",
    "        xy=(p.get_x()*1+p.get_width()/2, p.get_height()*1.02),\n",
    "        ha='center',\n",
    "    )"
   ]
  },
  {
   "cell_type": "code",
   "execution_count": 25,
   "id": "4459004a",
   "metadata": {},
   "outputs": [
    {
     "name": "stdout",
     "output_type": "stream",
     "text": [
      "[[190  59]\n",
      " [ 44 307]]\n"
     ]
    }
   ],
   "source": [
    "from sklearn.metrics import confusion_matrix\n",
    "cm_mnb = confusion_matrix(y_test, y_pred_mnb)\n",
    "print(cm_mnb)"
   ]
  },
  {
   "cell_type": "code",
   "execution_count": 26,
   "id": "b2bfa371",
   "metadata": {},
   "outputs": [],
   "source": [
    "\n",
    "\"\"\"\n",
    "\n",
    "\"\"\"\n",
    "#Fungsi untuk menghitung metrik performa sensitivity dan specificity dalam proses klasifikasi\n",
    "def calculate_sensitivity_specificity(y_test, y_pred_test):\n",
    "    # Note: More parameters are defined than necessary. \n",
    "    # This would allow return of other measures other than sensitivity and specificity\n",
    "    \n",
    "    # Get true/false for whether a breach actually occurred\n",
    "    actual_pos = y_test == 1\n",
    "    actual_neg = y_test == 0\n",
    "    \n",
    "    # Get true and false test (true test match actual, false tests differ from actual)\n",
    "    true_pos = (y_pred_mnb == 1) & (actual_pos)\n",
    "    false_pos = (y_pred_mnb == 1) & (actual_neg)\n",
    "    true_neg = (y_pred_mnb == 0) & (actual_neg)\n",
    "    false_neg = (y_pred_mnb == 0) & (actual_pos)\n",
    "    \n",
    "    # Calculate accuracy\n",
    "    accuracy_mnb = np.mean(y_pred_test == y_test)\n",
    "    \n",
    "    # Calculate sensitivity and specificity\n",
    "    sensitivity_mnb = np.sum(true_pos) / np.sum(actual_pos)\n",
    "    specificity_mnb = np.sum(true_neg) / np.sum(actual_neg)\n",
    "    \n",
    "    return sensitivity_mnb, specificity_mnb, accuracy_mnb"
   ]
  },
  {
   "cell_type": "code",
   "execution_count": 27,
   "id": "ff21b9e2",
   "metadata": {},
   "outputs": [
    {
     "name": "stdout",
     "output_type": "stream",
     "text": [
      "Sensitivity: 0.8746438746438746\n",
      "Specificity: 0.7630522088353414\n",
      "Accuracy: 0.8283333333333334\n"
     ]
    }
   ],
   "source": [
    "#Proses perhitungan dengan memanggil fungsi sebelumnya\n",
    "sensitivity_mnb, specificity_mnb, accuracy_mnb = calculate_sensitivity_specificity(y_test, y_pred_mnb)\n",
    "print ('Sensitivity:', sensitivity_mnb)\n",
    "print ('Specificity:', specificity_mnb)\n",
    "print ('Accuracy:', accuracy_mnb)"
   ]
  },
  {
   "cell_type": "markdown",
   "id": "f1ddcee5",
   "metadata": {},
   "source": [
    "# SVM "
   ]
  },
  {
   "cell_type": "code",
   "execution_count": 28,
   "id": "ac33378d",
   "metadata": {},
   "outputs": [],
   "source": [
    "\"\"\"\n",
    "Tentukan pipeline yang berisi metode mana yang digunakan yang nantinya akan diproses untuk menjadi model terbaik dengan\n",
    "menggabungkan ekstraktor fitur teks dengan pengklasifikasi sederhana.\n",
    "Disini pipeline berisi estimator dari beberapa metode algoritma yang digunakan untuk menampung semua fitur ekstraksi maupun \n",
    "fitur dari metode algoritma yang akan di ujikan satu sama lain pada proses penyetelan dengan pendekatan GridSearchCV.\n",
    "\"\"\"\n",
    "text_clf_svm = Pipeline([('tfidf', TfidfVectorizer()),\n",
    "                     ('clf', SVC())])\n",
    "\n",
    "\"\"\"\n",
    "Proses penyetelan menggunakan hyperparameter utama pada setiap metode algoritma. Banyak parameter yang dicoba akan memberikan\n",
    "daya penjelajahan yang lebih baik tetapi akan meningkatkan waktu pemrosesan dengan cara kombinatorial.\n",
    "\n",
    "Pada metode algoritma Support Vector Machine ini menggunakan pencarian nilai terbaik dari hyperparameter C dan kernel, \n",
    "kemudian untuk ekstraksi fitur kata menggunakan dari TFIDFVectorizer dengan pemilihan nilai hyperparameter ngram_range\n",
    "\"\"\"\n",
    "\n",
    "\"\"\"\n",
    "Pipeline ini dilakukan dengan cara memungkinkan pengaturan parameter dari berbagai langkah menggunakan nama mereka dan nama \n",
    "parameter yang dipisahkan dengan penulisan __ seperti pada contoh di bawah ini. Estimator langkah dapat diganti seluruhnya \n",
    "dengan mengatur parameter dengan namanya ke estimator lain.\n",
    "\"\"\"\n",
    "\n",
    "tuned_parameters_svm = {\n",
    "    'tfidf__ngram_range': [(1, 1), (1, 2), (1, 3)],\n",
    "    'clf__C': [0.5,1.0,1.5,2.0,2.5,3.0],\n",
    "    'clf__kernel' : ['linear','rbf','sigmoid','poly'],\n",
    "    'clf__class_weight' : ['balanced']\n",
    "}"
   ]
  },
  {
   "cell_type": "code",
   "execution_count": 29,
   "id": "392c6480",
   "metadata": {},
   "outputs": [
    {
     "name": "stdout",
     "output_type": "stream",
     "text": [
      "Hasil Score data test :  0.9942857142857143\n",
      "Hasil Score data test :  0.8566666666666667\n",
      "Waktu Komputasi dari proses hyperparameter tuning di dalam Grid: 94.427s\n"
     ]
    }
   ],
   "source": [
    "t = time()\n",
    "\n",
    "\"\"\"\n",
    "Tahapan proses mencari nilai dari hyperparameter setiap algoritma menggunakan GridSearchCV untuk mendapatkan kombinasi parameter\n",
    "terbaik dengan gabungan fitur lainnya selain pengklasifikasian\n",
    "\"\"\"\n",
    "#Melakukan validasi sebanyak 10 kali\n",
    "cv = KFold(n_splits=10, shuffle=True, random_state=1)\n",
    "\n",
    "#Membuat objek clf_svm sebagai fungsi dari proses GridsearchCV\n",
    "clf_svm = GridSearchCV(text_clf_svm, tuned_parameters_svm, scoring = 'accuracy',cv=cv, n_jobs = -1, return_train_score=True)\n",
    "\n",
    "#Sesuaikan dengan model/Masukkan ke model/Fit the model\n",
    "#Fitting model dimana model belajar untuk mencari hubungan antara X_train dan y_train\n",
    "clf_svm.fit(X_train,y_train)\n",
    "\n",
    "print(\"Hasil Score data test : \", clf_svm.score(X_train,y_train))\n",
    "print(\"Hasil Score data test : \", clf_svm.score(X_test,y_test))\n",
    "\n",
    "training_time = time() - t\n",
    "print(\"Waktu Komputasi dari proses hyperparameter tuning di dalam Grid: %0.3fs\" % training_time)"
   ]
  },
  {
   "cell_type": "markdown",
   "id": "44cbb59c",
   "metadata": {},
   "source": [
    "# Proses hasil setiap kombinasi nilai hyperparameter dari proses pengujian sebelumnya"
   ]
  },
  {
   "cell_type": "code",
   "execution_count": 30,
   "id": "bfb7d41c",
   "metadata": {
    "scrolled": false
   },
   "outputs": [
    {
     "name": "stdout",
     "output_type": "stream",
     "text": [
      "Best parameters set found on development set:\n",
      "{'clf__C': 2.0, 'clf__class_weight': 'balanced', 'clf__kernel': 'sigmoid', 'tfidf__ngram_range': (1, 3)}\n",
      "Best Score: 0.8492857142857142\n",
      "\n",
      "\n",
      "Mean: 0.792857 Stdev:(0.035999) with: {'clf__C': 0.5, 'clf__class_weight': 'balanced', 'clf__kernel': 'linear', 'tfidf__ngram_range': (1, 1)}\n",
      "Mean: 0.831429 Stdev:(0.027516) with: {'clf__C': 0.5, 'clf__class_weight': 'balanced', 'clf__kernel': 'linear', 'tfidf__ngram_range': (1, 2)}\n",
      "Mean: 0.833571 Stdev:(0.030979) with: {'clf__C': 0.5, 'clf__class_weight': 'balanced', 'clf__kernel': 'linear', 'tfidf__ngram_range': (1, 3)}\n",
      "Mean: 0.834286 Stdev:(0.032701) with: {'clf__C': 0.5, 'clf__class_weight': 'balanced', 'clf__kernel': 'rbf', 'tfidf__ngram_range': (1, 1)}\n",
      "Mean: 0.838571 Stdev:(0.029485) with: {'clf__C': 0.5, 'clf__class_weight': 'balanced', 'clf__kernel': 'rbf', 'tfidf__ngram_range': (1, 2)}\n",
      "Mean: 0.845000 Stdev:(0.022824) with: {'clf__C': 0.5, 'clf__class_weight': 'balanced', 'clf__kernel': 'rbf', 'tfidf__ngram_range': (1, 3)}\n",
      "Mean: 0.771429 Stdev:(0.040280) with: {'clf__C': 0.5, 'clf__class_weight': 'balanced', 'clf__kernel': 'sigmoid', 'tfidf__ngram_range': (1, 1)}\n",
      "Mean: 0.801429 Stdev:(0.029416) with: {'clf__C': 0.5, 'clf__class_weight': 'balanced', 'clf__kernel': 'sigmoid', 'tfidf__ngram_range': (1, 2)}\n",
      "Mean: 0.813571 Stdev:(0.030548) with: {'clf__C': 0.5, 'clf__class_weight': 'balanced', 'clf__kernel': 'sigmoid', 'tfidf__ngram_range': (1, 3)}\n",
      "Mean: 0.823571 Stdev:(0.021677) with: {'clf__C': 0.5, 'clf__class_weight': 'balanced', 'clf__kernel': 'poly', 'tfidf__ngram_range': (1, 1)}\n",
      "Mean: 0.805000 Stdev:(0.029632) with: {'clf__C': 0.5, 'clf__class_weight': 'balanced', 'clf__kernel': 'poly', 'tfidf__ngram_range': (1, 2)}\n",
      "Mean: 0.800714 Stdev:(0.029181) with: {'clf__C': 0.5, 'clf__class_weight': 'balanced', 'clf__kernel': 'poly', 'tfidf__ngram_range': (1, 3)}\n",
      "Mean: 0.818571 Stdev:(0.033836) with: {'clf__C': 1.0, 'clf__class_weight': 'balanced', 'clf__kernel': 'linear', 'tfidf__ngram_range': (1, 1)}\n",
      "Mean: 0.846429 Stdev:(0.030347) with: {'clf__C': 1.0, 'clf__class_weight': 'balanced', 'clf__kernel': 'linear', 'tfidf__ngram_range': (1, 2)}\n",
      "Mean: 0.847143 Stdev:(0.027701) with: {'clf__C': 1.0, 'clf__class_weight': 'balanced', 'clf__kernel': 'linear', 'tfidf__ngram_range': (1, 3)}\n",
      "Mean: 0.840000 Stdev:(0.029312) with: {'clf__C': 1.0, 'clf__class_weight': 'balanced', 'clf__kernel': 'rbf', 'tfidf__ngram_range': (1, 1)}\n",
      "Mean: 0.846429 Stdev:(0.025803) with: {'clf__C': 1.0, 'clf__class_weight': 'balanced', 'clf__kernel': 'rbf', 'tfidf__ngram_range': (1, 2)}\n",
      "Mean: 0.844286 Stdev:(0.025714) with: {'clf__C': 1.0, 'clf__class_weight': 'balanced', 'clf__kernel': 'rbf', 'tfidf__ngram_range': (1, 3)}\n",
      "Mean: 0.785714 Stdev:(0.040658) with: {'clf__C': 1.0, 'clf__class_weight': 'balanced', 'clf__kernel': 'sigmoid', 'tfidf__ngram_range': (1, 1)}\n",
      "Mean: 0.830714 Stdev:(0.025764) with: {'clf__C': 1.0, 'clf__class_weight': 'balanced', 'clf__kernel': 'sigmoid', 'tfidf__ngram_range': (1, 2)}\n",
      "Mean: 0.838571 Stdev:(0.028607) with: {'clf__C': 1.0, 'clf__class_weight': 'balanced', 'clf__kernel': 'sigmoid', 'tfidf__ngram_range': (1, 3)}\n",
      "Mean: 0.822143 Stdev:(0.024422) with: {'clf__C': 1.0, 'clf__class_weight': 'balanced', 'clf__kernel': 'poly', 'tfidf__ngram_range': (1, 1)}\n",
      "Mean: 0.810714 Stdev:(0.030847) with: {'clf__C': 1.0, 'clf__class_weight': 'balanced', 'clf__kernel': 'poly', 'tfidf__ngram_range': (1, 2)}\n",
      "Mean: 0.805714 Stdev:(0.033166) with: {'clf__C': 1.0, 'clf__class_weight': 'balanced', 'clf__kernel': 'poly', 'tfidf__ngram_range': (1, 3)}\n",
      "Mean: 0.818571 Stdev:(0.037553) with: {'clf__C': 1.5, 'clf__class_weight': 'balanced', 'clf__kernel': 'linear', 'tfidf__ngram_range': (1, 1)}\n",
      "Mean: 0.847857 Stdev:(0.026736) with: {'clf__C': 1.5, 'clf__class_weight': 'balanced', 'clf__kernel': 'linear', 'tfidf__ngram_range': (1, 2)}\n",
      "Mean: 0.845000 Stdev:(0.024959) with: {'clf__C': 1.5, 'clf__class_weight': 'balanced', 'clf__kernel': 'linear', 'tfidf__ngram_range': (1, 3)}\n",
      "Mean: 0.836429 Stdev:(0.027563) with: {'clf__C': 1.5, 'clf__class_weight': 'balanced', 'clf__kernel': 'rbf', 'tfidf__ngram_range': (1, 1)}\n",
      "Mean: 0.838571 Stdev:(0.024159) with: {'clf__C': 1.5, 'clf__class_weight': 'balanced', 'clf__kernel': 'rbf', 'tfidf__ngram_range': (1, 2)}\n",
      "Mean: 0.838571 Stdev:(0.025193) with: {'clf__C': 1.5, 'clf__class_weight': 'balanced', 'clf__kernel': 'rbf', 'tfidf__ngram_range': (1, 3)}\n",
      "Mean: 0.793571 Stdev:(0.037992) with: {'clf__C': 1.5, 'clf__class_weight': 'balanced', 'clf__kernel': 'sigmoid', 'tfidf__ngram_range': (1, 1)}\n",
      "Mean: 0.840000 Stdev:(0.025991) with: {'clf__C': 1.5, 'clf__class_weight': 'balanced', 'clf__kernel': 'sigmoid', 'tfidf__ngram_range': (1, 2)}\n",
      "Mean: 0.846429 Stdev:(0.026000) with: {'clf__C': 1.5, 'clf__class_weight': 'balanced', 'clf__kernel': 'sigmoid', 'tfidf__ngram_range': (1, 3)}\n",
      "Mean: 0.822143 Stdev:(0.025843) with: {'clf__C': 1.5, 'clf__class_weight': 'balanced', 'clf__kernel': 'poly', 'tfidf__ngram_range': (1, 1)}\n",
      "Mean: 0.810000 Stdev:(0.030839) with: {'clf__C': 1.5, 'clf__class_weight': 'balanced', 'clf__kernel': 'poly', 'tfidf__ngram_range': (1, 2)}\n",
      "Mean: 0.805714 Stdev:(0.033166) with: {'clf__C': 1.5, 'clf__class_weight': 'balanced', 'clf__kernel': 'poly', 'tfidf__ngram_range': (1, 3)}\n",
      "Mean: 0.817143 Stdev:(0.033685) with: {'clf__C': 2.0, 'clf__class_weight': 'balanced', 'clf__kernel': 'linear', 'tfidf__ngram_range': (1, 1)}\n",
      "Mean: 0.842857 Stdev:(0.023690) with: {'clf__C': 2.0, 'clf__class_weight': 'balanced', 'clf__kernel': 'linear', 'tfidf__ngram_range': (1, 2)}\n",
      "Mean: 0.843571 Stdev:(0.024000) with: {'clf__C': 2.0, 'clf__class_weight': 'balanced', 'clf__kernel': 'linear', 'tfidf__ngram_range': (1, 3)}\n",
      "Mean: 0.836429 Stdev:(0.023134) with: {'clf__C': 2.0, 'clf__class_weight': 'balanced', 'clf__kernel': 'rbf', 'tfidf__ngram_range': (1, 1)}\n",
      "Mean: 0.837857 Stdev:(0.026736) with: {'clf__C': 2.0, 'clf__class_weight': 'balanced', 'clf__kernel': 'rbf', 'tfidf__ngram_range': (1, 2)}\n",
      "Mean: 0.839286 Stdev:(0.026196) with: {'clf__C': 2.0, 'clf__class_weight': 'balanced', 'clf__kernel': 'rbf', 'tfidf__ngram_range': (1, 3)}\n",
      "Mean: 0.795000 Stdev:(0.036985) with: {'clf__C': 2.0, 'clf__class_weight': 'balanced', 'clf__kernel': 'sigmoid', 'tfidf__ngram_range': (1, 1)}\n",
      "Mean: 0.835000 Stdev:(0.022235) with: {'clf__C': 2.0, 'clf__class_weight': 'balanced', 'clf__kernel': 'sigmoid', 'tfidf__ngram_range': (1, 2)}\n",
      "Mean: 0.849286 Stdev:(0.023354) with: {'clf__C': 2.0, 'clf__class_weight': 'balanced', 'clf__kernel': 'sigmoid', 'tfidf__ngram_range': (1, 3)}\n",
      "Mean: 0.824286 Stdev:(0.026954) with: {'clf__C': 2.0, 'clf__class_weight': 'balanced', 'clf__kernel': 'poly', 'tfidf__ngram_range': (1, 1)}\n",
      "Mean: 0.810000 Stdev:(0.030839) with: {'clf__C': 2.0, 'clf__class_weight': 'balanced', 'clf__kernel': 'poly', 'tfidf__ngram_range': (1, 2)}\n",
      "Mean: 0.805714 Stdev:(0.033166) with: {'clf__C': 2.0, 'clf__class_weight': 'balanced', 'clf__kernel': 'poly', 'tfidf__ngram_range': (1, 3)}\n",
      "Mean: 0.823571 Stdev:(0.033964) with: {'clf__C': 2.5, 'clf__class_weight': 'balanced', 'clf__kernel': 'linear', 'tfidf__ngram_range': (1, 1)}\n",
      "Mean: 0.841429 Stdev:(0.022315) with: {'clf__C': 2.5, 'clf__class_weight': 'balanced', 'clf__kernel': 'linear', 'tfidf__ngram_range': (1, 2)}\n",
      "Mean: 0.846429 Stdev:(0.024170) with: {'clf__C': 2.5, 'clf__class_weight': 'balanced', 'clf__kernel': 'linear', 'tfidf__ngram_range': (1, 3)}\n",
      "Mean: 0.835000 Stdev:(0.024630) with: {'clf__C': 2.5, 'clf__class_weight': 'balanced', 'clf__kernel': 'rbf', 'tfidf__ngram_range': (1, 1)}\n",
      "Mean: 0.837857 Stdev:(0.024754) with: {'clf__C': 2.5, 'clf__class_weight': 'balanced', 'clf__kernel': 'rbf', 'tfidf__ngram_range': (1, 2)}\n",
      "Mean: 0.839286 Stdev:(0.023744) with: {'clf__C': 2.5, 'clf__class_weight': 'balanced', 'clf__kernel': 'rbf', 'tfidf__ngram_range': (1, 3)}\n",
      "Mean: 0.795714 Stdev:(0.038624) with: {'clf__C': 2.5, 'clf__class_weight': 'balanced', 'clf__kernel': 'sigmoid', 'tfidf__ngram_range': (1, 1)}\n",
      "Mean: 0.835000 Stdev:(0.023571) with: {'clf__C': 2.5, 'clf__class_weight': 'balanced', 'clf__kernel': 'sigmoid', 'tfidf__ngram_range': (1, 2)}\n",
      "Mean: 0.845000 Stdev:(0.025961) with: {'clf__C': 2.5, 'clf__class_weight': 'balanced', 'clf__kernel': 'sigmoid', 'tfidf__ngram_range': (1, 3)}\n",
      "Mean: 0.824286 Stdev:(0.027701) with: {'clf__C': 2.5, 'clf__class_weight': 'balanced', 'clf__kernel': 'poly', 'tfidf__ngram_range': (1, 1)}\n",
      "Mean: 0.810000 Stdev:(0.030839) with: {'clf__C': 2.5, 'clf__class_weight': 'balanced', 'clf__kernel': 'poly', 'tfidf__ngram_range': (1, 2)}\n",
      "Mean: 0.805714 Stdev:(0.033166) with: {'clf__C': 2.5, 'clf__class_weight': 'balanced', 'clf__kernel': 'poly', 'tfidf__ngram_range': (1, 3)}\n",
      "Mean: 0.821429 Stdev:(0.031944) with: {'clf__C': 3.0, 'clf__class_weight': 'balanced', 'clf__kernel': 'linear', 'tfidf__ngram_range': (1, 1)}\n",
      "Mean: 0.843571 Stdev:(0.023134) with: {'clf__C': 3.0, 'clf__class_weight': 'balanced', 'clf__kernel': 'linear', 'tfidf__ngram_range': (1, 2)}\n",
      "Mean: 0.846429 Stdev:(0.023310) with: {'clf__C': 3.0, 'clf__class_weight': 'balanced', 'clf__kernel': 'linear', 'tfidf__ngram_range': (1, 3)}\n",
      "Mean: 0.835714 Stdev:(0.028212) with: {'clf__C': 3.0, 'clf__class_weight': 'balanced', 'clf__kernel': 'rbf', 'tfidf__ngram_range': (1, 1)}\n",
      "Mean: 0.837857 Stdev:(0.021440) with: {'clf__C': 3.0, 'clf__class_weight': 'balanced', 'clf__kernel': 'rbf', 'tfidf__ngram_range': (1, 2)}\n",
      "Mean: 0.837857 Stdev:(0.021201) with: {'clf__C': 3.0, 'clf__class_weight': 'balanced', 'clf__kernel': 'rbf', 'tfidf__ngram_range': (1, 3)}\n",
      "Mean: 0.795714 Stdev:(0.040557) with: {'clf__C': 3.0, 'clf__class_weight': 'balanced', 'clf__kernel': 'sigmoid', 'tfidf__ngram_range': (1, 1)}\n",
      "Mean: 0.835714 Stdev:(0.019166) with: {'clf__C': 3.0, 'clf__class_weight': 'balanced', 'clf__kernel': 'sigmoid', 'tfidf__ngram_range': (1, 2)}\n",
      "Mean: 0.842143 Stdev:(0.024000) with: {'clf__C': 3.0, 'clf__class_weight': 'balanced', 'clf__kernel': 'sigmoid', 'tfidf__ngram_range': (1, 3)}\n",
      "Mean: 0.824286 Stdev:(0.029137) with: {'clf__C': 3.0, 'clf__class_weight': 'balanced', 'clf__kernel': 'poly', 'tfidf__ngram_range': (1, 1)}\n",
      "Mean: 0.810000 Stdev:(0.030839) with: {'clf__C': 3.0, 'clf__class_weight': 'balanced', 'clf__kernel': 'poly', 'tfidf__ngram_range': (1, 2)}\n",
      "Mean: 0.805714 Stdev:(0.033166) with: {'clf__C': 3.0, 'clf__class_weight': 'balanced', 'clf__kernel': 'poly', 'tfidf__ngram_range': (1, 3)}\n"
     ]
    }
   ],
   "source": [
    "\"\"\"\n",
    "Proses menampilkan setiap kombinasi nilai hyperparameter dari proses pengujian sebelumnya, hal ini memudahkan untuk melihat \n",
    "setiap alur dari pencocokan berlangsung yang dimana hasil akhir berupa nilai terbaik dari kombinasi antar beberapa estimator\n",
    "(seperti pemilihan fitur) yang diujikan pada 1 set penyetelan dalam sistem pipeline.\n",
    "\"\"\"\n",
    "\n",
    "print(\"Best parameters set found on development set:\")\n",
    "print(clf_svm.best_params_)\n",
    "print(\"Best Score:\", clf_svm.best_score_)\n",
    "print('\\n')\n",
    "\n",
    "means = clf_svm.cv_results_['mean_test_score'] #nilai rata rata akurasi\n",
    "stds = clf_svm.cv_results_['std_test_score'] #nilai standar deviasi\n",
    "params = clf_svm.cv_results_['params'] #nilai-nilai param yang sudah didefinisikan ke opsi pengujian sebelumnya (text_clf_svm,\n",
    "#tuned_parameters_svm yang dimana ditampilkan dalam bentuk berupa pencocokan secara satu-persatu\n",
    "\n",
    "#Proses perulangan untuk menampilkan nilai-nilai tersebut\n",
    "for mean, stdev, param in zip(means,stds,params):\n",
    "    print(\"Mean: %f Stdev:(%f) with: %r\" % (mean,stdev,param))"
   ]
  },
  {
   "cell_type": "code",
   "execution_count": 31,
   "id": "0f8914fa",
   "metadata": {},
   "outputs": [
    {
     "data": {
      "text/html": [
       "<div>\n",
       "<style scoped>\n",
       "    .dataframe tbody tr th:only-of-type {\n",
       "        vertical-align: middle;\n",
       "    }\n",
       "\n",
       "    .dataframe tbody tr th {\n",
       "        vertical-align: top;\n",
       "    }\n",
       "\n",
       "    .dataframe thead th {\n",
       "        text-align: right;\n",
       "    }\n",
       "</style>\n",
       "<table border=\"1\" class=\"dataframe\">\n",
       "  <thead>\n",
       "    <tr style=\"text-align: right;\">\n",
       "      <th></th>\n",
       "      <th>clf__C</th>\n",
       "      <th>clf__class_weight</th>\n",
       "      <th>clf__kernel</th>\n",
       "      <th>tfidf__ngram_range</th>\n",
       "      <th>test_score</th>\n",
       "      <th>train_score</th>\n",
       "    </tr>\n",
       "  </thead>\n",
       "  <tbody>\n",
       "    <tr>\n",
       "      <th>0</th>\n",
       "      <td>0.5</td>\n",
       "      <td>balanced</td>\n",
       "      <td>linear</td>\n",
       "      <td>(1, 1)</td>\n",
       "      <td>0.792857</td>\n",
       "      <td>0.900873</td>\n",
       "    </tr>\n",
       "    <tr>\n",
       "      <th>1</th>\n",
       "      <td>0.5</td>\n",
       "      <td>balanced</td>\n",
       "      <td>linear</td>\n",
       "      <td>(1, 2)</td>\n",
       "      <td>0.831429</td>\n",
       "      <td>0.942222</td>\n",
       "    </tr>\n",
       "    <tr>\n",
       "      <th>2</th>\n",
       "      <td>0.5</td>\n",
       "      <td>balanced</td>\n",
       "      <td>linear</td>\n",
       "      <td>(1, 3)</td>\n",
       "      <td>0.833571</td>\n",
       "      <td>0.959762</td>\n",
       "    </tr>\n",
       "    <tr>\n",
       "      <th>3</th>\n",
       "      <td>0.5</td>\n",
       "      <td>balanced</td>\n",
       "      <td>rbf</td>\n",
       "      <td>(1, 1)</td>\n",
       "      <td>0.834286</td>\n",
       "      <td>0.951984</td>\n",
       "    </tr>\n",
       "    <tr>\n",
       "      <th>4</th>\n",
       "      <td>0.5</td>\n",
       "      <td>balanced</td>\n",
       "      <td>rbf</td>\n",
       "      <td>(1, 2)</td>\n",
       "      <td>0.838571</td>\n",
       "      <td>0.983333</td>\n",
       "    </tr>\n",
       "    <tr>\n",
       "      <th>...</th>\n",
       "      <td>...</td>\n",
       "      <td>...</td>\n",
       "      <td>...</td>\n",
       "      <td>...</td>\n",
       "      <td>...</td>\n",
       "      <td>...</td>\n",
       "    </tr>\n",
       "    <tr>\n",
       "      <th>67</th>\n",
       "      <td>3.0</td>\n",
       "      <td>balanced</td>\n",
       "      <td>sigmoid</td>\n",
       "      <td>(1, 2)</td>\n",
       "      <td>0.835714</td>\n",
       "      <td>0.993254</td>\n",
       "    </tr>\n",
       "    <tr>\n",
       "      <th>68</th>\n",
       "      <td>3.0</td>\n",
       "      <td>balanced</td>\n",
       "      <td>sigmoid</td>\n",
       "      <td>(1, 3)</td>\n",
       "      <td>0.842143</td>\n",
       "      <td>0.995952</td>\n",
       "    </tr>\n",
       "    <tr>\n",
       "      <th>69</th>\n",
       "      <td>3.0</td>\n",
       "      <td>balanced</td>\n",
       "      <td>poly</td>\n",
       "      <td>(1, 1)</td>\n",
       "      <td>0.824286</td>\n",
       "      <td>1.000000</td>\n",
       "    </tr>\n",
       "    <tr>\n",
       "      <th>70</th>\n",
       "      <td>3.0</td>\n",
       "      <td>balanced</td>\n",
       "      <td>poly</td>\n",
       "      <td>(1, 2)</td>\n",
       "      <td>0.810000</td>\n",
       "      <td>1.000000</td>\n",
       "    </tr>\n",
       "    <tr>\n",
       "      <th>71</th>\n",
       "      <td>3.0</td>\n",
       "      <td>balanced</td>\n",
       "      <td>poly</td>\n",
       "      <td>(1, 3)</td>\n",
       "      <td>0.805714</td>\n",
       "      <td>1.000000</td>\n",
       "    </tr>\n",
       "  </tbody>\n",
       "</table>\n",
       "<p>72 rows × 6 columns</p>\n",
       "</div>"
      ],
      "text/plain": [
       "    clf__C clf__class_weight clf__kernel tfidf__ngram_range  test_score  \\\n",
       "0      0.5          balanced      linear             (1, 1)    0.792857   \n",
       "1      0.5          balanced      linear             (1, 2)    0.831429   \n",
       "2      0.5          balanced      linear             (1, 3)    0.833571   \n",
       "3      0.5          balanced         rbf             (1, 1)    0.834286   \n",
       "4      0.5          balanced         rbf             (1, 2)    0.838571   \n",
       "..     ...               ...         ...                ...         ...   \n",
       "67     3.0          balanced     sigmoid             (1, 2)    0.835714   \n",
       "68     3.0          balanced     sigmoid             (1, 3)    0.842143   \n",
       "69     3.0          balanced        poly             (1, 1)    0.824286   \n",
       "70     3.0          balanced        poly             (1, 2)    0.810000   \n",
       "71     3.0          balanced        poly             (1, 3)    0.805714   \n",
       "\n",
       "    train_score  \n",
       "0      0.900873  \n",
       "1      0.942222  \n",
       "2      0.959762  \n",
       "3      0.951984  \n",
       "4      0.983333  \n",
       "..          ...  \n",
       "67     0.993254  \n",
       "68     0.995952  \n",
       "69     1.000000  \n",
       "70     1.000000  \n",
       "71     1.000000  \n",
       "\n",
       "[72 rows x 6 columns]"
      ]
     },
     "execution_count": 31,
     "metadata": {},
     "output_type": "execute_result"
    }
   ],
   "source": [
    "\"\"\"\n",
    "Meringkas hasil dari GrisSearchCV\n",
    "Menampilkan hasil setiap pencocokan parameter dari proses GridSearchCV beserta nilai pelatihan dan pengujian dari setiap \n",
    "kombinasi dalam bentuk DataFrame yang isinya berupa pasangan kombinasi tiap hyperparameter yang diujikan.\n",
    "\"\"\"\n",
    "\n",
    "result_svm = pd.DataFrame(clf_svm.cv_results_['params'])\n",
    "result_svm['test_score'] = clf_svm.cv_results_['mean_test_score']\n",
    "result_svm['train_score'] = clf_svm.cv_results_['mean_train_score']\n",
    "result_svm"
   ]
  },
  {
   "cell_type": "markdown",
   "id": "de3e3ff0",
   "metadata": {},
   "source": [
    "# Proses Pemodelan SVM"
   ]
  },
  {
   "cell_type": "code",
   "execution_count": 32,
   "id": "33f0be83",
   "metadata": {},
   "outputs": [
    {
     "name": "stdout",
     "output_type": "stream",
     "text": [
      "train time: 0.439s\n",
      "================================\n",
      "Hasil Score data train :  0.9971428571428571\n",
      "Hasil Score data test :  0.8583333333333333\n"
     ]
    }
   ],
   "source": [
    "t = time()\n",
    "\n",
    "#Proses melatih model\n",
    "#Mengaktifkan/memanggil/membuat fungsi klasifikasi Support Vector Machine dengan pemilihan fitur yang akan digunakan\n",
    "#Dalam proses ini hasil nilai setiap parameter didapat dari proses sebelumnya setelah melakukan proses pencocokan atau\n",
    "#kombinasi, yaitu proses hyperparameter tuning.\n",
    "#Membuat objek svm sebagai fungsi dari metode Support Vector Machine yang di dalamnya menggunakan parameter yang diperoleh dari hasil grid \n",
    "svm = Pipeline([('tfidf', TfidfVectorizer(ngram_range=(1,3))),\n",
    "                ('clf', SVC(C=1.5, class_weight='balanced', kernel='linear'))\n",
    "               ])\n",
    "\n",
    "\"\"\"\n",
    "Sesuaikan dengan model/Masukkan ke model/Fit the model. Memasukkan data training pada fungsi klasifikasi BNB.\n",
    "Masukan dalam bentuk parameter yang berisi X_train (kumpulan data pelatihan yang bersifat independen), y_train (kumpulan label \n",
    "untuk semua data di X_train yang bersifat dependen yang perlu diprediksi oleh model)\n",
    "\n",
    "Cocokkan semua transformasi satu demi satu dan transformasikan data, kemudian set data yang ditransformasi menggunakan \n",
    "estimator akhir.\n",
    "\"\"\"\n",
    "#Fitting model dimana model belajar untuk mencari hubungan antara X_train dan y_train \n",
    "svm.fit(X_train,y_train)\n",
    "\n",
    "#Untuk set waktu selama proses training sedang berjalan\n",
    "training_time = time() - t\n",
    "\n",
    "print(\"train time: %0.3fs\" % training_time)\n",
    "print(\"================================\")\n",
    "print(\"Hasil Score data train : \", svm.score(X_train,y_train))\n",
    "print(\"Hasil Score data test : \", svm.score(X_test,y_test))"
   ]
  },
  {
   "cell_type": "code",
   "execution_count": 33,
   "id": "c06c7de7",
   "metadata": {},
   "outputs": [
    {
     "name": "stdout",
     "output_type": "stream",
     "text": [
      "cross validation score [0.87857143 0.87142857 0.82857143 0.85       0.80714286 0.85\n",
      " 0.80714286 0.83571429 0.84285714 0.87857143]\n",
      "Average cross-validation Mean Score : 0.8450\n",
      "Average cross-validation Std Score : 0.0250\n"
     ]
    }
   ],
   "source": [
    "\n",
    "\"\"\"\n",
    "Set validasi adalah subset dari kumpulan data (terpisah dari set pelatihan) yang digunakan untuk menyesuaikan hyperparameter.\n",
    "Hal ini digunakan untuk mengetahui seberapa bagus model yang dibangun pada proses sebelumnya dengan menggunakan nilai \n",
    "validasi sebanyak 10 pembagian data yang bekerja secara acak dengan membagi 10 bagian secara rata dengan jumlah data yang sama. \n",
    "Selanjutnya dilakukan proses silang, dimana data training dijadikan data testing dan sebaliknya, proses ini diulang sebanyak 10\n",
    "kali pada training set yang berbeda. \n",
    "\n",
    "Rata-rata perkiraan nilai dari 10-fold cross validation digunakan untuk menghasilkan perkiraan keseluruhan. \n",
    "\n",
    "\"\"\"\n",
    "\n",
    "\"\"\"opsi penjelasan\n",
    "Setelah tahapan melatih model, langkah selanjutnya adalah hasil pelatihan model tersebut di evaluasi untuk melihat seberapa \n",
    "bagus kinerja dari model tersebut dengan memvalidasi terlebih dahulu kemudian dilakukan proses testing menggunakan data testing \n",
    "yang sudah disediakan sebelumnya.\n",
    "\"\"\"\n",
    "#Melakukan validasi sebanyak 10 kali\n",
    "cv = KFold(n_splits=10, shuffle=True, random_state=1)\n",
    "accuracy = cross_val_score(svm, X_train, y_train, scoring = 'accuracy', cv = cv)\n",
    "print('cross validation score', accuracy)\n",
    "\n",
    "#compute average cross-validation score\n",
    "print('Average cross-validation Mean Score : {:.4f}'.format(accuracy.mean()))\n",
    "\n",
    "#compute average cross-validation score\n",
    "print('Average cross-validation Std Score : {:.4f}'.format(accuracy.std()))"
   ]
  },
  {
   "cell_type": "code",
   "execution_count": 34,
   "id": "5056a6f6",
   "metadata": {},
   "outputs": [
    {
     "data": {
      "image/png": "[encoded data removed]",
      "text/plain": [
       "<Figure size 576x396 with 1 Axes>"
      ]
     },
     "metadata": {},
     "output_type": "display_data"
    },
    {
     "data": {
      "text/plain": [
       "<AxesSubplot:title={'center':'Cross Validation Scores for SVC'}, xlabel='Training Instances', ylabel='Score'>"
      ]
     },
     "execution_count": 34,
     "metadata": {},
     "output_type": "execute_result"
    }
   ],
   "source": [
    "#Visualisasi untuk nilai setiap literasi dalam proses Validasi Silang di algoritma SVM\n",
    "#!pip install yellowbrick\n",
    "\n",
    "#Import library untuk visualisasi nilai validasi silang\n",
    "from yellowbrick.model_selection import CVScores\n",
    "\n",
    "\"\"\"\n",
    "Peringatan disediakan untuk memperingatkan pengembang tentang situasi yang belum tentu merupakan pengecualian. Biasanya, \n",
    "peringatan terjadi ketika ada beberapa elemen pemrograman tertentu yang sudah usang, seperti kata kunci, fungsi atau kelas, \n",
    "dll. Peringatan dalam program berbeda dari kesalahan. Program Python segera berakhir jika terjadi kesalahan. Sebaliknya,\n",
    "peringatan tidaklah penting. Ini menunjukkan beberapa pesan, tetapi program berjalan.\n",
    "\"\"\"\n",
    "import warnings \n",
    "#Warning Class: Ini adalah kelas super dari semua kelas kategori peringatan dan subkelas dari kelas Exception.\n",
    "#ImportWarning Class: Kelas dasar untuk peringatan yang disebabkan selama proses impor modul.\n",
    "\n",
    "warnings.filterwarnings('ignore')\n",
    "#\"ignore\" merupakan action yang artinya jangan pernah menampilkan peringatan yang cocok\n",
    "#filterwarnings(action, message=”, category=Warning, module=”, lineno=0, append=False): This function adds an entry into the \n",
    "#specifications of the warnings filter.\n",
    "\n",
    "cv = KFold(n_splits=10, shuffle=True, random_state=1)\n",
    "visualizer = CVScores(svm, cv=cv, scoring='accuracy') #Fungsi ini menambahkan entri ke dalam spesifikasi filter peringatan.\n",
    "visualizer.fit(X_train,y_train)\n",
    "visualizer.show()"
   ]
  },
  {
   "cell_type": "code",
   "execution_count": 35,
   "id": "c54dff65",
   "metadata": {},
   "outputs": [
    {
     "name": "stdout",
     "output_type": "stream",
     "text": [
      "test time:  0.000s\n",
      "========================\n",
      "              precision    recall  f1-score   support\n",
      "\n",
      "           0       0.83      0.83      0.83       249\n",
      "           1       0.88      0.88      0.88       351\n",
      "\n",
      "    accuracy                           0.86       600\n",
      "   macro avg       0.85      0.85      0.85       600\n",
      "weighted avg       0.86      0.86      0.86       600\n",
      "\n",
      "\n",
      "\n",
      "Accuracy Score - SVM: 0.8583333333333333\n"
     ]
    }
   ],
   "source": [
    "\n",
    "\"\"\"\n",
    "Perhitungan nilai evaluasi dihasilkan setelah proses validasi, yang dimana dari proses pelatihan, divalidasi dengan data \n",
    "testing yang sudah disiapkan kemudian menghasilkan nilai evaluasi seperti classification report atau metrik performa akurasi, \n",
    "presisi, recall, f1-score\n",
    "\"\"\"\n",
    "\n",
    "#Waktu komputasi untuk testing data\n",
    "t = time()\n",
    "test_time = time() - t\n",
    "\n",
    "print(\"test time:  %0.3fs\" % test_time)\n",
    "print(\"========================\")\n",
    "\n",
    "#Menentukan hasil prediksi dari X_test\n",
    "#get predictions from model \n",
    "#Selanjutnya melakukan pengujian mengenai keakuratan model SVM terhadap data yang ada, prosesnya dilakukan dengan memprediksi\n",
    "#data setelah proses training yang diprediksi oleh model\n",
    "y_pred_svm = svm.predict(X_test)\n",
    "\n",
    "\"\"\"\n",
    "Setelah proses klasifikasi selesai, diperlukan adanya evaluasi untuk menentukan kualitas metode yang telah berhasil dibuat pada \n",
    "tahap sebelumnya. Pada tahap evaluasi ini metrik performa accuracy, precision, recall, dan F1-Score akan digunakan untuk menguji \n",
    "kinerja proses klasifikasi yang ditampilkan melalui function classification_report dimana berisi parameter masukan yaitu y_test\n",
    "(kumpulan label dari semua data di X_test;data pengujian) dan y_pred_bnb (proses prediksi kumpulan data pengujian (X_test) yang\n",
    "bersifat variabel independen)\n",
    "\"\"\"\n",
    "# Classify and report the results\n",
    "print(classification_report(y_test, y_pred_svm))\n",
    "print('\\n')\n",
    "\n",
    "#print('BEST SVM MODEL')\n",
    "print('Accuracy Score - SVM:', metrics.accuracy_score(y_test, y_pred_svm))"
   ]
  },
  {
   "cell_type": "code",
   "execution_count": 36,
   "id": "625855fb",
   "metadata": {},
   "outputs": [
    {
     "data": {
      "image/png": "[encoded data removed]",
      "text/plain": [
       "<Figure size 576x396 with 2 Axes>"
      ]
     },
     "metadata": {},
     "output_type": "display_data"
    },
    {
     "data": {
      "text/plain": [
       "<AxesSubplot:title={'center':'SVC Classification Report'}>"
      ]
     },
     "execution_count": 36,
     "metadata": {},
     "output_type": "execute_result"
    }
   ],
   "source": [
    "#Library untuk menampilkan laporan evaluasi model klasifikasi dalam bentuk visualisasi agar lebih mudah dipahami\n",
    "#from yellowbrick.classifier import ClassificationReport\n",
    "\n",
    "#Buat contoh model pengelompokan dan visualizer\n",
    "visualizer = ClassificationReport(svm,support=True,cmap='Blues')\n",
    "\n",
    "visualizer.fit(X_train, y_train)  #Sesuaikan visualisator dan modelnya\n",
    "visualizer.score(X_test, y_test)  #Evaluasi model pada data pengujian\n",
    "visualizer.show()"
   ]
  },
  {
   "cell_type": "code",
   "execution_count": 37,
   "id": "ab156bb6",
   "metadata": {},
   "outputs": [
    {
     "data": {
      "text/html": [
       "<div>\n",
       "<style scoped>\n",
       "    .dataframe tbody tr th:only-of-type {\n",
       "        vertical-align: middle;\n",
       "    }\n",
       "\n",
       "    .dataframe tbody tr th {\n",
       "        vertical-align: top;\n",
       "    }\n",
       "\n",
       "    .dataframe thead th {\n",
       "        text-align: right;\n",
       "    }\n",
       "</style>\n",
       "<table border=\"1\" class=\"dataframe\">\n",
       "  <thead>\n",
       "    <tr style=\"text-align: right;\">\n",
       "      <th></th>\n",
       "      <th>negatif</th>\n",
       "      <th>positif</th>\n",
       "      <th>accuracy</th>\n",
       "      <th>macro avg</th>\n",
       "      <th>weighted avg</th>\n",
       "    </tr>\n",
       "  </thead>\n",
       "  <tbody>\n",
       "    <tr>\n",
       "      <th>precision</th>\n",
       "      <td>0.830645</td>\n",
       "      <td>0.877841</td>\n",
       "      <td>0.858333</td>\n",
       "      <td>0.854243</td>\n",
       "      <td>0.858255</td>\n",
       "    </tr>\n",
       "    <tr>\n",
       "      <th>recall</th>\n",
       "      <td>0.827309</td>\n",
       "      <td>0.880342</td>\n",
       "      <td>0.858333</td>\n",
       "      <td>0.853826</td>\n",
       "      <td>0.858333</td>\n",
       "    </tr>\n",
       "    <tr>\n",
       "      <th>f1-score</th>\n",
       "      <td>0.828974</td>\n",
       "      <td>0.879090</td>\n",
       "      <td>0.858333</td>\n",
       "      <td>0.854032</td>\n",
       "      <td>0.858292</td>\n",
       "    </tr>\n",
       "    <tr>\n",
       "      <th>support</th>\n",
       "      <td>249.000000</td>\n",
       "      <td>351.000000</td>\n",
       "      <td>0.858333</td>\n",
       "      <td>600.000000</td>\n",
       "      <td>600.000000</td>\n",
       "    </tr>\n",
       "  </tbody>\n",
       "</table>\n",
       "</div>"
      ],
      "text/plain": [
       "              negatif     positif  accuracy   macro avg  weighted avg\n",
       "precision    0.830645    0.877841  0.858333    0.854243      0.858255\n",
       "recall       0.827309    0.880342  0.858333    0.853826      0.858333\n",
       "f1-score     0.828974    0.879090  0.858333    0.854032      0.858292\n",
       "support    249.000000  351.000000  0.858333  600.000000    600.000000"
      ]
     },
     "metadata": {},
     "output_type": "display_data"
    },
    {
     "data": {
      "image/png": "[encoded data removed]",
      "text/plain": [
       "<Figure size 720x576 with 1 Axes>"
      ]
     },
     "metadata": {},
     "output_type": "display_data"
    }
   ],
   "source": [
    "import matplotlib.pyplot as plt #Import library untuk visualisasi gambar\n",
    "\n",
    "\"\"\"\n",
    "Variabel ini digunakan untuk menampung nama label yang digunakan dalam kolom untuk confusion matrix dan berfungsi sebagai tanda\n",
    "label di bagian visualisasi dari classification report, membuat label yang akan digunakan dan kolom untuk confusion matrix di\n",
    "bagian hilir\n",
    "\"\"\"\n",
    "#create labels to be used and columns for a confusion matrix downstream\n",
    "target_labels = ['negatif', 'positif']\n",
    "\n",
    "#store the classification report as a dictionary\n",
    "cr_dict = classification_report(y_test, y_pred_svm, target_names=target_labels, output_dict=True)\n",
    "\n",
    "#convert the classification report dictionary into a data frame\n",
    "cr_data = pd.DataFrame(cr_dict)\n",
    "display(cr_data)\n",
    "\n",
    "#plot the classification report scores\n",
    "ax = cr_data.iloc[:-1, :2].plot.bar(figsize=(10,8),color=['#d9534f','#5bc0de'])\n",
    "plt.title(\"SVM Classification Report\")\n",
    "plt.xlabel('Metrics', labelpad=20)\n",
    "\n",
    "#fix the x-tick mark rotation\n",
    "plt.xticks(rotation=0)\n",
    "\n",
    "#create custom y-tick marks and labels for percentage representation\n",
    "#create an array of even tick marks from 0 to 1\n",
    "percent_ticks = np.linspace(0,1,11, endpoint=True)\n",
    "\n",
    "#create a list of strings representing the percentage at each tick\n",
    "percent_labels = [f'{int(t*100)}%' for t in percent_ticks]\n",
    "plt.yticks(ticks=percent_ticks,labels=percent_labels)\n",
    "plt.ylabel('Percentage (%)')\n",
    "plt.margins(0.2,0.2)\n",
    "\n",
    "#Perulangan untuk menampilkan nilai dari hasil parameter pengujian di setiap visualisasi yang ditampilkan\n",
    "for p in ax.patches:\n",
    "    ax.annotate(\n",
    "        \"{}%\".format(str(np.round(p.get_height()*100, 2))),\n",
    "        xy=(p.get_x()*1+p.get_width()/2, p.get_height()*1.02),\n",
    "        ha='center',\n",
    "    )"
   ]
  },
  {
   "cell_type": "code",
   "execution_count": 38,
   "id": "a433495e",
   "metadata": {},
   "outputs": [
    {
     "name": "stdout",
     "output_type": "stream",
     "text": [
      "[[206  43]\n",
      " [ 42 309]]\n"
     ]
    }
   ],
   "source": [
    "from sklearn.metrics import confusion_matrix\n",
    "cm_svm = confusion_matrix(y_test, y_pred_svm)\n",
    "print(cm_svm)"
   ]
  },
  {
   "cell_type": "code",
   "execution_count": 39,
   "id": "05960160",
   "metadata": {},
   "outputs": [],
   "source": [
    "\"\"\"\n",
    "Pengukuran Sensitivitas dan Specificity digunakan untuk memplot kurva ROC. Dan, Area under ROC curve (AUC) digunakan untuk \n",
    "menentukan performansi model. Berikut ini adalah kurva ROC yang berbeda dan nilai AOC terkait.\n",
    "\"\"\"\n",
    "#Fungsi untuk menghitung metrik performa sensitivity dan specificity dalam proses klasifikasi\n",
    "def calculate_sensitivity_specificity(y_test, y_pred_test):\n",
    "    # Note: More parameters are defined than necessary. \n",
    "    # This would allow return of other measures other than sensitivity and specificity\n",
    "    \n",
    "    # Get true/false for whether a breach actually occurred\n",
    "    actual_pos = y_test == 1\n",
    "    actual_neg = y_test == 0\n",
    "    \n",
    "    # Get true and false test (true test match actual, false tests differ from actual)\n",
    "    true_pos = (y_pred_svm == 1) & (actual_pos)\n",
    "    false_pos = (y_pred_svm == 1) & (actual_neg)\n",
    "    true_neg = (y_pred_svm == 0) & (actual_neg)\n",
    "    false_neg = (y_pred_svm == 0) & (actual_pos)\n",
    "    \n",
    "    # Calculate accuracy\n",
    "    accuracy_svm = np.mean(y_pred_test == y_test)\n",
    "    \n",
    "    # Calculate average score of sensitivity and specificity\n",
    "    sensitivity_svm = np.sum(true_pos) / np.sum(actual_pos)\n",
    "    specificity_svm = np.sum(true_neg) / np.sum(actual_neg)\n",
    "    \n",
    "    return sensitivity_svm, specificity_svm, accuracy_svm"
   ]
  },
  {
   "cell_type": "code",
   "execution_count": 40,
   "id": "338872c2",
   "metadata": {},
   "outputs": [
    {
     "name": "stdout",
     "output_type": "stream",
     "text": [
      "Sensitivity: 0.8803418803418803\n",
      "Specificity: 0.8273092369477911\n",
      "Accuracy: 0.8583333333333333\n"
     ]
    }
   ],
   "source": [
    "#Proses perhitungan dengan memanggil fungsi sebelumnya\n",
    "sensitivity_svm, specificity_svm, accuracy_svm = calculate_sensitivity_specificity(y_test, y_pred_svm)\n",
    "print ('Sensitivity:', sensitivity_svm)\n",
    "print ('Specificity:', specificity_svm)\n",
    "print ('Accuracy:', accuracy_svm)"
   ]
  },
  {
   "cell_type": "code",
   "execution_count": 41,
   "id": "430f5ab7",
   "metadata": {},
   "outputs": [
    {
     "data": {
      "text/plain": [
       "<AxesSubplot:>"
      ]
     },
     "execution_count": 41,
     "metadata": {},
     "output_type": "execute_result"
    },
    {
     "data": {
      "image/png": "[encoded data removed]",
      "text/plain": [
       "<Figure size 576x396 with 2 Axes>"
      ]
     },
     "metadata": {},
     "output_type": "display_data"
    }
   ],
   "source": [
    "#Visualisasi untuk Confusion Matrix algoritma SVM\n",
    "import seaborn as sns\n",
    "\n",
    "group_names = ['True Neg','False Pos','False Neg','True Pos']\n",
    "group_counts = [\"{0:0.0f}\".format(value) for value in\n",
    "                cm_svm.flatten()]\n",
    "group_percentages = [\"{0:.2%}\".format(value) for value in\n",
    "                     cm_svm.flatten()/np.sum(cm_svm)]\n",
    "labels = [f\"{v1}\\n{v2}\\n{v3}\" for v1, v2, v3 in\n",
    "          zip(group_names,group_counts,group_percentages)]\n",
    "labels = np.asarray(labels).reshape(2,2)\n",
    "sns.heatmap(cm_svm, annot=labels, fmt='', cmap='Blues')"
   ]
  },
  {
   "cell_type": "markdown",
   "id": "bdda4eb5",
   "metadata": {},
   "source": [
    "# KNN"
   ]
  },
  {
   "cell_type": "code",
   "execution_count": 42,
   "id": "d4790685",
   "metadata": {},
   "outputs": [],
   "source": [
    "text_clf_knn = Pipeline([('tfidf', TfidfVectorizer()),\n",
    "                     ('clf', KNeighborsClassifier())])\n",
    "\n",
    "tuned_parameters_knn = {\n",
    "    'tfidf__ngram_range': [(1, 1), (1, 2), (1, 3)],\n",
    "#   'tfidf__use_idf': (True, False),\n",
    "#   'tfidf__norm': ('l1', 'l2'),\n",
    "#   'tfidf__smooth_idf': (True, False),\n",
    "#   'tfidf__sublinear_tf': (True, False),\n",
    "    'clf__n_neighbors' : [3,4,5,7,8,9,10],\n",
    "#     n = 9\n",
    "#   'clf__leaf_size' : np.arange(1,41,8),\n",
    "#     'clf__p' : [2,3,4,6],\n",
    "    'clf__weights' :  ['uniform', 'distance'],\n",
    "    'clf__metric' : ['minkowski', 'chebyshev','euclidean','manhattan'],\n",
    "#     'clf__n_jobs' : [1, -1]\n",
    "}\n"
   ]
  },
  {
   "cell_type": "code",
   "execution_count": 43,
   "id": "7e5cf404",
   "metadata": {},
   "outputs": [
    {
     "name": "stdout",
     "output_type": "stream",
     "text": [
      "train time: 99.579s\n"
     ]
    }
   ],
   "source": [
    "t = time()\n",
    "#Training the model\n",
    "cv = KFold(n_splits=10, shuffle=True, random_state=1)\n",
    "clf_knn = GridSearchCV(text_clf_knn, tuned_parameters_knn, scoring = 'accuracy',cv=cv, n_jobs = -1, return_train_score=True)\n",
    "\n",
    "#Fit the model\n",
    "clf_knn.fit(X_train,y_train)\n",
    "\n",
    "\n",
    "training_time = time() - t\n",
    "\n",
    "print(\"train time: %0.3fs\" % training_time)"
   ]
  },
  {
   "cell_type": "code",
   "execution_count": 44,
   "id": "0a319339",
   "metadata": {
    "scrolled": true
   },
   "outputs": [
    {
     "name": "stdout",
     "output_type": "stream",
     "text": [
      "Best parameters set found on development set:\n",
      "{'clf__metric': 'minkowski', 'clf__n_neighbors': 10, 'clf__weights': 'distance', 'tfidf__ngram_range': (1, 2)}\n",
      "Best Score: 0.8342857142857143\n",
      "\n",
      "\n",
      "Mean: 0.736429 Stdev:(0.047105) with: {'clf__metric': 'minkowski', 'clf__n_neighbors': 3, 'clf__weights': 'uniform', 'tfidf__ngram_range': (1, 1)}\n",
      "Mean: 0.741429 Stdev:(0.039872) with: {'clf__metric': 'minkowski', 'clf__n_neighbors': 3, 'clf__weights': 'uniform', 'tfidf__ngram_range': (1, 2)}\n",
      "Mean: 0.733571 Stdev:(0.037396) with: {'clf__metric': 'minkowski', 'clf__n_neighbors': 3, 'clf__weights': 'uniform', 'tfidf__ngram_range': (1, 3)}\n",
      "Mean: 0.808571 Stdev:(0.040254) with: {'clf__metric': 'minkowski', 'clf__n_neighbors': 3, 'clf__weights': 'distance', 'tfidf__ngram_range': (1, 1)}\n",
      "Mean: 0.813571 Stdev:(0.028112) with: {'clf__metric': 'minkowski', 'clf__n_neighbors': 3, 'clf__weights': 'distance', 'tfidf__ngram_range': (1, 2)}\n",
      "Mean: 0.804286 Stdev:(0.023947) with: {'clf__metric': 'minkowski', 'clf__n_neighbors': 3, 'clf__weights': 'distance', 'tfidf__ngram_range': (1, 3)}\n",
      "Mean: 0.715000 Stdev:(0.039051) with: {'clf__metric': 'minkowski', 'clf__n_neighbors': 4, 'clf__weights': 'uniform', 'tfidf__ngram_range': (1, 1)}\n",
      "Mean: 0.707857 Stdev:(0.042552) with: {'clf__metric': 'minkowski', 'clf__n_neighbors': 4, 'clf__weights': 'uniform', 'tfidf__ngram_range': (1, 2)}\n",
      "Mean: 0.697143 Stdev:(0.040683) with: {'clf__metric': 'minkowski', 'clf__n_neighbors': 4, 'clf__weights': 'uniform', 'tfidf__ngram_range': (1, 3)}\n",
      "Mean: 0.806429 Stdev:(0.035348) with: {'clf__metric': 'minkowski', 'clf__n_neighbors': 4, 'clf__weights': 'distance', 'tfidf__ngram_range': (1, 1)}\n",
      "Mean: 0.819286 Stdev:(0.027115) with: {'clf__metric': 'minkowski', 'clf__n_neighbors': 4, 'clf__weights': 'distance', 'tfidf__ngram_range': (1, 2)}\n",
      "Mean: 0.810000 Stdev:(0.017555) with: {'clf__metric': 'minkowski', 'clf__n_neighbors': 4, 'clf__weights': 'distance', 'tfidf__ngram_range': (1, 3)}\n",
      "Mean: 0.732857 Stdev:(0.050930) with: {'clf__metric': 'minkowski', 'clf__n_neighbors': 5, 'clf__weights': 'uniform', 'tfidf__ngram_range': (1, 1)}\n",
      "Mean: 0.729286 Stdev:(0.039051) with: {'clf__metric': 'minkowski', 'clf__n_neighbors': 5, 'clf__weights': 'uniform', 'tfidf__ngram_range': (1, 2)}\n",
      "Mean: 0.731429 Stdev:(0.042762) with: {'clf__metric': 'minkowski', 'clf__n_neighbors': 5, 'clf__weights': 'uniform', 'tfidf__ngram_range': (1, 3)}\n",
      "Mean: 0.820714 Stdev:(0.041705) with: {'clf__metric': 'minkowski', 'clf__n_neighbors': 5, 'clf__weights': 'distance', 'tfidf__ngram_range': (1, 1)}\n",
      "Mean: 0.823571 Stdev:(0.028758) with: {'clf__metric': 'minkowski', 'clf__n_neighbors': 5, 'clf__weights': 'distance', 'tfidf__ngram_range': (1, 2)}\n",
      "Mean: 0.830000 Stdev:(0.027627) with: {'clf__metric': 'minkowski', 'clf__n_neighbors': 5, 'clf__weights': 'distance', 'tfidf__ngram_range': (1, 3)}\n",
      "Mean: 0.719286 Stdev:(0.052104) with: {'clf__metric': 'minkowski', 'clf__n_neighbors': 7, 'clf__weights': 'uniform', 'tfidf__ngram_range': (1, 1)}\n",
      "Mean: 0.721429 Stdev:(0.041404) with: {'clf__metric': 'minkowski', 'clf__n_neighbors': 7, 'clf__weights': 'uniform', 'tfidf__ngram_range': (1, 2)}\n",
      "Mean: 0.722857 Stdev:(0.044470) with: {'clf__metric': 'minkowski', 'clf__n_neighbors': 7, 'clf__weights': 'uniform', 'tfidf__ngram_range': (1, 3)}\n",
      "Mean: 0.817143 Stdev:(0.037958) with: {'clf__metric': 'minkowski', 'clf__n_neighbors': 7, 'clf__weights': 'distance', 'tfidf__ngram_range': (1, 1)}\n",
      "Mean: 0.825000 Stdev:(0.034144) with: {'clf__metric': 'minkowski', 'clf__n_neighbors': 7, 'clf__weights': 'distance', 'tfidf__ngram_range': (1, 2)}\n",
      "Mean: 0.827857 Stdev:(0.032016) with: {'clf__metric': 'minkowski', 'clf__n_neighbors': 7, 'clf__weights': 'distance', 'tfidf__ngram_range': (1, 3)}\n",
      "Mean: 0.705714 Stdev:(0.055402) with: {'clf__metric': 'minkowski', 'clf__n_neighbors': 8, 'clf__weights': 'uniform', 'tfidf__ngram_range': (1, 1)}\n",
      "Mean: 0.701429 Stdev:(0.043659) with: {'clf__metric': 'minkowski', 'clf__n_neighbors': 8, 'clf__weights': 'uniform', 'tfidf__ngram_range': (1, 2)}\n",
      "Mean: 0.723571 Stdev:(0.040159) with: {'clf__metric': 'minkowski', 'clf__n_neighbors': 8, 'clf__weights': 'uniform', 'tfidf__ngram_range': (1, 3)}\n",
      "Mean: 0.819286 Stdev:(0.037396) with: {'clf__metric': 'minkowski', 'clf__n_neighbors': 8, 'clf__weights': 'distance', 'tfidf__ngram_range': (1, 1)}\n",
      "Mean: 0.828571 Stdev:(0.025355) with: {'clf__metric': 'minkowski', 'clf__n_neighbors': 8, 'clf__weights': 'distance', 'tfidf__ngram_range': (1, 2)}\n",
      "Mean: 0.833571 Stdev:(0.025764) with: {'clf__metric': 'minkowski', 'clf__n_neighbors': 8, 'clf__weights': 'distance', 'tfidf__ngram_range': (1, 3)}\n",
      "Mean: 0.711429 Stdev:(0.045759) with: {'clf__metric': 'minkowski', 'clf__n_neighbors': 9, 'clf__weights': 'uniform', 'tfidf__ngram_range': (1, 1)}\n",
      "Mean: 0.713571 Stdev:(0.042672) with: {'clf__metric': 'minkowski', 'clf__n_neighbors': 9, 'clf__weights': 'uniform', 'tfidf__ngram_range': (1, 2)}\n",
      "Mean: 0.715000 Stdev:(0.032958) with: {'clf__metric': 'minkowski', 'clf__n_neighbors': 9, 'clf__weights': 'uniform', 'tfidf__ngram_range': (1, 3)}\n",
      "Mean: 0.819286 Stdev:(0.034707) with: {'clf__metric': 'minkowski', 'clf__n_neighbors': 9, 'clf__weights': 'distance', 'tfidf__ngram_range': (1, 1)}\n",
      "Mean: 0.825000 Stdev:(0.029838) with: {'clf__metric': 'minkowski', 'clf__n_neighbors': 9, 'clf__weights': 'distance', 'tfidf__ngram_range': (1, 2)}\n",
      "Mean: 0.827143 Stdev:(0.026108) with: {'clf__metric': 'minkowski', 'clf__n_neighbors': 9, 'clf__weights': 'distance', 'tfidf__ngram_range': (1, 3)}\n",
      "Mean: 0.713571 Stdev:(0.045451) with: {'clf__metric': 'minkowski', 'clf__n_neighbors': 10, 'clf__weights': 'uniform', 'tfidf__ngram_range': (1, 1)}\n",
      "Mean: 0.720000 Stdev:(0.037498) with: {'clf__metric': 'minkowski', 'clf__n_neighbors': 10, 'clf__weights': 'uniform', 'tfidf__ngram_range': (1, 2)}\n",
      "Mean: 0.713571 Stdev:(0.039570) with: {'clf__metric': 'minkowski', 'clf__n_neighbors': 10, 'clf__weights': 'uniform', 'tfidf__ngram_range': (1, 3)}\n",
      "Mean: 0.822857 Stdev:(0.029589) with: {'clf__metric': 'minkowski', 'clf__n_neighbors': 10, 'clf__weights': 'distance', 'tfidf__ngram_range': (1, 1)}\n",
      "Mean: 0.834286 Stdev:(0.026303) with: {'clf__metric': 'minkowski', 'clf__n_neighbors': 10, 'clf__weights': 'distance', 'tfidf__ngram_range': (1, 2)}\n",
      "Mean: 0.829286 Stdev:(0.025843) with: {'clf__metric': 'minkowski', 'clf__n_neighbors': 10, 'clf__weights': 'distance', 'tfidf__ngram_range': (1, 3)}\n",
      "Mean: nan Stdev:(nan) with: {'clf__metric': 'chebyshev', 'clf__n_neighbors': 3, 'clf__weights': 'uniform', 'tfidf__ngram_range': (1, 1)}\n",
      "Mean: nan Stdev:(nan) with: {'clf__metric': 'chebyshev', 'clf__n_neighbors': 3, 'clf__weights': 'uniform', 'tfidf__ngram_range': (1, 2)}\n",
      "Mean: nan Stdev:(nan) with: {'clf__metric': 'chebyshev', 'clf__n_neighbors': 3, 'clf__weights': 'uniform', 'tfidf__ngram_range': (1, 3)}\n",
      "Mean: nan Stdev:(nan) with: {'clf__metric': 'chebyshev', 'clf__n_neighbors': 3, 'clf__weights': 'distance', 'tfidf__ngram_range': (1, 1)}\n",
      "Mean: nan Stdev:(nan) with: {'clf__metric': 'chebyshev', 'clf__n_neighbors': 3, 'clf__weights': 'distance', 'tfidf__ngram_range': (1, 2)}\n",
      "Mean: nan Stdev:(nan) with: {'clf__metric': 'chebyshev', 'clf__n_neighbors': 3, 'clf__weights': 'distance', 'tfidf__ngram_range': (1, 3)}\n",
      "Mean: nan Stdev:(nan) with: {'clf__metric': 'chebyshev', 'clf__n_neighbors': 4, 'clf__weights': 'uniform', 'tfidf__ngram_range': (1, 1)}\n",
      "Mean: nan Stdev:(nan) with: {'clf__metric': 'chebyshev', 'clf__n_neighbors': 4, 'clf__weights': 'uniform', 'tfidf__ngram_range': (1, 2)}\n",
      "Mean: nan Stdev:(nan) with: {'clf__metric': 'chebyshev', 'clf__n_neighbors': 4, 'clf__weights': 'uniform', 'tfidf__ngram_range': (1, 3)}\n",
      "Mean: nan Stdev:(nan) with: {'clf__metric': 'chebyshev', 'clf__n_neighbors': 4, 'clf__weights': 'distance', 'tfidf__ngram_range': (1, 1)}\n",
      "Mean: nan Stdev:(nan) with: {'clf__metric': 'chebyshev', 'clf__n_neighbors': 4, 'clf__weights': 'distance', 'tfidf__ngram_range': (1, 2)}\n",
      "Mean: nan Stdev:(nan) with: {'clf__metric': 'chebyshev', 'clf__n_neighbors': 4, 'clf__weights': 'distance', 'tfidf__ngram_range': (1, 3)}\n",
      "Mean: nan Stdev:(nan) with: {'clf__metric': 'chebyshev', 'clf__n_neighbors': 5, 'clf__weights': 'uniform', 'tfidf__ngram_range': (1, 1)}\n",
      "Mean: nan Stdev:(nan) with: {'clf__metric': 'chebyshev', 'clf__n_neighbors': 5, 'clf__weights': 'uniform', 'tfidf__ngram_range': (1, 2)}\n",
      "Mean: nan Stdev:(nan) with: {'clf__metric': 'chebyshev', 'clf__n_neighbors': 5, 'clf__weights': 'uniform', 'tfidf__ngram_range': (1, 3)}\n",
      "Mean: nan Stdev:(nan) with: {'clf__metric': 'chebyshev', 'clf__n_neighbors': 5, 'clf__weights': 'distance', 'tfidf__ngram_range': (1, 1)}\n",
      "Mean: nan Stdev:(nan) with: {'clf__metric': 'chebyshev', 'clf__n_neighbors': 5, 'clf__weights': 'distance', 'tfidf__ngram_range': (1, 2)}\n",
      "Mean: nan Stdev:(nan) with: {'clf__metric': 'chebyshev', 'clf__n_neighbors': 5, 'clf__weights': 'distance', 'tfidf__ngram_range': (1, 3)}\n",
      "Mean: nan Stdev:(nan) with: {'clf__metric': 'chebyshev', 'clf__n_neighbors': 7, 'clf__weights': 'uniform', 'tfidf__ngram_range': (1, 1)}\n",
      "Mean: nan Stdev:(nan) with: {'clf__metric': 'chebyshev', 'clf__n_neighbors': 7, 'clf__weights': 'uniform', 'tfidf__ngram_range': (1, 2)}\n",
      "Mean: nan Stdev:(nan) with: {'clf__metric': 'chebyshev', 'clf__n_neighbors': 7, 'clf__weights': 'uniform', 'tfidf__ngram_range': (1, 3)}\n",
      "Mean: nan Stdev:(nan) with: {'clf__metric': 'chebyshev', 'clf__n_neighbors': 7, 'clf__weights': 'distance', 'tfidf__ngram_range': (1, 1)}\n",
      "Mean: nan Stdev:(nan) with: {'clf__metric': 'chebyshev', 'clf__n_neighbors': 7, 'clf__weights': 'distance', 'tfidf__ngram_range': (1, 2)}\n",
      "Mean: nan Stdev:(nan) with: {'clf__metric': 'chebyshev', 'clf__n_neighbors': 7, 'clf__weights': 'distance', 'tfidf__ngram_range': (1, 3)}\n",
      "Mean: nan Stdev:(nan) with: {'clf__metric': 'chebyshev', 'clf__n_neighbors': 8, 'clf__weights': 'uniform', 'tfidf__ngram_range': (1, 1)}\n",
      "Mean: nan Stdev:(nan) with: {'clf__metric': 'chebyshev', 'clf__n_neighbors': 8, 'clf__weights': 'uniform', 'tfidf__ngram_range': (1, 2)}\n",
      "Mean: nan Stdev:(nan) with: {'clf__metric': 'chebyshev', 'clf__n_neighbors': 8, 'clf__weights': 'uniform', 'tfidf__ngram_range': (1, 3)}\n",
      "Mean: nan Stdev:(nan) with: {'clf__metric': 'chebyshev', 'clf__n_neighbors': 8, 'clf__weights': 'distance', 'tfidf__ngram_range': (1, 1)}\n",
      "Mean: nan Stdev:(nan) with: {'clf__metric': 'chebyshev', 'clf__n_neighbors': 8, 'clf__weights': 'distance', 'tfidf__ngram_range': (1, 2)}\n",
      "Mean: nan Stdev:(nan) with: {'clf__metric': 'chebyshev', 'clf__n_neighbors': 8, 'clf__weights': 'distance', 'tfidf__ngram_range': (1, 3)}\n",
      "Mean: nan Stdev:(nan) with: {'clf__metric': 'chebyshev', 'clf__n_neighbors': 9, 'clf__weights': 'uniform', 'tfidf__ngram_range': (1, 1)}\n",
      "Mean: nan Stdev:(nan) with: {'clf__metric': 'chebyshev', 'clf__n_neighbors': 9, 'clf__weights': 'uniform', 'tfidf__ngram_range': (1, 2)}\n",
      "Mean: nan Stdev:(nan) with: {'clf__metric': 'chebyshev', 'clf__n_neighbors': 9, 'clf__weights': 'uniform', 'tfidf__ngram_range': (1, 3)}\n",
      "Mean: nan Stdev:(nan) with: {'clf__metric': 'chebyshev', 'clf__n_neighbors': 9, 'clf__weights': 'distance', 'tfidf__ngram_range': (1, 1)}\n",
      "Mean: nan Stdev:(nan) with: {'clf__metric': 'chebyshev', 'clf__n_neighbors': 9, 'clf__weights': 'distance', 'tfidf__ngram_range': (1, 2)}\n",
      "Mean: nan Stdev:(nan) with: {'clf__metric': 'chebyshev', 'clf__n_neighbors': 9, 'clf__weights': 'distance', 'tfidf__ngram_range': (1, 3)}\n",
      "Mean: nan Stdev:(nan) with: {'clf__metric': 'chebyshev', 'clf__n_neighbors': 10, 'clf__weights': 'uniform', 'tfidf__ngram_range': (1, 1)}\n",
      "Mean: nan Stdev:(nan) with: {'clf__metric': 'chebyshev', 'clf__n_neighbors': 10, 'clf__weights': 'uniform', 'tfidf__ngram_range': (1, 2)}\n",
      "Mean: nan Stdev:(nan) with: {'clf__metric': 'chebyshev', 'clf__n_neighbors': 10, 'clf__weights': 'uniform', 'tfidf__ngram_range': (1, 3)}\n",
      "Mean: nan Stdev:(nan) with: {'clf__metric': 'chebyshev', 'clf__n_neighbors': 10, 'clf__weights': 'distance', 'tfidf__ngram_range': (1, 1)}\n",
      "Mean: nan Stdev:(nan) with: {'clf__metric': 'chebyshev', 'clf__n_neighbors': 10, 'clf__weights': 'distance', 'tfidf__ngram_range': (1, 2)}\n",
      "Mean: nan Stdev:(nan) with: {'clf__metric': 'chebyshev', 'clf__n_neighbors': 10, 'clf__weights': 'distance', 'tfidf__ngram_range': (1, 3)}\n",
      "Mean: 0.736429 Stdev:(0.047105) with: {'clf__metric': 'euclidean', 'clf__n_neighbors': 3, 'clf__weights': 'uniform', 'tfidf__ngram_range': (1, 1)}\n",
      "Mean: 0.741429 Stdev:(0.039872) with: {'clf__metric': 'euclidean', 'clf__n_neighbors': 3, 'clf__weights': 'uniform', 'tfidf__ngram_range': (1, 2)}\n",
      "Mean: 0.733571 Stdev:(0.037396) with: {'clf__metric': 'euclidean', 'clf__n_neighbors': 3, 'clf__weights': 'uniform', 'tfidf__ngram_range': (1, 3)}\n",
      "Mean: 0.808571 Stdev:(0.040254) with: {'clf__metric': 'euclidean', 'clf__n_neighbors': 3, 'clf__weights': 'distance', 'tfidf__ngram_range': (1, 1)}\n",
      "Mean: 0.813571 Stdev:(0.028112) with: {'clf__metric': 'euclidean', 'clf__n_neighbors': 3, 'clf__weights': 'distance', 'tfidf__ngram_range': (1, 2)}\n",
      "Mean: 0.804286 Stdev:(0.023947) with: {'clf__metric': 'euclidean', 'clf__n_neighbors': 3, 'clf__weights': 'distance', 'tfidf__ngram_range': (1, 3)}\n",
      "Mean: 0.715000 Stdev:(0.039051) with: {'clf__metric': 'euclidean', 'clf__n_neighbors': 4, 'clf__weights': 'uniform', 'tfidf__ngram_range': (1, 1)}\n",
      "Mean: 0.707857 Stdev:(0.042552) with: {'clf__metric': 'euclidean', 'clf__n_neighbors': 4, 'clf__weights': 'uniform', 'tfidf__ngram_range': (1, 2)}\n",
      "Mean: 0.697143 Stdev:(0.040683) with: {'clf__metric': 'euclidean', 'clf__n_neighbors': 4, 'clf__weights': 'uniform', 'tfidf__ngram_range': (1, 3)}\n",
      "Mean: 0.806429 Stdev:(0.035348) with: {'clf__metric': 'euclidean', 'clf__n_neighbors': 4, 'clf__weights': 'distance', 'tfidf__ngram_range': (1, 1)}\n",
      "Mean: 0.819286 Stdev:(0.027115) with: {'clf__metric': 'euclidean', 'clf__n_neighbors': 4, 'clf__weights': 'distance', 'tfidf__ngram_range': (1, 2)}\n",
      "Mean: 0.810000 Stdev:(0.017555) with: {'clf__metric': 'euclidean', 'clf__n_neighbors': 4, 'clf__weights': 'distance', 'tfidf__ngram_range': (1, 3)}\n",
      "Mean: 0.732857 Stdev:(0.050930) with: {'clf__metric': 'euclidean', 'clf__n_neighbors': 5, 'clf__weights': 'uniform', 'tfidf__ngram_range': (1, 1)}\n",
      "Mean: 0.729286 Stdev:(0.039051) with: {'clf__metric': 'euclidean', 'clf__n_neighbors': 5, 'clf__weights': 'uniform', 'tfidf__ngram_range': (1, 2)}\n",
      "Mean: 0.731429 Stdev:(0.042762) with: {'clf__metric': 'euclidean', 'clf__n_neighbors': 5, 'clf__weights': 'uniform', 'tfidf__ngram_range': (1, 3)}\n",
      "Mean: 0.820714 Stdev:(0.041705) with: {'clf__metric': 'euclidean', 'clf__n_neighbors': 5, 'clf__weights': 'distance', 'tfidf__ngram_range': (1, 1)}\n",
      "Mean: 0.823571 Stdev:(0.028758) with: {'clf__metric': 'euclidean', 'clf__n_neighbors': 5, 'clf__weights': 'distance', 'tfidf__ngram_range': (1, 2)}\n",
      "Mean: 0.830000 Stdev:(0.027627) with: {'clf__metric': 'euclidean', 'clf__n_neighbors': 5, 'clf__weights': 'distance', 'tfidf__ngram_range': (1, 3)}\n",
      "Mean: 0.719286 Stdev:(0.052104) with: {'clf__metric': 'euclidean', 'clf__n_neighbors': 7, 'clf__weights': 'uniform', 'tfidf__ngram_range': (1, 1)}\n",
      "Mean: 0.721429 Stdev:(0.041404) with: {'clf__metric': 'euclidean', 'clf__n_neighbors': 7, 'clf__weights': 'uniform', 'tfidf__ngram_range': (1, 2)}\n",
      "Mean: 0.722857 Stdev:(0.044470) with: {'clf__metric': 'euclidean', 'clf__n_neighbors': 7, 'clf__weights': 'uniform', 'tfidf__ngram_range': (1, 3)}\n",
      "Mean: 0.817143 Stdev:(0.037958) with: {'clf__metric': 'euclidean', 'clf__n_neighbors': 7, 'clf__weights': 'distance', 'tfidf__ngram_range': (1, 1)}\n",
      "Mean: 0.825000 Stdev:(0.034144) with: {'clf__metric': 'euclidean', 'clf__n_neighbors': 7, 'clf__weights': 'distance', 'tfidf__ngram_range': (1, 2)}\n",
      "Mean: 0.827857 Stdev:(0.032016) with: {'clf__metric': 'euclidean', 'clf__n_neighbors': 7, 'clf__weights': 'distance', 'tfidf__ngram_range': (1, 3)}\n",
      "Mean: 0.705714 Stdev:(0.055402) with: {'clf__metric': 'euclidean', 'clf__n_neighbors': 8, 'clf__weights': 'uniform', 'tfidf__ngram_range': (1, 1)}\n",
      "Mean: 0.701429 Stdev:(0.043659) with: {'clf__metric': 'euclidean', 'clf__n_neighbors': 8, 'clf__weights': 'uniform', 'tfidf__ngram_range': (1, 2)}\n",
      "Mean: 0.723571 Stdev:(0.040159) with: {'clf__metric': 'euclidean', 'clf__n_neighbors': 8, 'clf__weights': 'uniform', 'tfidf__ngram_range': (1, 3)}\n",
      "Mean: 0.819286 Stdev:(0.037396) with: {'clf__metric': 'euclidean', 'clf__n_neighbors': 8, 'clf__weights': 'distance', 'tfidf__ngram_range': (1, 1)}\n",
      "Mean: 0.828571 Stdev:(0.025355) with: {'clf__metric': 'euclidean', 'clf__n_neighbors': 8, 'clf__weights': 'distance', 'tfidf__ngram_range': (1, 2)}\n",
      "Mean: 0.833571 Stdev:(0.025764) with: {'clf__metric': 'euclidean', 'clf__n_neighbors': 8, 'clf__weights': 'distance', 'tfidf__ngram_range': (1, 3)}\n",
      "Mean: 0.711429 Stdev:(0.045759) with: {'clf__metric': 'euclidean', 'clf__n_neighbors': 9, 'clf__weights': 'uniform', 'tfidf__ngram_range': (1, 1)}\n",
      "Mean: 0.713571 Stdev:(0.042672) with: {'clf__metric': 'euclidean', 'clf__n_neighbors': 9, 'clf__weights': 'uniform', 'tfidf__ngram_range': (1, 2)}\n",
      "Mean: 0.715000 Stdev:(0.032958) with: {'clf__metric': 'euclidean', 'clf__n_neighbors': 9, 'clf__weights': 'uniform', 'tfidf__ngram_range': (1, 3)}\n",
      "Mean: 0.819286 Stdev:(0.034707) with: {'clf__metric': 'euclidean', 'clf__n_neighbors': 9, 'clf__weights': 'distance', 'tfidf__ngram_range': (1, 1)}\n",
      "Mean: 0.825000 Stdev:(0.029838) with: {'clf__metric': 'euclidean', 'clf__n_neighbors': 9, 'clf__weights': 'distance', 'tfidf__ngram_range': (1, 2)}\n",
      "Mean: 0.827143 Stdev:(0.026108) with: {'clf__metric': 'euclidean', 'clf__n_neighbors': 9, 'clf__weights': 'distance', 'tfidf__ngram_range': (1, 3)}\n",
      "Mean: 0.713571 Stdev:(0.045451) with: {'clf__metric': 'euclidean', 'clf__n_neighbors': 10, 'clf__weights': 'uniform', 'tfidf__ngram_range': (1, 1)}\n",
      "Mean: 0.720000 Stdev:(0.037498) with: {'clf__metric': 'euclidean', 'clf__n_neighbors': 10, 'clf__weights': 'uniform', 'tfidf__ngram_range': (1, 2)}\n",
      "Mean: 0.713571 Stdev:(0.039570) with: {'clf__metric': 'euclidean', 'clf__n_neighbors': 10, 'clf__weights': 'uniform', 'tfidf__ngram_range': (1, 3)}\n",
      "Mean: 0.822857 Stdev:(0.029589) with: {'clf__metric': 'euclidean', 'clf__n_neighbors': 10, 'clf__weights': 'distance', 'tfidf__ngram_range': (1, 1)}\n",
      "Mean: 0.834286 Stdev:(0.026303) with: {'clf__metric': 'euclidean', 'clf__n_neighbors': 10, 'clf__weights': 'distance', 'tfidf__ngram_range': (1, 2)}\n",
      "Mean: 0.829286 Stdev:(0.025843) with: {'clf__metric': 'euclidean', 'clf__n_neighbors': 10, 'clf__weights': 'distance', 'tfidf__ngram_range': (1, 3)}\n",
      "Mean: 0.703571 Stdev:(0.036874) with: {'clf__metric': 'manhattan', 'clf__n_neighbors': 3, 'clf__weights': 'uniform', 'tfidf__ngram_range': (1, 1)}\n",
      "Mean: 0.699286 Stdev:(0.032647) with: {'clf__metric': 'manhattan', 'clf__n_neighbors': 3, 'clf__weights': 'uniform', 'tfidf__ngram_range': (1, 2)}\n",
      "Mean: 0.680714 Stdev:(0.039130) with: {'clf__metric': 'manhattan', 'clf__n_neighbors': 3, 'clf__weights': 'uniform', 'tfidf__ngram_range': (1, 3)}\n",
      "Mean: 0.774286 Stdev:(0.036589) with: {'clf__metric': 'manhattan', 'clf__n_neighbors': 3, 'clf__weights': 'distance', 'tfidf__ngram_range': (1, 1)}\n",
      "Mean: 0.757857 Stdev:(0.045787) with: {'clf__metric': 'manhattan', 'clf__n_neighbors': 3, 'clf__weights': 'distance', 'tfidf__ngram_range': (1, 2)}\n",
      "Mean: 0.775714 Stdev:(0.034434) with: {'clf__metric': 'manhattan', 'clf__n_neighbors': 3, 'clf__weights': 'distance', 'tfidf__ngram_range': (1, 3)}\n",
      "Mean: 0.635714 Stdev:(0.037253) with: {'clf__metric': 'manhattan', 'clf__n_neighbors': 4, 'clf__weights': 'uniform', 'tfidf__ngram_range': (1, 1)}\n",
      "Mean: 0.599286 Stdev:(0.066582) with: {'clf__metric': 'manhattan', 'clf__n_neighbors': 4, 'clf__weights': 'uniform', 'tfidf__ngram_range': (1, 2)}\n",
      "Mean: 0.659286 Stdev:(0.056699) with: {'clf__metric': 'manhattan', 'clf__n_neighbors': 4, 'clf__weights': 'uniform', 'tfidf__ngram_range': (1, 3)}\n",
      "Mean: 0.775000 Stdev:(0.031176) with: {'clf__metric': 'manhattan', 'clf__n_neighbors': 4, 'clf__weights': 'distance', 'tfidf__ngram_range': (1, 1)}\n",
      "Mean: 0.767143 Stdev:(0.034729) with: {'clf__metric': 'manhattan', 'clf__n_neighbors': 4, 'clf__weights': 'distance', 'tfidf__ngram_range': (1, 2)}\n",
      "Mean: 0.777857 Stdev:(0.034174) with: {'clf__metric': 'manhattan', 'clf__n_neighbors': 4, 'clf__weights': 'distance', 'tfidf__ngram_range': (1, 3)}\n",
      "Mean: 0.684286 Stdev:(0.040000) with: {'clf__metric': 'manhattan', 'clf__n_neighbors': 5, 'clf__weights': 'uniform', 'tfidf__ngram_range': (1, 1)}\n",
      "Mean: 0.689286 Stdev:(0.033693) with: {'clf__metric': 'manhattan', 'clf__n_neighbors': 5, 'clf__weights': 'uniform', 'tfidf__ngram_range': (1, 2)}\n",
      "Mean: 0.678571 Stdev:(0.040658) with: {'clf__metric': 'manhattan', 'clf__n_neighbors': 5, 'clf__weights': 'uniform', 'tfidf__ngram_range': (1, 3)}\n",
      "Mean: 0.780000 Stdev:(0.044926) with: {'clf__metric': 'manhattan', 'clf__n_neighbors': 5, 'clf__weights': 'distance', 'tfidf__ngram_range': (1, 1)}\n",
      "Mean: 0.770714 Stdev:(0.024836) with: {'clf__metric': 'manhattan', 'clf__n_neighbors': 5, 'clf__weights': 'distance', 'tfidf__ngram_range': (1, 2)}\n",
      "Mean: 0.767857 Stdev:(0.034442) with: {'clf__metric': 'manhattan', 'clf__n_neighbors': 5, 'clf__weights': 'distance', 'tfidf__ngram_range': (1, 3)}\n",
      "Mean: 0.665714 Stdev:(0.044699) with: {'clf__metric': 'manhattan', 'clf__n_neighbors': 7, 'clf__weights': 'uniform', 'tfidf__ngram_range': (1, 1)}\n",
      "Mean: 0.650714 Stdev:(0.039699) with: {'clf__metric': 'manhattan', 'clf__n_neighbors': 7, 'clf__weights': 'uniform', 'tfidf__ngram_range': (1, 2)}\n",
      "Mean: 0.666429 Stdev:(0.040032) with: {'clf__metric': 'manhattan', 'clf__n_neighbors': 7, 'clf__weights': 'uniform', 'tfidf__ngram_range': (1, 3)}\n",
      "Mean: 0.785000 Stdev:(0.040083) with: {'clf__metric': 'manhattan', 'clf__n_neighbors': 7, 'clf__weights': 'distance', 'tfidf__ngram_range': (1, 1)}\n",
      "Mean: 0.755714 Stdev:(0.035828) with: {'clf__metric': 'manhattan', 'clf__n_neighbors': 7, 'clf__weights': 'distance', 'tfidf__ngram_range': (1, 2)}\n",
      "Mean: 0.752143 Stdev:(0.037396) with: {'clf__metric': 'manhattan', 'clf__n_neighbors': 7, 'clf__weights': 'distance', 'tfidf__ngram_range': (1, 3)}\n",
      "Mean: 0.664286 Stdev:(0.044378) with: {'clf__metric': 'manhattan', 'clf__n_neighbors': 8, 'clf__weights': 'uniform', 'tfidf__ngram_range': (1, 1)}\n",
      "Mean: 0.591429 Stdev:(0.062581) with: {'clf__metric': 'manhattan', 'clf__n_neighbors': 8, 'clf__weights': 'uniform', 'tfidf__ngram_range': (1, 2)}\n",
      "Mean: 0.624286 Stdev:(0.056532) with: {'clf__metric': 'manhattan', 'clf__n_neighbors': 8, 'clf__weights': 'uniform', 'tfidf__ngram_range': (1, 3)}\n",
      "Mean: 0.787857 Stdev:(0.038868) with: {'clf__metric': 'manhattan', 'clf__n_neighbors': 8, 'clf__weights': 'distance', 'tfidf__ngram_range': (1, 1)}\n",
      "Mean: 0.761429 Stdev:(0.042881) with: {'clf__metric': 'manhattan', 'clf__n_neighbors': 8, 'clf__weights': 'distance', 'tfidf__ngram_range': (1, 2)}\n",
      "Mean: 0.757143 Stdev:(0.042258) with: {'clf__metric': 'manhattan', 'clf__n_neighbors': 8, 'clf__weights': 'distance', 'tfidf__ngram_range': (1, 3)}\n",
      "Mean: 0.677143 Stdev:(0.039486) with: {'clf__metric': 'manhattan', 'clf__n_neighbors': 9, 'clf__weights': 'uniform', 'tfidf__ngram_range': (1, 1)}\n",
      "Mean: 0.643571 Stdev:(0.066659) with: {'clf__metric': 'manhattan', 'clf__n_neighbors': 9, 'clf__weights': 'uniform', 'tfidf__ngram_range': (1, 2)}\n",
      "Mean: 0.628571 Stdev:(0.061859) with: {'clf__metric': 'manhattan', 'clf__n_neighbors': 9, 'clf__weights': 'uniform', 'tfidf__ngram_range': (1, 3)}\n",
      "Mean: 0.795714 Stdev:(0.037143) with: {'clf__metric': 'manhattan', 'clf__n_neighbors': 9, 'clf__weights': 'distance', 'tfidf__ngram_range': (1, 1)}\n",
      "Mean: 0.754286 Stdev:(0.059264) with: {'clf__metric': 'manhattan', 'clf__n_neighbors': 9, 'clf__weights': 'distance', 'tfidf__ngram_range': (1, 2)}\n",
      "Mean: 0.718571 Stdev:(0.040051) with: {'clf__metric': 'manhattan', 'clf__n_neighbors': 9, 'clf__weights': 'distance', 'tfidf__ngram_range': (1, 3)}\n",
      "Mean: 0.672857 Stdev:(0.031266) with: {'clf__metric': 'manhattan', 'clf__n_neighbors': 10, 'clf__weights': 'uniform', 'tfidf__ngram_range': (1, 1)}\n",
      "Mean: 0.602143 Stdev:(0.084095) with: {'clf__metric': 'manhattan', 'clf__n_neighbors': 10, 'clf__weights': 'uniform', 'tfidf__ngram_range': (1, 2)}\n",
      "Mean: 0.537143 Stdev:(0.050890) with: {'clf__metric': 'manhattan', 'clf__n_neighbors': 10, 'clf__weights': 'uniform', 'tfidf__ngram_range': (1, 3)}\n",
      "Mean: 0.792143 Stdev:(0.036204) with: {'clf__metric': 'manhattan', 'clf__n_neighbors': 10, 'clf__weights': 'distance', 'tfidf__ngram_range': (1, 1)}\n",
      "Mean: 0.770000 Stdev:(0.041132) with: {'clf__metric': 'manhattan', 'clf__n_neighbors': 10, 'clf__weights': 'distance', 'tfidf__ngram_range': (1, 2)}\n",
      "Mean: 0.720714 Stdev:(0.047213) with: {'clf__metric': 'manhattan', 'clf__n_neighbors': 10, 'clf__weights': 'distance', 'tfidf__ngram_range': (1, 3)}\n"
     ]
    }
   ],
   "source": [
    "print(\"Best parameters set found on development set:\")\n",
    "print(clf_knn.best_params_)\n",
    "print(\"Best Score:\", clf_knn.best_score_)\n",
    "print('\\n')\n",
    "\n",
    "means = clf_knn.cv_results_['mean_test_score']\n",
    "stds = clf_knn.cv_results_['std_test_score']\n",
    "params = clf_knn.cv_results_['params']\n",
    "for mean, stdev, param in zip(means,stds,params):\n",
    "    print(\"Mean: %f Stdev:(%f) with: %r\" % (mean,stdev,param))"
   ]
  },
  {
   "cell_type": "code",
   "execution_count": 45,
   "id": "b2257994",
   "metadata": {},
   "outputs": [
    {
     "data": {
      "text/html": [
       "<div>\n",
       "<style scoped>\n",
       "    .dataframe tbody tr th:only-of-type {\n",
       "        vertical-align: middle;\n",
       "    }\n",
       "\n",
       "    .dataframe tbody tr th {\n",
       "        vertical-align: top;\n",
       "    }\n",
       "\n",
       "    .dataframe thead th {\n",
       "        text-align: right;\n",
       "    }\n",
       "</style>\n",
       "<table border=\"1\" class=\"dataframe\">\n",
       "  <thead>\n",
       "    <tr style=\"text-align: right;\">\n",
       "      <th></th>\n",
       "      <th>clf__metric</th>\n",
       "      <th>clf__n_neighbors</th>\n",
       "      <th>clf__weights</th>\n",
       "      <th>tfidf__ngram_range</th>\n",
       "      <th>test_score</th>\n",
       "      <th>train_score</th>\n",
       "    </tr>\n",
       "  </thead>\n",
       "  <tbody>\n",
       "    <tr>\n",
       "      <th>0</th>\n",
       "      <td>minkowski</td>\n",
       "      <td>3</td>\n",
       "      <td>uniform</td>\n",
       "      <td>(1, 1)</td>\n",
       "      <td>0.736429</td>\n",
       "      <td>0.886667</td>\n",
       "    </tr>\n",
       "    <tr>\n",
       "      <th>1</th>\n",
       "      <td>minkowski</td>\n",
       "      <td>3</td>\n",
       "      <td>uniform</td>\n",
       "      <td>(1, 2)</td>\n",
       "      <td>0.741429</td>\n",
       "      <td>0.889524</td>\n",
       "    </tr>\n",
       "    <tr>\n",
       "      <th>2</th>\n",
       "      <td>minkowski</td>\n",
       "      <td>3</td>\n",
       "      <td>uniform</td>\n",
       "      <td>(1, 3)</td>\n",
       "      <td>0.733571</td>\n",
       "      <td>0.886270</td>\n",
       "    </tr>\n",
       "    <tr>\n",
       "      <th>3</th>\n",
       "      <td>minkowski</td>\n",
       "      <td>3</td>\n",
       "      <td>distance</td>\n",
       "      <td>(1, 1)</td>\n",
       "      <td>0.808571</td>\n",
       "      <td>1.000000</td>\n",
       "    </tr>\n",
       "    <tr>\n",
       "      <th>4</th>\n",
       "      <td>minkowski</td>\n",
       "      <td>3</td>\n",
       "      <td>distance</td>\n",
       "      <td>(1, 2)</td>\n",
       "      <td>0.813571</td>\n",
       "      <td>1.000000</td>\n",
       "    </tr>\n",
       "    <tr>\n",
       "      <th>...</th>\n",
       "      <td>...</td>\n",
       "      <td>...</td>\n",
       "      <td>...</td>\n",
       "      <td>...</td>\n",
       "      <td>...</td>\n",
       "      <td>...</td>\n",
       "    </tr>\n",
       "    <tr>\n",
       "      <th>163</th>\n",
       "      <td>manhattan</td>\n",
       "      <td>10</td>\n",
       "      <td>uniform</td>\n",
       "      <td>(1, 2)</td>\n",
       "      <td>0.602143</td>\n",
       "      <td>0.713810</td>\n",
       "    </tr>\n",
       "    <tr>\n",
       "      <th>164</th>\n",
       "      <td>manhattan</td>\n",
       "      <td>10</td>\n",
       "      <td>uniform</td>\n",
       "      <td>(1, 3)</td>\n",
       "      <td>0.537143</td>\n",
       "      <td>0.675873</td>\n",
       "    </tr>\n",
       "    <tr>\n",
       "      <th>165</th>\n",
       "      <td>manhattan</td>\n",
       "      <td>10</td>\n",
       "      <td>distance</td>\n",
       "      <td>(1, 1)</td>\n",
       "      <td>0.792143</td>\n",
       "      <td>1.000000</td>\n",
       "    </tr>\n",
       "    <tr>\n",
       "      <th>166</th>\n",
       "      <td>manhattan</td>\n",
       "      <td>10</td>\n",
       "      <td>distance</td>\n",
       "      <td>(1, 2)</td>\n",
       "      <td>0.770000</td>\n",
       "      <td>1.000000</td>\n",
       "    </tr>\n",
       "    <tr>\n",
       "      <th>167</th>\n",
       "      <td>manhattan</td>\n",
       "      <td>10</td>\n",
       "      <td>distance</td>\n",
       "      <td>(1, 3)</td>\n",
       "      <td>0.720714</td>\n",
       "      <td>1.000000</td>\n",
       "    </tr>\n",
       "  </tbody>\n",
       "</table>\n",
       "<p>168 rows × 6 columns</p>\n",
       "</div>"
      ],
      "text/plain": [
       "    clf__metric  clf__n_neighbors clf__weights tfidf__ngram_range  test_score  \\\n",
       "0     minkowski                 3      uniform             (1, 1)    0.736429   \n",
       "1     minkowski                 3      uniform             (1, 2)    0.741429   \n",
       "2     minkowski                 3      uniform             (1, 3)    0.733571   \n",
       "3     minkowski                 3     distance             (1, 1)    0.808571   \n",
       "4     minkowski                 3     distance             (1, 2)    0.813571   \n",
       "..          ...               ...          ...                ...         ...   \n",
       "163   manhattan                10      uniform             (1, 2)    0.602143   \n",
       "164   manhattan                10      uniform             (1, 3)    0.537143   \n",
       "165   manhattan                10     distance             (1, 1)    0.792143   \n",
       "166   manhattan                10     distance             (1, 2)    0.770000   \n",
       "167   manhattan                10     distance             (1, 3)    0.720714   \n",
       "\n",
       "     train_score  \n",
       "0       0.886667  \n",
       "1       0.889524  \n",
       "2       0.886270  \n",
       "3       1.000000  \n",
       "4       1.000000  \n",
       "..           ...  \n",
       "163     0.713810  \n",
       "164     0.675873  \n",
       "165     1.000000  \n",
       "166     1.000000  \n",
       "167     1.000000  \n",
       "\n",
       "[168 rows x 6 columns]"
      ]
     },
     "execution_count": 45,
     "metadata": {},
     "output_type": "execute_result"
    }
   ],
   "source": [
    "result_knn = pd.DataFrame(clf_knn.cv_results_['params'])\n",
    "result_knn['test_score'] = clf_knn.cv_results_['mean_test_score']\n",
    "result_knn['train_score'] = clf_knn.cv_results_['mean_train_score']\n",
    "result_knn"
   ]
  },
  {
   "cell_type": "code",
   "execution_count": 46,
   "id": "8bfe5f59",
   "metadata": {},
   "outputs": [
    {
     "name": "stdout",
     "output_type": "stream",
     "text": [
      "train time: 0.106s\n",
      "================================\n",
      "Hasil Score data train :  1.0\n",
      "Hasil Score data test :  0.835\n"
     ]
    }
   ],
   "source": [
    "from sklearn.model_selection import GridSearchCV\n",
    "\n",
    "t = time()\n",
    "#training the model\n",
    "knn = Pipeline([('tfidf', TfidfVectorizer(ngram_range=(1,3))),\n",
    "#                 ,norm='l1'\n",
    "# ,smooth_idf=True,sublinear_tf=True, use_idf=True\n",
    "#                  ('sampling',ADASYN()),\n",
    "                ('clf', KNeighborsClassifier(n_neighbors=8, metric='minkowski', weights='distance'))])\n",
    "# metric='minkowski', n_jobs=1, p=2, weights='distance',\n",
    "\n",
    "knn.fit(X_train,y_train)\n",
    "\n",
    "training_time = time() - t\n",
    "\n",
    "print(\"train time: %0.3fs\" % training_time)\n",
    "\n",
    "print(\"================================\")\n",
    "print(\"Hasil Score data train : \", knn.score(X_train,y_train))\n",
    "print(\"Hasil Score data test : \", knn.score(X_test,y_test))"
   ]
  },
  {
   "cell_type": "code",
   "execution_count": 47,
   "id": "af9b6e69",
   "metadata": {},
   "outputs": [
    {
     "name": "stdout",
     "output_type": "stream",
     "text": [
      "cross validation score [0.85714286 0.84285714 0.80714286 0.80714286 0.79285714 0.87857143\n",
      " 0.85       0.83571429 0.81428571 0.85      ]\n",
      "Average cross-validation Mean Score : 0.8336\n",
      "Average cross-validation Std Score : 0.0258\n"
     ]
    }
   ],
   "source": [
    "\n",
    "cv = KFold(n_splits=10, shuffle=True, random_state=1)\n",
    "accuracy = cross_val_score(knn, X_train, y_train, scoring = 'accuracy', cv = cv)\n",
    "print('cross validation score', accuracy)\n",
    "\n",
    "#compute average cross-validation score\n",
    "print('Average cross-validation Mean Score : {:.4f}'.format(accuracy.mean()))\n",
    "\n",
    "#compute average cross-validation score\n",
    "print('Average cross-validation Std Score : {:.4f}'.format(accuracy.std()))"
   ]
  },
  {
   "cell_type": "code",
   "execution_count": 48,
   "id": "9ac08d3b",
   "metadata": {},
   "outputs": [
    {
     "data": {
      "image/png": "[encoded data removed]",
      "text/plain": [
       "<Figure size 576x396 with 1 Axes>"
      ]
     },
     "metadata": {},
     "output_type": "display_data"
    },
    {
     "data": {
      "text/plain": [
       "<AxesSubplot:title={'center':'Cross Validation Scores for KNeighborsClassifier'}, xlabel='Training Instances', ylabel='Score'>"
      ]
     },
     "execution_count": 48,
     "metadata": {},
     "output_type": "execute_result"
    }
   ],
   "source": [
    "#!pip install yellowbrick\n",
    "\n",
    "from yellowbrick.model_selection import CVScores\n",
    "import warnings\n",
    "warnings.filterwarnings('ignore')\n",
    "\n",
    "cv = KFold(n_splits=10, shuffle=True, random_state=1)\n",
    "visualizer = CVScores(knn, cv=cv, scoring='accuracy',color=\"orange\")\n",
    "\n",
    "visualizer.fit(X_train,y_train)\n",
    "visualizer.show()"
   ]
  },
  {
   "cell_type": "code",
   "execution_count": 49,
   "id": "90c10df6",
   "metadata": {},
   "outputs": [
    {
     "name": "stdout",
     "output_type": "stream",
     "text": [
      "test time:  0.068s\n",
      "========================\n",
      "              precision    recall  f1-score   support\n",
      "\n",
      "           0       0.81      0.79      0.80       249\n",
      "           1       0.85      0.87      0.86       351\n",
      "\n",
      "    accuracy                           0.83       600\n",
      "   macro avg       0.83      0.83      0.83       600\n",
      "weighted avg       0.83      0.83      0.83       600\n",
      "\n",
      "\n",
      "\n",
      "Accuracy Score - KNN: 0.835\n"
     ]
    }
   ],
   "source": [
    "t = time()\n",
    "#get predictions from model\n",
    "\n",
    "#get predictions from model\n",
    "y_pred_knn = knn.predict(X_test)\n",
    "# y_pred_knn = clf_knn.predict(X_test)\n",
    "\n",
    "test_time = time() - t\n",
    "print(\"test time:  %0.3fs\" % test_time)\n",
    "print(\"========================\")\n",
    "\n",
    "print(classification_report(y_test, y_pred_knn))\n",
    "print('\\n')\n",
    "\n",
    "#print('BEST KNN MODEL')\n",
    "print('Accuracy Score - KNN:', metrics.accuracy_score(y_test, y_pred_knn)) \n",
    "#print('MAE Score:', mean_absolute_error(y_test, y_pred_knn)) \n",
    "#print('MSE Score', mean_squared_error(y_test, y_pred_knn))"
   ]
  },
  {
   "cell_type": "code",
   "execution_count": 50,
   "id": "81bd2b0d",
   "metadata": {},
   "outputs": [
    {
     "data": {
      "image/png": "[encoded data removed]",
      "text/plain": [
       "<Figure size 576x396 with 2 Axes>"
      ]
     },
     "metadata": {},
     "output_type": "display_data"
    },
    {
     "data": {
      "text/plain": [
       "<AxesSubplot:title={'center':'KNeighborsClassifier Classification Report'}>"
      ]
     },
     "execution_count": 50,
     "metadata": {},
     "output_type": "execute_result"
    }
   ],
   "source": [
    "from yellowbrick.classifier import ClassificationReport\n",
    "\n",
    "# Instantiate the classification model and visualizer\n",
    "visualizer = ClassificationReport(knn,support=True,cmap='Oranges')\n",
    "\n",
    "visualizer.fit(X_train, y_train)  # Fit the visualizer and the model\n",
    "visualizer.score(X_test, y_test)  # Evaluate the model on the test data\n",
    "visualizer.show()"
   ]
  },
  {
   "cell_type": "code",
   "execution_count": 51,
   "id": "c1659f7d",
   "metadata": {},
   "outputs": [
    {
     "data": {
      "text/html": [
       "<div>\n",
       "<style scoped>\n",
       "    .dataframe tbody tr th:only-of-type {\n",
       "        vertical-align: middle;\n",
       "    }\n",
       "\n",
       "    .dataframe tbody tr th {\n",
       "        vertical-align: top;\n",
       "    }\n",
       "\n",
       "    .dataframe thead th {\n",
       "        text-align: right;\n",
       "    }\n",
       "</style>\n",
       "<table border=\"1\" class=\"dataframe\">\n",
       "  <thead>\n",
       "    <tr style=\"text-align: right;\">\n",
       "      <th></th>\n",
       "      <th>negatif</th>\n",
       "      <th>positif</th>\n",
       "      <th>accuracy</th>\n",
       "      <th>macro avg</th>\n",
       "      <th>weighted avg</th>\n",
       "    </tr>\n",
       "  </thead>\n",
       "  <tbody>\n",
       "    <tr>\n",
       "      <th>precision</th>\n",
       "      <td>0.809917</td>\n",
       "      <td>0.851955</td>\n",
       "      <td>0.835</td>\n",
       "      <td>0.830936</td>\n",
       "      <td>0.834510</td>\n",
       "    </tr>\n",
       "    <tr>\n",
       "      <th>recall</th>\n",
       "      <td>0.787149</td>\n",
       "      <td>0.868946</td>\n",
       "      <td>0.835</td>\n",
       "      <td>0.828047</td>\n",
       "      <td>0.835000</td>\n",
       "    </tr>\n",
       "    <tr>\n",
       "      <th>f1-score</th>\n",
       "      <td>0.798371</td>\n",
       "      <td>0.860367</td>\n",
       "      <td>0.835</td>\n",
       "      <td>0.829369</td>\n",
       "      <td>0.834638</td>\n",
       "    </tr>\n",
       "    <tr>\n",
       "      <th>support</th>\n",
       "      <td>249.000000</td>\n",
       "      <td>351.000000</td>\n",
       "      <td>0.835</td>\n",
       "      <td>600.000000</td>\n",
       "      <td>600.000000</td>\n",
       "    </tr>\n",
       "  </tbody>\n",
       "</table>\n",
       "</div>"
      ],
      "text/plain": [
       "              negatif     positif  accuracy   macro avg  weighted avg\n",
       "precision    0.809917    0.851955     0.835    0.830936      0.834510\n",
       "recall       0.787149    0.868946     0.835    0.828047      0.835000\n",
       "f1-score     0.798371    0.860367     0.835    0.829369      0.834638\n",
       "support    249.000000  351.000000     0.835  600.000000    600.000000"
      ]
     },
     "metadata": {},
     "output_type": "display_data"
    },
    {
     "data": {
      "image/png": "[encoded data removed]",
      "text/plain": [
       "<Figure size 720x576 with 1 Axes>"
      ]
     },
     "metadata": {},
     "output_type": "display_data"
    }
   ],
   "source": [
    "#create labels to be used and columns for a confusion matrix downstream\n",
    "target_labels = ['negatif', 'positif']\n",
    "\n",
    "#store the classification report as a dictionary\n",
    "cr_dict = classification_report(y_test, y_pred_knn, target_names=target_labels, output_dict=True)\n",
    "\n",
    "#convert the classification report dictionary into a data frame\n",
    "cr_data = pd.DataFrame(cr_dict)\n",
    "display(cr_data)\n",
    "\n",
    "#plot the classification report scores\n",
    "ax = cr_data.iloc[:-1, :2].plot.bar(figsize=(10,8),color=['#d9534f','#5bc0de'])\n",
    "plt.title(\"KNN Classification Report\")\n",
    "plt.xlabel('Metrics', labelpad=20)\n",
    "\n",
    "#fix the x-tick mark rotation\n",
    "plt.xticks(rotation=0)\n",
    "\n",
    "#create custom y-tick marks and labels for percentage representation\n",
    "#create an array of even tick marks from 0 to 1\n",
    "percent_ticks = np.linspace(0,1,11, endpoint=True)\n",
    "\n",
    "#create a list of strings representing the percentage at each tick\n",
    "percent_labels = [f'{int(t*100)}%' for t in percent_ticks]\n",
    "plt.yticks(ticks=percent_ticks,labels=percent_labels)\n",
    "plt.ylabel('Percentage (%)')\n",
    "plt.margins(0.2,0.2)\n",
    "\n",
    "for p in ax.patches:\n",
    "    ax.annotate(\n",
    "        \"{}%\".format(str(np.round(p.get_height()*100, 2))),\n",
    "        xy=(p.get_x()*1+p.get_width()/2, p.get_height()*1.02),\n",
    "        ha='center',\n",
    "    )"
   ]
  },
  {
   "cell_type": "code",
   "execution_count": 52,
   "id": "6405adb4",
   "metadata": {},
   "outputs": [
    {
     "name": "stdout",
     "output_type": "stream",
     "text": [
      "[[196  53]\n",
      " [ 46 305]]\n"
     ]
    }
   ],
   "source": [
    "from sklearn.metrics import confusion_matrix\n",
    "cm_knn = confusion_matrix(y_test, y_pred_knn)\n",
    "print(cm_knn)"
   ]
  },
  {
   "cell_type": "code",
   "execution_count": 53,
   "id": "decf480d",
   "metadata": {},
   "outputs": [],
   "source": [
    "def calculate_sensitivity_specificity(y_test, y_pred_test):\n",
    "    # Note: More parameters are defined than necessary. \n",
    "    # This would allow return of other measures other than sensitivity and specificity\n",
    "    \n",
    "    # Get true/false for whether a breach actually occurred\n",
    "    actual_pos = y_test == 1\n",
    "    actual_neg = y_test == 0\n",
    "    \n",
    "    # Get true and false test (true test match actual, false tests differ from actual)\n",
    "    true_pos = (y_pred_knn == 1) & (actual_pos)\n",
    "    false_pos = (y_pred_knn == 1) & (actual_neg)\n",
    "    true_neg = (y_pred_knn == 0) & (actual_neg)\n",
    "    false_neg = (y_pred_knn == 0) & (actual_pos)\n",
    "    \n",
    "    # Calculate accuracy\n",
    "    accuracy_knn = np.mean(y_pred_test == y_test)\n",
    "    \n",
    "    # Calculate sensitivity and specificity\n",
    "    sensitivity_knn = np.sum(true_pos) / np.sum(actual_pos)\n",
    "    specificity_knn = np.sum(true_neg) / np.sum(actual_neg)\n",
    "    \n",
    "    return sensitivity_knn, specificity_knn, accuracy_knn"
   ]
  },
  {
   "cell_type": "code",
   "execution_count": 54,
   "id": "b5f52a9a",
   "metadata": {},
   "outputs": [
    {
     "name": "stdout",
     "output_type": "stream",
     "text": [
      "Sensitivity: 0.8689458689458689\n",
      "Specificity: 0.7871485943775101\n",
      "Accuracy: 0.835\n"
     ]
    }
   ],
   "source": [
    "sensitivity_knn, specificity_knn, accuracy_knn = calculate_sensitivity_specificity(y_test, y_pred_knn)\n",
    "print ('Sensitivity:', sensitivity_knn)\n",
    "print ('Specificity:', specificity_knn)\n",
    "print ('Accuracy:', accuracy_knn)"
   ]
  },
  {
   "cell_type": "code",
   "execution_count": 55,
   "id": "1acc22af",
   "metadata": {},
   "outputs": [
    {
     "data": {
      "text/plain": [
       "<AxesSubplot:>"
      ]
     },
     "execution_count": 55,
     "metadata": {},
     "output_type": "execute_result"
    },
    {
     "data": {
      "image/png": "[encoded data removed]",
      "text/plain": [
       "<Figure size 576x396 with 2 Axes>"
      ]
     },
     "metadata": {},
     "output_type": "display_data"
    }
   ],
   "source": [
    "import seaborn as sns\n",
    "\n",
    "group_names = ['True Neg','False Pos','False Neg','True Pos']\n",
    "group_counts = [\"{0:0.0f}\".format(value) for value in\n",
    "                cm_knn.flatten()]\n",
    "group_percentages = [\"{0:.2%}\".format(value) for value in\n",
    "                     cm_knn.flatten()/np.sum(cm_knn)]\n",
    "labels = [f\"{v1}\\n{v2}\\n{v3}\" for v1, v2, v3 in\n",
    "          zip(group_names,group_counts,group_percentages)]\n",
    "labels = np.asarray(labels).reshape(2,2)\n",
    "sns.heatmap(cm_knn, annot=labels, fmt='', cmap='Oranges')"
   ]
  },
  {
   "cell_type": "code",
   "execution_count": 56,
   "id": "f48d86c7",
   "metadata": {},
   "outputs": [
    {
     "data": {
      "text/html": [
       "<div>\n",
       "<style scoped>\n",
       "    .dataframe tbody tr th:only-of-type {\n",
       "        vertical-align: middle;\n",
       "    }\n",
       "\n",
       "    .dataframe tbody tr th {\n",
       "        vertical-align: top;\n",
       "    }\n",
       "\n",
       "    .dataframe thead th {\n",
       "        text-align: right;\n",
       "    }\n",
       "</style>\n",
       "<table border=\"1\" class=\"dataframe\">\n",
       "  <thead>\n",
       "    <tr style=\"text-align: right;\">\n",
       "      <th></th>\n",
       "      <th>MNB</th>\n",
       "      <th>SVM</th>\n",
       "      <th>KNN</th>\n",
       "    </tr>\n",
       "  </thead>\n",
       "  <tbody>\n",
       "    <tr>\n",
       "      <th>Accuracy</th>\n",
       "      <td>0.828333</td>\n",
       "      <td>0.858333</td>\n",
       "      <td>0.835</td>\n",
       "    </tr>\n",
       "  </tbody>\n",
       "</table>\n",
       "</div>"
      ],
      "text/plain": [
       "               MNB       SVM    KNN\n",
       "Accuracy  0.828333  0.858333  0.835"
      ]
     },
     "metadata": {},
     "output_type": "display_data"
    },
    {
     "data": {
      "image/png": "[encoded data removed]",
      "text/plain": [
       "<Figure size 720x576 with 1 Axes>"
      ]
     },
     "metadata": {},
     "output_type": "display_data"
    }
   ],
   "source": [
    "#store the classification report as a dictionary\n",
    "clf_mnb = metrics.accuracy_score(y_test, y_pred_mnb)\n",
    "clf_svm = metrics.accuracy_score(y_test, y_pred_svm)\n",
    "clf_knn = metrics.accuracy_score(y_test, y_pred_knn)\n",
    "cr_dict = [clf_mnb, clf_svm, clf_knn]\n",
    "\n",
    "#convert the classification report dictionary into a data frame\n",
    "cr_data = pd.DataFrame({\n",
    "    \"MNB\":[clf_mnb],\n",
    "    \"SVM\":[clf_svm],\n",
    "    \"KNN\":[clf_knn],\n",
    "},\n",
    "index = [\"Accuracy\"])\n",
    "display(cr_data)\n",
    "\n",
    "ax = cr_data.plot.bar(figsize=(10,8),color=['#ad5389','#004e92', '#ff9068'])\n",
    "#plt.bar(cr_data, figsize=(10,8),color=['#5bc0de', '#d8634f'])\n",
    "plt.title(\"Comparison Accuracy Models Report Using Tuning Hyperparameter sekolah tatap muka 20 : 80\")\n",
    "plt.xlabel('Metric', labelpad=20)\n",
    "\n",
    "#fix the x-tick mark rotation\n",
    "plt.xticks(rotation=0)\n",
    "\n",
    "#create custom y-tick marks and labels for percentage representation\n",
    "#create an array of even tick marks from 0 to 1\n",
    "percent_ticks = np.linspace(0,1,11, endpoint=True)\n",
    "\n",
    "#create a list of strings representing the percentage at each tick\n",
    "percent_labels = [f'{int(t*100)}%' for t in percent_ticks]\n",
    "plt.yticks(ticks=percent_ticks,labels=percent_labels)\n",
    "plt.ylabel('Accuracy Percentage (%)')\n",
    "\n",
    "for p in ax.patches:\n",
    "    ax.annotate(\n",
    "        \"{}%\".format(str(np.round(p.get_height()*100, 2))),\n",
    "        xy=(p.get_x()*1+p.get_width()/2, p.get_height()*1.02),\n",
    "        ha='center')"
   ]
  },
  {
   "cell_type": "code",
   "execution_count": 57,
   "id": "29c85621",
   "metadata": {},
   "outputs": [
    {
     "name": "stdout",
     "output_type": "stream",
     "text": [
      "MultinomialNB\n",
      "--------------------------\n",
      "Accuracy: 0.828\n",
      "Precision: 0.839\n",
      "Recall: 0.875\n",
      "F-Measure: 0.856\n",
      "==========================\n",
      "SVM\n",
      "--------------------------\n",
      "Accuracy: 0.858\n",
      "Precision: 0.878\n",
      "Recall: 0.880\n",
      "F-Measure: 0.879\n",
      "==========================\n",
      "KNN\n",
      "--------------------------\n",
      "Accuracy: 0.835\n",
      "Precision: 0.852\n",
      "Recall: 0.869\n",
      "F-Measure: 0.860\n",
      "==========================\n"
     ]
    }
   ],
   "source": [
    "from sklearn.metrics import precision_score\n",
    "from sklearn.metrics import recall_score\n",
    "from sklearn.metrics import f1_score\n",
    "\n",
    "#NB\n",
    "print(\"MultinomialNB\")\n",
    "print(\"--------------------------\")\n",
    "accuracy_mnb = accuracy_score(y_test, y_pred_mnb)\n",
    "print('Accuracy: %.3f' % accuracy_mnb)\n",
    "precision_mnb = precision_score(y_test, y_pred_mnb, average='binary')\n",
    "print('Precision: %.3f' % precision_mnb)\n",
    "recall_mnb = recall_score(y_test, y_pred_mnb, average='binary')\n",
    "print('Recall: %.3f' % recall_mnb)\n",
    "score_mnb = f1_score(y_test, y_pred_mnb, average='binary')\n",
    "print('F-Measure: %.3f' % score_mnb)\n",
    "print(\"==========================\")\n",
    "#====================\n",
    "#SVM\n",
    "print(\"SVM\")\n",
    "print(\"--------------------------\")\n",
    "accuracy_svm = accuracy_score(y_test, y_pred_svm)\n",
    "print('Accuracy: %.3f' % accuracy_svm)\n",
    "precision_svm = precision_score(y_test, y_pred_svm, average='binary')\n",
    "print('Precision: %.3f' % precision_svm)\n",
    "recall_svm = recall_score(y_test, y_pred_svm, average='binary')\n",
    "print('Recall: %.3f' % recall_svm)\n",
    "score_svm = f1_score(y_test, y_pred_svm, average='binary')\n",
    "print('F-Measure: %.3f' % score_svm)\n",
    "print(\"==========================\")\n",
    "#====================\n",
    "#KNN\n",
    "print(\"KNN\")\n",
    "print(\"--------------------------\")\n",
    "accuracy_knn = accuracy_score(y_test, y_pred_knn)\n",
    "print('Accuracy: %.3f' % accuracy_knn)\n",
    "precision_knn = precision_score(y_test, y_pred_knn, average='binary')\n",
    "print('Precision: %.3f' % precision_knn)\n",
    "recall_knn = recall_score(y_test, y_pred_knn, average='binary')\n",
    "print('Recall: %.3f' % recall_knn)\n",
    "score_knn = f1_score(y_test, y_pred_knn, average='binary')\n",
    "print('F-Measure: %.3f' % score_knn)\n",
    "print(\"==========================\")\n",
    "#====================="
   ]
  },
  {
   "cell_type": "code",
   "execution_count": 58,
   "id": "ea761c16",
   "metadata": {},
   "outputs": [],
   "source": [
    "acc_tuning_2080_sekolah = [accuracy_mnb,accuracy_svm,accuracy_knn]"
   ]
  },
  {
   "cell_type": "code",
   "execution_count": 59,
   "id": "fe3efc4a",
   "metadata": {},
   "outputs": [
    {
     "data": {
      "text/html": [
       "<div>\n",
       "<style scoped>\n",
       "    .dataframe tbody tr th:only-of-type {\n",
       "        vertical-align: middle;\n",
       "    }\n",
       "\n",
       "    .dataframe tbody tr th {\n",
       "        vertical-align: top;\n",
       "    }\n",
       "\n",
       "    .dataframe thead th {\n",
       "        text-align: right;\n",
       "    }\n",
       "</style>\n",
       "<table border=\"1\" class=\"dataframe\">\n",
       "  <thead>\n",
       "    <tr style=\"text-align: right;\">\n",
       "      <th></th>\n",
       "      <th>MNB</th>\n",
       "      <th>SVM</th>\n",
       "      <th>KNN</th>\n",
       "    </tr>\n",
       "  </thead>\n",
       "  <tbody>\n",
       "    <tr>\n",
       "      <th>accuracy</th>\n",
       "      <td>0.828333</td>\n",
       "      <td>0.858333</td>\n",
       "      <td>0.835000</td>\n",
       "    </tr>\n",
       "    <tr>\n",
       "      <th>precision</th>\n",
       "      <td>0.838798</td>\n",
       "      <td>0.877841</td>\n",
       "      <td>0.851955</td>\n",
       "    </tr>\n",
       "    <tr>\n",
       "      <th>recall</th>\n",
       "      <td>0.874644</td>\n",
       "      <td>0.874644</td>\n",
       "      <td>0.874644</td>\n",
       "    </tr>\n",
       "    <tr>\n",
       "      <th>f1-score</th>\n",
       "      <td>0.856346</td>\n",
       "      <td>0.879090</td>\n",
       "      <td>0.860367</td>\n",
       "    </tr>\n",
       "  </tbody>\n",
       "</table>\n",
       "</div>"
      ],
      "text/plain": [
       "                MNB       SVM       KNN\n",
       "accuracy   0.828333  0.858333  0.835000\n",
       "precision  0.838798  0.877841  0.851955\n",
       "recall     0.874644  0.874644  0.874644\n",
       "f1-score   0.856346  0.879090  0.860367"
      ]
     },
     "metadata": {},
     "output_type": "display_data"
    }
   ],
   "source": [
    "#convert the classification report dictionary into a data frame\n",
    "cr_data = pd.DataFrame({\n",
    "    \"MNB\":[accuracy_mnb,precision_mnb,recall_mnb,score_mnb],\n",
    "    \"SVM\":[accuracy_svm,precision_svm,recall_mnb,score_svm],\n",
    "    \"KNN\":[accuracy_knn,precision_knn,recall_mnb,score_knn],\n",
    "},\n",
    "index = [\"accuracy\",\"precision\",\"recall\",\"f1-score\"])\n",
    "display(cr_data)"
   ]
  },
  {
   "cell_type": "code",
   "execution_count": 60,
   "id": "f2c8dc3c",
   "metadata": {},
   "outputs": [
    {
     "data": {
      "image/png": "[encoded data removed]",
      "text/plain": [
       "<Figure size 1440x720 with 1 Axes>"
      ]
     },
     "metadata": {},
     "output_type": "display_data"
    }
   ],
   "source": [
    "\n",
    "#plot the classification report scores\n",
    "ax = cr_data.iloc[:, :4].plot.bar(figsize=(20,10),color=['#77A1D3','#eaafc8', '#BE93C5'])\n",
    "plt.title(\"sentimen Perbandingan Model lassification Report sekolah tatap muka80:20 Hyperparameter Tuning GridSearchCV\", fontsize=18,ha='center')\n",
    "plt.xlabel('Metrik Performa', labelpad=20, fontsize=16,ha='center')\n",
    "\n",
    "#fix the x-tick mark rotation\n",
    "plt.xticks(rotation=0)\n",
    "\n",
    "#create custom y-tick marks and labels for percentage representation\n",
    "#create an array of even tick marks from 0 to 1\n",
    "percent_ticks = np.linspace(0,1,11, endpoint=True)\n",
    "\n",
    "#create a list of strings representing the percentage at each tick\n",
    "percent_labels = [f'{int(t*100)}%' for t in percent_ticks]\n",
    "plt.yticks(ticks=percent_ticks,labels=percent_labels)\n",
    "plt.ylabel('Persentase (%)', fontsize=16,ha='center')\n",
    "plt.margins(0.2,0.2)\n",
    "\n",
    "for p in ax.patches:\n",
    "    ax.annotate(\n",
    "        \"{}%\".format(str(np.round(p.get_height()*100, 2))),\n",
    "        xy=(p.get_x()*1+p.get_width()/2, p.get_height()*1.02),\n",
    "         fontsize=16, ha='center',\n",
    "    )"
   ]
  },
  {
   "cell_type": "code",
   "execution_count": null,
   "id": "cc6c5f1a",
   "metadata": {},
   "outputs": [],
   "source": []
  },
  {
   "cell_type": "code",
   "execution_count": null,
   "id": "0f4f7525",
   "metadata": {},
   "outputs": [],
   "source": []
  },
  {
   "cell_type": "code",
   "execution_count": null,
   "id": "56078dd3",
   "metadata": {},
   "outputs": [],
   "source": []
  },
  {
   "cell_type": "code",
   "execution_count": null,
   "id": "6142e72e",
   "metadata": {},
   "outputs": [],
   "source": []
  }
 ],
 "metadata": {
  "kernelspec": {
   "display_name": "Python 3",
   "language": "python",
   "name": "python3"
  },
  "language_info": {
   "codemirror_mode": {
    "name": "ipython",
    "version": 3
   },
   "file_extension": ".py",
   "mimetype": "text/x-python",
   "name": "python",
   "nbconvert_exporter": "python",
   "pygments_lexer": "ipython3",
   "version": "3.8.8"
  }
 },
 "nbformat": 4,
 "nbformat_minor": 5
}
